{
 "cells": [
  {
   "cell_type": "markdown",
   "metadata": {},
   "source": [
    "# Querying Data\n",
    "Queries are what SQL does best. A query is a request for data or information from a database table or combination of tables. \n",
    "\n",
    "These exercises will use the cities.ddb database. The data for this has been taken from https://simplemaps.com/data/world-cities. If you are really interested you can see the processing that has gone on to create the cities databse in `setup\\create_cities.ipynb`.\n",
    "\n",
    "The cities.ddb database has just one table: `cities`.\n",
    "\n",
    "## Part 1: Basic SELECT queries\n",
    "**The code below:**\n",
    "- Imports the duckdb library (this has to run once per session)\n",
    "- Connects to the database using the duckdb library\n",
    "- Runs a simple query to select all columns from the cities table\n",
    "- Shows the results of the query"
   ]
  },
  {
   "cell_type": "code",
   "execution_count": 41,
   "metadata": {},
   "outputs": [
    {
     "name": "stdout",
     "output_type": "stream",
     "text": [
      "The sql extension is already loaded. To reload it, use:\n",
      "  %reload_ext sql\n"
     ]
    }
   ],
   "source": [
    "# You just have to run this cell once to load the database.\n",
    "import duckdb\n",
    "\n",
    "# Note we are using the cities.ddb database. This should already be in your data folder, but if not you can \n",
    "# re-create it by opening the setup notebook (setup/create_cities.ipynb) and running the cells there.\n",
    "%load_ext sql\n",
    "conn = duckdb.connect('cities.ddb')\n",
    "%sql conn --alias duckdb\n",
    "\n",
    "# Adding to the display limit to be able to see more results of our queries\n",
    "%config SqlMagic.displaylimit = 50\n",
    "\n",
    "%config SqlMagic.autopandas = True\n",
    "%config SqlMagic.feedback = False\n",
    "%config SqlMagic.displaycon = False\n",
    "# This last line seems to be needed for Mac. Maybe windows too - who knows?\n",
    "%config SqlMagic.style = \"_DEPRECATED_MARKDOWN\"\n"
   ]
  },
  {
   "cell_type": "code",
   "execution_count": 42,
   "metadata": {
    "vscode": {
     "languageId": "sql"
    }
   },
   "outputs": [
    {
     "data": {
      "text/html": [
       "<div>\n",
       "<style scoped>\n",
       "    .dataframe tbody tr th:only-of-type {\n",
       "        vertical-align: middle;\n",
       "    }\n",
       "\n",
       "    .dataframe tbody tr th {\n",
       "        vertical-align: top;\n",
       "    }\n",
       "\n",
       "    .dataframe thead th {\n",
       "        text-align: right;\n",
       "    }\n",
       "</style>\n",
       "<table border=\"1\" class=\"dataframe\">\n",
       "  <thead>\n",
       "    <tr style=\"text-align: right;\">\n",
       "      <th></th>\n",
       "      <th>city</th>\n",
       "      <th>lat</th>\n",
       "      <th>lng</th>\n",
       "      <th>country</th>\n",
       "      <th>country_code</th>\n",
       "      <th>capital</th>\n",
       "      <th>population</th>\n",
       "    </tr>\n",
       "  </thead>\n",
       "  <tbody>\n",
       "    <tr>\n",
       "      <th>0</th>\n",
       "      <td>Tokyo</td>\n",
       "      <td>35.6897</td>\n",
       "      <td>139.6922</td>\n",
       "      <td>Japan</td>\n",
       "      <td>JPN</td>\n",
       "      <td>primary</td>\n",
       "      <td>37732000</td>\n",
       "    </tr>\n",
       "    <tr>\n",
       "      <th>1</th>\n",
       "      <td>Jakarta</td>\n",
       "      <td>-6.1750</td>\n",
       "      <td>106.8275</td>\n",
       "      <td>Indonesia</td>\n",
       "      <td>IDN</td>\n",
       "      <td>primary</td>\n",
       "      <td>33756000</td>\n",
       "    </tr>\n",
       "    <tr>\n",
       "      <th>2</th>\n",
       "      <td>Delhi</td>\n",
       "      <td>28.6100</td>\n",
       "      <td>77.2300</td>\n",
       "      <td>India</td>\n",
       "      <td>IND</td>\n",
       "      <td>admin</td>\n",
       "      <td>32226000</td>\n",
       "    </tr>\n",
       "    <tr>\n",
       "      <th>3</th>\n",
       "      <td>Guangzhou</td>\n",
       "      <td>23.1300</td>\n",
       "      <td>113.2600</td>\n",
       "      <td>China</td>\n",
       "      <td>CHN</td>\n",
       "      <td>admin</td>\n",
       "      <td>26940000</td>\n",
       "    </tr>\n",
       "    <tr>\n",
       "      <th>4</th>\n",
       "      <td>Mumbai</td>\n",
       "      <td>19.0761</td>\n",
       "      <td>72.8775</td>\n",
       "      <td>India</td>\n",
       "      <td>IND</td>\n",
       "      <td>admin</td>\n",
       "      <td>24973000</td>\n",
       "    </tr>\n",
       "    <tr>\n",
       "      <th>...</th>\n",
       "      <td>...</td>\n",
       "      <td>...</td>\n",
       "      <td>...</td>\n",
       "      <td>...</td>\n",
       "      <td>...</td>\n",
       "      <td>...</td>\n",
       "      <td>...</td>\n",
       "    </tr>\n",
       "    <tr>\n",
       "      <th>46743</th>\n",
       "      <td>Palé</td>\n",
       "      <td>-1.4069</td>\n",
       "      <td>5.6322</td>\n",
       "      <td>Equatorial Guinea</td>\n",
       "      <td>GNQ</td>\n",
       "      <td>admin</td>\n",
       "      <td>5008</td>\n",
       "    </tr>\n",
       "    <tr>\n",
       "      <th>46744</th>\n",
       "      <td>Žalec</td>\n",
       "      <td>46.2510</td>\n",
       "      <td>15.1639</td>\n",
       "      <td>Slovenia</td>\n",
       "      <td>SVN</td>\n",
       "      <td>admin</td>\n",
       "      <td>5004</td>\n",
       "    </tr>\n",
       "    <tr>\n",
       "      <th>46745</th>\n",
       "      <td>Puerto Casado</td>\n",
       "      <td>-22.2896</td>\n",
       "      <td>-57.9400</td>\n",
       "      <td>Paraguay</td>\n",
       "      <td>PRY</td>\n",
       "      <td>None</td>\n",
       "      <td>5000</td>\n",
       "    </tr>\n",
       "    <tr>\n",
       "      <th>46746</th>\n",
       "      <td>Singleton</td>\n",
       "      <td>-32.5667</td>\n",
       "      <td>151.1697</td>\n",
       "      <td>Australia</td>\n",
       "      <td>AUS</td>\n",
       "      <td>None</td>\n",
       "      <td>5000</td>\n",
       "    </tr>\n",
       "    <tr>\n",
       "      <th>46747</th>\n",
       "      <td>Qaşr al Farāfirah</td>\n",
       "      <td>27.0583</td>\n",
       "      <td>27.9700</td>\n",
       "      <td>Egypt</td>\n",
       "      <td>EGY</td>\n",
       "      <td>None</td>\n",
       "      <td>5000</td>\n",
       "    </tr>\n",
       "  </tbody>\n",
       "</table>\n",
       "<p>46748 rows × 7 columns</p>\n",
       "</div>"
      ],
      "text/plain": [
       "                    city      lat       lng            country country_code  \\\n",
       "0                  Tokyo  35.6897  139.6922              Japan          JPN   \n",
       "1                Jakarta  -6.1750  106.8275          Indonesia          IDN   \n",
       "2                  Delhi  28.6100   77.2300              India          IND   \n",
       "3              Guangzhou  23.1300  113.2600              China          CHN   \n",
       "4                 Mumbai  19.0761   72.8775              India          IND   \n",
       "...                  ...      ...       ...                ...          ...   \n",
       "46743               Palé  -1.4069    5.6322  Equatorial Guinea          GNQ   \n",
       "46744              Žalec  46.2510   15.1639           Slovenia          SVN   \n",
       "46745      Puerto Casado -22.2896  -57.9400           Paraguay          PRY   \n",
       "46746          Singleton -32.5667  151.1697          Australia          AUS   \n",
       "46747  Qaşr al Farāfirah  27.0583   27.9700              Egypt          EGY   \n",
       "\n",
       "       capital  population  \n",
       "0      primary    37732000  \n",
       "1      primary    33756000  \n",
       "2        admin    32226000  \n",
       "3        admin    26940000  \n",
       "4        admin    24973000  \n",
       "...        ...         ...  \n",
       "46743    admin        5008  \n",
       "46744    admin        5004  \n",
       "46745     None        5000  \n",
       "46746     None        5000  \n",
       "46747     None        5000  \n",
       "\n",
       "[46748 rows x 7 columns]"
      ]
     },
     "execution_count": 42,
     "metadata": {},
     "output_type": "execute_result"
    }
   ],
   "source": [
    "%%sql\n",
    "\n",
    "SELECT * \n",
    "FROM cities;\n"
   ]
  },
  {
   "cell_type": "markdown",
   "metadata": {},
   "source": [
    "## Things to notice: ##\n",
    "- The query is a string that is passed to the `execute` method of the connection object\n",
    "- The cities table has 7 columns: `city`, `lat`, `lng`, `country`, `country_code`, `capital` and `population`\n",
    "- Each column shows its data type:\n",
    "    - `city`, `country`, `country_code`, `capital` are all VARCHAR, which means they store text data\n",
    "    - `lat`, `lng`: are both `DOUBLE`, which means they store floating point or decimal numbers\n",
    "    - `population`: `INTEGER`, which means it stores whole numbers\n",
    "- You can see 20 rows from the table, but it is clear there are more. *Would be interesting to see how many rows there are in total.*\n",
    "\n",
    "## Next we will... ##\n",
    "- Write a query to count the number of rows in the cities table (using `COUNT(*)`)\n",
    "- Find the city names and population for cities in Australia\n",
    "- Order the Australian cities by latitude\n"
   ]
  },
  {
   "cell_type": "code",
   "execution_count": null,
   "metadata": {
    "vscode": {
     "languageId": "sql"
    }
   },
   "outputs": [],
   "source": [
    "%%sql\n",
    "-- Counting the number of rows in the table. \n",
    "\n",
    "SELECT COUNT(*)\n",
    "FROM cities;"
   ]
  },
  {
   "cell_type": "code",
   "execution_count": null,
   "metadata": {
    "vscode": {
     "languageId": "sql"
    }
   },
   "outputs": [],
   "source": [
    "%%sql\n",
    "-- Finding the Australian cities in the table.\n",
    "            SELECT city, population \n",
    "            FROM cities\n",
    "            WHERE country_code = 'AUS'; "
   ]
  },
  {
   "cell_type": "code",
   "execution_count": null,
   "metadata": {
    "vscode": {
     "languageId": "sql"
    }
   },
   "outputs": [],
   "source": [
    "%%sql\n",
    "-- Modifying our query to return the cities in order. \n",
    "\n",
    "-- Finding the Australian cities in the table.\n",
    "\n",
    "SELECT city, population, lat \n",
    "FROM cities\n",
    "WHERE country_code = 'AUS'\n",
    "ORDER BY lat;"
   ]
  },
  {
   "cell_type": "markdown",
   "metadata": {},
   "source": [
    "## Your Turn ##\n",
    "Write queries to:\n",
    "- Find all the capital cities in the world (capital = 'primary')\n",
    "- Find the cities in Germany, ordered by longitude"
   ]
  },
  {
   "cell_type": "code",
   "execution_count": null,
   "metadata": {
    "vscode": {
     "languageId": "sql"
    }
   },
   "outputs": [],
   "source": [
    "%%sql\n",
    "-- All the capital cities in the table\n"
   ]
  },
  {
   "cell_type": "code",
   "execution_count": null,
   "metadata": {
    "vscode": {
     "languageId": "sql"
    }
   },
   "outputs": [],
   "source": [
    "%%sql\n",
    "-- Cities in Germany ordered by longitude.\n"
   ]
  },
  {
   "cell_type": "markdown",
   "metadata": {},
   "source": [
    "## Aggregate Functions in SQL ##\n",
    "Aggregate functions are used to perform calculations on a set of values to return a single value. We already used a simple aggregate function in the previous exercise: `COUNT(*)`. \n",
    "\n",
    "**Aggregate functions include:**\n",
    "- `COUNT()`: returns the number of rows that match a specified criteria\n",
    "- `SUM()`: returns the sum of all values in a column\n",
    "- `AVG()`: returns the average *(mean)* of all values in a column\n",
    "- `MIN()`: returns the minimum value in a column\n",
    "- `MAX()`: returns the maximum value in a column\n",
    "Note that for any of the functions besides `COUNT()`, you need to specify the column you want to perform the calculation on.\n",
    "\n",
    "**The code below shows:**\n",
    "- Larget (`MAX`) population of a city in the table\n",
    "- Total (`SUM`) population of all cities in the table\n",
    "- Average (`AVG`) population of US cities in the table"
   ]
  },
  {
   "cell_type": "code",
   "execution_count": null,
   "metadata": {
    "vscode": {
     "languageId": "sql"
    }
   },
   "outputs": [],
   "source": [
    "%%sql\n",
    "\n",
    "-- Example:\n",
    "--  * Largest population in the table.\n",
    "SELECT MAX(population) AS Largest_Population\n",
    "FROM cities;"
   ]
  },
  {
   "cell_type": "code",
   "execution_count": null,
   "metadata": {
    "vscode": {
     "languageId": "sql"
    }
   },
   "outputs": [],
   "source": [
    "%%sql\n",
    "\n",
    "-- Example:\n",
    "--  * Total population from all cities in the table.\n",
    "SELECT SUM(population) AS Total_Population\n",
    "FROM cities;\n",
    "        \n"
   ]
  },
  {
   "cell_type": "code",
   "execution_count": null,
   "metadata": {
    "vscode": {
     "languageId": "sql"
    }
   },
   "outputs": [],
   "source": [
    "%%sql\n",
    "SELECT AVG(population) AS Average_US_City_Population\n",
    "FROM cities\n",
    "where country_code = 'USA';"
   ]
  },
  {
   "cell_type": "markdown",
   "metadata": {},
   "source": [
    "## Now You Try ##\n",
    "Write queries to:\n",
    "- Find the minimum population in the database\n",
    "- Find the total population of cities in Australia\n",
    "- Find how many cities from Canada are in the database\n"
   ]
  },
  {
   "cell_type": "code",
   "execution_count": null,
   "metadata": {
    "vscode": {
     "languageId": "sql"
    }
   },
   "outputs": [],
   "source": [
    "\n",
    "%%sql\n",
    "-- Min population in the cities table\n",
    "\n"
   ]
  },
  {
   "cell_type": "code",
   "execution_count": null,
   "metadata": {
    "vscode": {
     "languageId": "sql"
    }
   },
   "outputs": [],
   "source": [
    "%%sql\n",
    "-- Total population of cities in Australia\n"
   ]
  },
  {
   "cell_type": "code",
   "execution_count": null,
   "metadata": {
    "vscode": {
     "languageId": "sql"
    }
   },
   "outputs": [],
   "source": [
    "%%sql\n",
    "-- Count the number of cities in the table from Canada\n"
   ]
  },
  {
   "cell_type": "markdown",
   "metadata": {},
   "source": [
    "## GROUP BY ##\n",
    "The `GROUP BY` statement is  with aggregate functions to group the result-set by one or more columns. Instead of performing a calculation on all the rows, you can perform it on groups of rows that have the same value in one or more columns.\n",
    "\n",
    "The order of SQL statements is important. The `GROUP BY` statement must come after any `WHERE` statements, but before an `ORDER BY` statement.\n",
    "\n",
    "**The code below shows:**\n",
    "- The total population of the cities in each country in the database, in order alphabetically by country\n",
    "- The average latitude and the standard deviation of the latitude of cities in each country\n",
    "- The total and average population of cities based on the first letter of their name"
   ]
  },
  {
   "cell_type": "code",
   "execution_count": 36,
   "metadata": {
    "vscode": {
     "languageId": "sql"
    }
   },
   "outputs": [
    {
     "data": {
      "text/html": [
       "<div>\n",
       "<style scoped>\n",
       "    .dataframe tbody tr th:only-of-type {\n",
       "        vertical-align: middle;\n",
       "    }\n",
       "\n",
       "    .dataframe tbody tr th {\n",
       "        vertical-align: top;\n",
       "    }\n",
       "\n",
       "    .dataframe thead th {\n",
       "        text-align: right;\n",
       "    }\n",
       "</style>\n",
       "<table border=\"1\" class=\"dataframe\">\n",
       "  <thead>\n",
       "    <tr style=\"text-align: right;\">\n",
       "      <th></th>\n",
       "      <th>country</th>\n",
       "      <th>Total_Population</th>\n",
       "    </tr>\n",
       "  </thead>\n",
       "  <tbody>\n",
       "    <tr>\n",
       "      <th>0</th>\n",
       "      <td>Afghanistan</td>\n",
       "      <td>10379477.0</td>\n",
       "    </tr>\n",
       "    <tr>\n",
       "      <th>1</th>\n",
       "      <td>Albania</td>\n",
       "      <td>1634429.0</td>\n",
       "    </tr>\n",
       "    <tr>\n",
       "      <th>2</th>\n",
       "      <td>Algeria</td>\n",
       "      <td>24401413.0</td>\n",
       "    </tr>\n",
       "    <tr>\n",
       "      <th>3</th>\n",
       "      <td>American Samoa</td>\n",
       "      <td>12576.0</td>\n",
       "    </tr>\n",
       "    <tr>\n",
       "      <th>4</th>\n",
       "      <td>Andorra</td>\n",
       "      <td>75654.0</td>\n",
       "    </tr>\n",
       "    <tr>\n",
       "      <th>...</th>\n",
       "      <td>...</td>\n",
       "      <td>...</td>\n",
       "    </tr>\n",
       "    <tr>\n",
       "      <th>216</th>\n",
       "      <td>Virgin Islands, British</td>\n",
       "      <td>12603.0</td>\n",
       "    </tr>\n",
       "    <tr>\n",
       "      <th>217</th>\n",
       "      <td>West Bank</td>\n",
       "      <td>861080.0</td>\n",
       "    </tr>\n",
       "    <tr>\n",
       "      <th>218</th>\n",
       "      <td>Yemen</td>\n",
       "      <td>6946616.0</td>\n",
       "    </tr>\n",
       "    <tr>\n",
       "      <th>219</th>\n",
       "      <td>Zambia</td>\n",
       "      <td>6223061.0</td>\n",
       "    </tr>\n",
       "    <tr>\n",
       "      <th>220</th>\n",
       "      <td>Zimbabwe</td>\n",
       "      <td>6380001.0</td>\n",
       "    </tr>\n",
       "  </tbody>\n",
       "</table>\n",
       "<p>221 rows × 2 columns</p>\n",
       "</div>"
      ],
      "text/plain": [
       "                     country  Total_Population\n",
       "0                Afghanistan        10379477.0\n",
       "1                    Albania         1634429.0\n",
       "2                    Algeria        24401413.0\n",
       "3             American Samoa           12576.0\n",
       "4                    Andorra           75654.0\n",
       "..                       ...               ...\n",
       "216  Virgin Islands, British           12603.0\n",
       "217                West Bank          861080.0\n",
       "218                    Yemen         6946616.0\n",
       "219                   Zambia         6223061.0\n",
       "220                 Zimbabwe         6380001.0\n",
       "\n",
       "[221 rows x 2 columns]"
      ]
     },
     "execution_count": 36,
     "metadata": {},
     "output_type": "execute_result"
    }
   ],
   "source": [
    "%%sql\n",
    "--- Example: Total population of cities in each country in the database\n",
    "\n",
    "SELECT country, SUM(population) AS Total_Population\n",
    "FROM cities\n",
    "GROUP BY country\n",
    "order by country;\n"
   ]
  },
  {
   "cell_type": "code",
   "execution_count": 38,
   "metadata": {
    "vscode": {
     "languageId": "sql"
    }
   },
   "outputs": [
    {
     "data": {
      "text/html": [
       "<div>\n",
       "<style scoped>\n",
       "    .dataframe tbody tr th:only-of-type {\n",
       "        vertical-align: middle;\n",
       "    }\n",
       "\n",
       "    .dataframe tbody tr th {\n",
       "        vertical-align: top;\n",
       "    }\n",
       "\n",
       "    .dataframe thead th {\n",
       "        text-align: right;\n",
       "    }\n",
       "</style>\n",
       "<table border=\"1\" class=\"dataframe\">\n",
       "  <thead>\n",
       "    <tr style=\"text-align: right;\">\n",
       "      <th></th>\n",
       "      <th>country</th>\n",
       "      <th>Average_Latitude</th>\n",
       "      <th>Latitude_Standard_Deviation</th>\n",
       "    </tr>\n",
       "  </thead>\n",
       "  <tbody>\n",
       "    <tr>\n",
       "      <th>0</th>\n",
       "      <td>New Zealand</td>\n",
       "      <td>-40.350767</td>\n",
       "      <td>2.972395</td>\n",
       "    </tr>\n",
       "    <tr>\n",
       "      <th>1</th>\n",
       "      <td>Chile</td>\n",
       "      <td>-35.183716</td>\n",
       "      <td>4.583044</td>\n",
       "    </tr>\n",
       "    <tr>\n",
       "      <th>2</th>\n",
       "      <td>Uruguay</td>\n",
       "      <td>-33.728173</td>\n",
       "      <td>1.276226</td>\n",
       "    </tr>\n",
       "    <tr>\n",
       "      <th>3</th>\n",
       "      <td>Argentina</td>\n",
       "      <td>-33.127760</td>\n",
       "      <td>5.100595</td>\n",
       "    </tr>\n",
       "    <tr>\n",
       "      <th>4</th>\n",
       "      <td>Australia</td>\n",
       "      <td>-31.538619</td>\n",
       "      <td>6.203891</td>\n",
       "    </tr>\n",
       "    <tr>\n",
       "      <th>...</th>\n",
       "      <td>...</td>\n",
       "      <td>...</td>\n",
       "      <td>...</td>\n",
       "    </tr>\n",
       "    <tr>\n",
       "      <th>216</th>\n",
       "      <td>Norway</td>\n",
       "      <td>60.968057</td>\n",
       "      <td>2.947851</td>\n",
       "    </tr>\n",
       "    <tr>\n",
       "      <th>217</th>\n",
       "      <td>Finland</td>\n",
       "      <td>61.995259</td>\n",
       "      <td>1.676395</td>\n",
       "    </tr>\n",
       "    <tr>\n",
       "      <th>218</th>\n",
       "      <td>Faroe Islands</td>\n",
       "      <td>62.000000</td>\n",
       "      <td>NaN</td>\n",
       "    </tr>\n",
       "    <tr>\n",
       "      <th>219</th>\n",
       "      <td>Iceland</td>\n",
       "      <td>64.330717</td>\n",
       "      <td>0.666939</td>\n",
       "    </tr>\n",
       "    <tr>\n",
       "      <th>220</th>\n",
       "      <td>Greenland</td>\n",
       "      <td>65.560150</td>\n",
       "      <td>1.949847</td>\n",
       "    </tr>\n",
       "  </tbody>\n",
       "</table>\n",
       "<p>221 rows × 3 columns</p>\n",
       "</div>"
      ],
      "text/plain": [
       "           country  Average_Latitude  Latitude_Standard_Deviation\n",
       "0      New Zealand        -40.350767                     2.972395\n",
       "1            Chile        -35.183716                     4.583044\n",
       "2          Uruguay        -33.728173                     1.276226\n",
       "3        Argentina        -33.127760                     5.100595\n",
       "4        Australia        -31.538619                     6.203891\n",
       "..             ...               ...                          ...\n",
       "216         Norway         60.968057                     2.947851\n",
       "217        Finland         61.995259                     1.676395\n",
       "218  Faroe Islands         62.000000                          NaN\n",
       "219        Iceland         64.330717                     0.666939\n",
       "220      Greenland         65.560150                     1.949847\n",
       "\n",
       "[221 rows x 3 columns]"
      ]
     },
     "execution_count": 38,
     "metadata": {},
     "output_type": "execute_result"
    }
   ],
   "source": [
    "%%sql\n",
    "--- Example: Average latitude and the standard deviation of the latitude of cities in each country. Ordered by latitude.\n",
    "\n",
    "SELECT country, AVG(lat) AS Average_Latitude, STDDEV(lat) AS Latitude_Standard_Deviation\n",
    "FROM cities\n",
    "GROUP BY country\n",
    "ORDER BY Average_Latitude;"
   ]
  },
  {
   "cell_type": "code",
   "execution_count": 40,
   "metadata": {
    "vscode": {
     "languageId": "sql"
    }
   },
   "outputs": [
    {
     "data": {
      "text/html": [
       "<div>\n",
       "<style scoped>\n",
       "    .dataframe tbody tr th:only-of-type {\n",
       "        vertical-align: middle;\n",
       "    }\n",
       "\n",
       "    .dataframe tbody tr th {\n",
       "        vertical-align: top;\n",
       "    }\n",
       "\n",
       "    .dataframe thead th {\n",
       "        text-align: right;\n",
       "    }\n",
       "</style>\n",
       "<table border=\"1\" class=\"dataframe\">\n",
       "  <thead>\n",
       "    <tr style=\"text-align: right;\">\n",
       "      <th></th>\n",
       "      <th>First_Letter</th>\n",
       "      <th>Total_Population</th>\n",
       "      <th>Average_Population</th>\n",
       "    </tr>\n",
       "  </thead>\n",
       "  <tbody>\n",
       "    <tr>\n",
       "      <th>0</th>\n",
       "      <td>A</td>\n",
       "      <td>254154501.0</td>\n",
       "      <td>83247.461841</td>\n",
       "    </tr>\n",
       "    <tr>\n",
       "      <th>1</th>\n",
       "      <td>B</td>\n",
       "      <td>434907119.0</td>\n",
       "      <td>108890.114922</td>\n",
       "    </tr>\n",
       "    <tr>\n",
       "      <th>2</th>\n",
       "      <td>C</td>\n",
       "      <td>352977017.0</td>\n",
       "      <td>109756.535137</td>\n",
       "    </tr>\n",
       "    <tr>\n",
       "      <th>3</th>\n",
       "      <td>D</td>\n",
       "      <td>225715748.0</td>\n",
       "      <td>144782.391276</td>\n",
       "    </tr>\n",
       "    <tr>\n",
       "      <th>4</th>\n",
       "      <td>E</td>\n",
       "      <td>55839664.0</td>\n",
       "      <td>54960.299213</td>\n",
       "    </tr>\n",
       "    <tr>\n",
       "      <th>...</th>\n",
       "      <td>...</td>\n",
       "      <td>...</td>\n",
       "      <td>...</td>\n",
       "    </tr>\n",
       "    <tr>\n",
       "      <th>66</th>\n",
       "      <td>Ḩ</td>\n",
       "      <td>2592479.0</td>\n",
       "      <td>103699.160000</td>\n",
       "    </tr>\n",
       "    <tr>\n",
       "      <th>67</th>\n",
       "      <td>Ẕ</td>\n",
       "      <td>35700.0</td>\n",
       "      <td>35700.000000</td>\n",
       "    </tr>\n",
       "    <tr>\n",
       "      <th>68</th>\n",
       "      <td>Ấ</td>\n",
       "      <td>355504.0</td>\n",
       "      <td>50786.285714</td>\n",
       "    </tr>\n",
       "    <tr>\n",
       "      <th>69</th>\n",
       "      <td>‘</td>\n",
       "      <td>1659182.0</td>\n",
       "      <td>79008.666667</td>\n",
       "    </tr>\n",
       "    <tr>\n",
       "      <th>70</th>\n",
       "      <td>’</td>\n",
       "      <td>770817.0</td>\n",
       "      <td>24865.064516</td>\n",
       "    </tr>\n",
       "  </tbody>\n",
       "</table>\n",
       "<p>71 rows × 3 columns</p>\n",
       "</div>"
      ],
      "text/plain": [
       "   First_Letter  Total_Population  Average_Population\n",
       "0             A       254154501.0        83247.461841\n",
       "1             B       434907119.0       108890.114922\n",
       "2             C       352977017.0       109756.535137\n",
       "3             D       225715748.0       144782.391276\n",
       "4             E        55839664.0        54960.299213\n",
       "..          ...               ...                 ...\n",
       "66            Ḩ         2592479.0       103699.160000\n",
       "67            Ẕ           35700.0        35700.000000\n",
       "68            Ấ          355504.0        50786.285714\n",
       "69            ‘         1659182.0        79008.666667\n",
       "70            ’          770817.0        24865.064516\n",
       "\n",
       "[71 rows x 3 columns]"
      ]
     },
     "execution_count": 40,
     "metadata": {},
     "output_type": "execute_result"
    }
   ],
   "source": [
    "%%sql\n",
    "-- The total and average population of cities based on the first letter of their name. Ordered by the first letter.\n",
    "\n",
    "SELECT LEFT(city, 1) AS First_Letter, SUM(population) AS Total_Population, AVG(population) AS Average_Population\n",
    "FROM cities\n",
    "GROUP BY First_Letter\n",
    "ORDER BY First_Letter;\n",
    "\n"
   ]
  },
  {
   "cell_type": "markdown",
   "metadata": {
    "vscode": {
     "languageId": "sql"
    }
   },
   "source": [
    "## HAVING ##\n",
    "When you use the `GROUP BY` statement, you can use the `HAVING` statement to filter the groups based on specified conditions.\n",
    "- `WHERE` filters the rows before the calculation is applied (only counting the relevant rows)\n",
    "- `HAVING` filters the groups after the calculation is applied (like a filter on the results)\n",
    "\n",
    "**The queries in the code below:**\n",
    "- Count the number of cities in each country with more than 1 million people, ordered by the number of cities. Includes only the countries with more than 5 big cities\n",
    "- Finds the average population of cities in each country, displaying only the countries with an average population lower than 10,000.\n",
    "\n",
    "*Note: These queries uses a column alias to make the output more readable. The `AS` keyword is used to create an alias.*"
   ]
  },
  {
   "cell_type": "code",
   "execution_count": null,
   "metadata": {
    "vscode": {
     "languageId": "sql"
    }
   },
   "outputs": [],
   "source": [
    "%%sql\n",
    "-- How many cities in each country with population > 1 million\n",
    "\n",
    "SELECT country, count(*) AS big_cities\n",
    "FROM cities\n",
    "WHERE population > 1000000\n",
    "GROUP BY country\n",
    "HAVING big_cities >= 10\n",
    "ORDER BY big_cities DESC;\n"
   ]
  },
  {
   "cell_type": "code",
   "execution_count": null,
   "metadata": {
    "vscode": {
     "languageId": "sql"
    }
   },
   "outputs": [],
   "source": [
    "%%sql\n",
    "-- Average poplation of cities in each country. Only showing countries with average city population < 10,000\n",
    "SELECT COUNTRY, AVG(POPULATION) AS AVG_POP\n",
    "FROM cities\n",
    "GROUP BY COUNTRY\n",
    "HAVING AVG_POP < 10000;"
   ]
  }
 ],
 "metadata": {
  "kernelspec": {
   "display_name": ".venv",
   "language": "python",
   "name": "python3"
  },
  "language_info": {
   "codemirror_mode": {
    "name": "ipython",
    "version": 3
   },
   "file_extension": ".py",
   "mimetype": "text/x-python",
   "name": "python",
   "nbconvert_exporter": "python",
   "pygments_lexer": "ipython3",
   "version": "3.12.2"
  }
 },
 "nbformat": 4,
 "nbformat_minor": 2
}
