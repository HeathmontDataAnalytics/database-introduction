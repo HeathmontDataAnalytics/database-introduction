{
 "cells": [
  {
   "cell_type": "markdown",
   "metadata": {},
   "source": [
    "# Introduction to Databases and SQL #\n",
    "## Databases ##\n",
    "**Databases** are a collection of data that is stored in a computer system. Databases allow us to store, retrieve, and manipulate data. Databases are used in many applications, such as websites, mobile apps, and desktop applications. Databases use tables to store data. Each table has columns and rows. Columns represent the *attributes* of the data, and rows represent *individual records*.\n",
    "\n",
    "## SQL ##\n",
    "**SQL (Structured Query Language)** is a programming language used to interact with databases. SQL allows us to create, read, update, and delete data in a database. SQL is used to perform operations on databases, such as querying data, inserting data, updating data, and deleting data.\n",
    "\n",
    "**The basic SQL commands are:**\n",
    "- `SELECT`: Used to retrieve data from a database.\n",
    "- `INSERT`: Used to insert data into a database.\n",
    "- `UPDATE`: Used to update data in a database.\n",
    "\n",
    "\n",
    "\n",
    "## Part 1 - Creating a table##\n",
    "In the code below we will:\n",
    "1. Connect to a new database (school.db) using duckdb.\n",
    "2. Create a table called 'test' with one column: \"num\" which stores an integer. *Integers are whole numbers (ie. positive or negative but not a decimal)*\n",
    "3. Insert some data into this table \n",
    "4. Query the table to see what we have inserted. \n",
    "5. Update the data in the table and query again to see the changes.\n",
    "6. Close the connection to the database.\n"
   ]
  },
  {
   "cell_type": "code",
   "execution_count": 15,
   "metadata": {},
   "outputs": [],
   "source": [
    "import duckdb\n",
    "\n",
    "# 1. Create a new database called 'school.db' in the data folder, accessed through the con variable.\n",
    "# If the database already exists, this code will connect to the existing database file.\n",
    "con = duckdb.connect('../data/school.db')\n",
    "\n"
   ]
  },
  {
   "cell_type": "code",
   "execution_count": 6,
   "metadata": {},
   "outputs": [],
   "source": [
    "# 2. Creating the table\n",
    "# Only run this code once: if you run it again it will error (because the table already exists)\n",
    "con.sql(\"CREATE TABLE test (num INTEGER)\")"
   ]
  },
  {
   "cell_type": "code",
   "execution_count": null,
   "metadata": {},
   "outputs": [],
   "source": [
    "# 3. This code will add a new row to the table each time you run it. You can run it as many times as you want.\n",
    "# Change the number to add a different value to see this in action. \n",
    "con.sql(\"INSERT INTO test VALUES (69)\")\n",
    "# query the table\n",
    "con.table(\"test\").show()"
   ]
  },
  {
   "cell_type": "code",
   "execution_count": null,
   "metadata": {},
   "outputs": [],
   "source": [
    "con.sql(\"UPDATE test SET num = 17 WHERE num = 42\")\n",
    "con.table(\"test\").show()"
   ]
  },
  {
   "cell_type": "code",
   "execution_count": 18,
   "metadata": {},
   "outputs": [],
   "source": [
    "# We want to close the connection to avoid any issues with the database file.\n",
    "# In the future we will do this using 'with:' statements (which use a context manager). \n",
    "con.close()"
   ]
  },
  {
   "cell_type": "markdown",
   "metadata": {},
   "source": [
    "## Additional SQL Commands ##\n",
    "In addition to `SELECT`, `INSERT`, and `UPDATE`, there are other SQL commands that can be used to interact with databases. We already saw how to create a table, but there are also commands to delete a table (`DROP TABLE`), delete data from a table (`DELETE FROM`), and alter a table (`ALTER TABLE`). These commands can be used to modify the structure of a database, add or remove data, and perform other operations.\n",
    "\n",
    "## Part 2 - Modifying and deleting from tables ##\n",
    "In the code below we will:\n",
    "1. Reconnect to the database (school.db) using a self-closing context managers.\n",
    "2. Alter the table 'test' by adding a new column called \"name\" which stores text data as `VARCHAR`. Set the default value of this column to \"Boris\".\n",
    "3. Insert some new data into this table and query\n",
    "4. Delete some of the data from the table and query again to see the changes.\n",
    "5. Drop the table 'test' and close the connection to the database.\n"
   ]
  },
  {
   "cell_type": "code",
   "execution_count": null,
   "metadata": {},
   "outputs": [],
   "source": [
    "# 1. Using a context manager to avoid having to close the connection manually. We will do this every time\n",
    "with duckdb.connect('../data/school.db') as con:\n",
    "    # 2. Adding a new column to the table. NOTE: This will error if the column already exists (so only run it once)\n",
    "    con.sql(\"ALTER TABLE test ADD COLUMN name VARCHAR DEFAULT 'Boris'\")\n",
    "    con.table('test').show()"
   ]
  },
  {
   "cell_type": "code",
   "execution_count": null,
   "metadata": {},
   "outputs": [],
   "source": [
    "# 4. Add a row to the table. Feel free to use your own values.\n",
    "with duckdb.connect('../data/school.db') as con:\n",
    "    con.sql(\"INSERT INTO test VALUES (42, 'Alice')\")\n",
    "    con.table('test').show()"
   ]
  },
  {
   "cell_type": "code",
   "execution_count": null,
   "metadata": {},
   "outputs": [],
   "source": [
    "# 5. Deleting rows. We'll get rid of the rows called \"Boris\"\n",
    "\n",
    "with duckdb.connect('../data/school.db') as con:\n",
    "    con.sql(\"DELETE FROM test WHERE name = 'Boris'\")\n",
    "    con.table('test').show()"
   ]
  },
  {
   "cell_type": "code",
   "execution_count": null,
   "metadata": {},
   "outputs": [],
   "source": [
    "# 6. Dropping the table. This will delete the table and all its contents.\n",
    "with duckdb.connect('../data/school.db') as con:\n",
    "    con.sql(\"DROP TABLE test\")\n",
    "    # This will error because the table no longer exists\n",
    "    con.table('test').show()"
   ]
  },
  {
   "cell_type": "markdown",
   "metadata": {},
   "source": [
    "## Part 3 - Writing your own SQL ##\n",
    "Now that we have cleared out our table, we can start to apply our knowledge of SQL to a real-world problem. In the code below we will:\n",
    "\n",
    "1. Create a new table called 'students' with the following columns:\n",
    "    - `id` (integer) - primary key\n",
    "    - `firstname` (text) - the first name of the student\n",
    "    - `lastname` (text) - the last name of the student\n",
    "    - `age` (integer) - the age of the student\n",
    "    - `yearlevel` (text) - the grade of the student\n",
    "2. Insert some data into this table\n",
    "    - Either put your own information or use a favourite fictional character\n",
    "3. Query the table to see what we have inserted\n",
    "\n",
    "Fill in the blanks in the code below to complete the tasks. Each task has its own cell to allow you to run and debug each operation separately"
   ]
  },
  {
   "cell_type": "code",
   "execution_count": null,
   "metadata": {},
   "outputs": [],
   "source": [
    "# 1. Creating a new table called 'students' with five columns: id, firstname, lastname, age, and yearlevel.\n",
    "with duckdb.connect('../data/school.db') as con:\n",
    "    con.sql(\"CREATE TABLE students (id INTEGER PRIMARY KEY, firstname VARCHAR, ______)\")\n",
    "    con.table('students').show()"
   ]
  },
  {
   "cell_type": "code",
   "execution_count": null,
   "metadata": {},
   "outputs": [],
   "source": [
    "# 2. Adding a row to the table.\n",
    "with duckdb.connect('../data/school.db') as con:\n",
    "    con.sql(\"INSERT INTO students VALUES (1, __________)\")\n",
    "    con.table('students').show()"
   ]
  }
 ],
 "metadata": {
  "kernelspec": {
   "display_name": "Python 3",
   "language": "python",
   "name": "python3"
  },
  "language_info": {
   "codemirror_mode": {
    "name": "ipython",
    "version": 3
   },
   "file_extension": ".py",
   "mimetype": "text/x-python",
   "name": "python",
   "nbconvert_exporter": "python",
   "pygments_lexer": "ipython3",
   "version": "3.12.1"
  }
 },
 "nbformat": 4,
 "nbformat_minor": 2
}
