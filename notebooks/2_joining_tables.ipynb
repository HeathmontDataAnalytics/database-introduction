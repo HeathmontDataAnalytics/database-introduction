{
 "cells": [
  {
   "cell_type": "markdown",
   "metadata": {},
   "source": [
    "# Joining Tables in SQL #\n",
    "## Prerequisites ##\n",
    "- For this tutorial you should already have completed the 1_intro_to_sql tutorial. Your schools.db file should contain the students table with multiple students in it, with a sequence that automatically generates student ids. \n",
    "\n",
    "## Primary and Foreign Keys ##\n",
    "\n",
    "Primary keys are unique identifiers for each row in a table. They are used to ensure that each row in a table is unique. Foreign keys are used to link two tables together. They are used to ensure that the value in a column in one table is present in another table. \n",
    "\n",
    "We have already created a `students` table. For our next move we will create an `awards` table. This table will contain information about awards that students have won. Each award can only be given to one student, so we will need to link the `awards` table to the `students` table. This saves us from duplicating the relevant information about a student in the `awards` table.\n",
    "\n",
    "**In the code below we will:**\n",
    "- create the `awards` table with the following columns:\n",
    "    - `award_id` - a unique identifier for each award\n",
    "    - `student_id` - the id of the student who won the award. This is a foreign key that links to the `students` table\n",
    "    - `award_name` - the name of the award\n",
    "    - `award_date` - the date the award was won (defaulting to the current date)\n"
   ]
  },
  {
   "cell_type": "code",
   "execution_count": 1,
   "metadata": {},
   "outputs": [],
   "source": [
    "# Importing relevant libraries. This needs to run every time the script is run.\n",
    "import duckdb"
   ]
  },
  {
   "cell_type": "code",
   "execution_count": 18,
   "metadata": {},
   "outputs": [
    {
     "name": "stdout",
     "output_type": "stream",
     "text": [
      "┌──────────┬────────────┬────────────┬────────────┐\n",
      "│ award_id │ student_id │ award_name │ award_date │\n",
      "│  int32   │   int32    │  varchar   │    date    │\n",
      "├──────────┴────────────┴────────────┴────────────┤\n",
      "│                     0 rows                      │\n",
      "└─────────────────────────────────────────────────┘\n",
      "\n"
     ]
    }
   ],
   "source": [
    "\n",
    "# Create the awards table in the database. We are now using CREATE OR REPLACE TABLE to avoid errors if the table already exists.\n",
    "# This also means if you mess your awards table up, you can just run this script again to reset it.\n",
    "# We add a sequence to the award_id column to automatically generate unique IDs.\n",
    "\n",
    "with duckdb.connect('../data/school.db') as con:\n",
    "    # create the sequence first. This will automatically generate unique IDs for the awards table.\n",
    "    con.sql('''\n",
    "        CREATE OR REPLACE SEQUENCE award_id_seq;\n",
    "    ''')\n",
    "    \n",
    "    con.sql('''\n",
    "            CREATE OR REPLACE TABLE awards (\n",
    "            award_id INTEGER PRIMARY KEY DEFAULT nextval('award_id_seq'),\n",
    "            student_id INTEGER,\n",
    "            award_name VARCHAR,\n",
    "            award_date DATE default CURRENT_DATE,\n",
    "            FOREIGN KEY (student_id) REFERENCES students(student_id)\n",
    "        );\n",
    "    ''')\n",
    "    \n",
    "    con.table('awards').show()"
   ]
  },
  {
   "cell_type": "markdown",
   "metadata": {},
   "source": [
    "### What does the foreign key do? ###\n",
    "The foreign key in the `awards` table will ensure that the `student_id` in the `awards` table is present in the `students` table. This means that we can't add an award for a student that doesn't exist in the `students` table. \n",
    "\n",
    "Equally importantly, it means that any time we want to know any more about which student got the award, we can use the `student_id` to look up the student in the `students` table. \n",
    "\n",
    "**In the code below, we are:**\n",
    "- Checking which students are in the `students` table - we need to know their `student_id` to add an award for them\n",
    "- Adding rows to the `awards` table. We need to add the `student_id` of the student who won the award and the `award_name`. The default values for `award_id` and `award_date` will be automatically generated.  \n"
   ]
  },
  {
   "cell_type": "code",
   "execution_count": 7,
   "metadata": {},
   "outputs": [
    {
     "name": "stdout",
     "output_type": "stream",
     "text": [
      "┌────────────┬────────────┬───────────┬───────┬────────────┐\n",
      "│ student_id │ first_name │ last_name │  age  │ year_level │\n",
      "│   int32    │  varchar   │  varchar  │ int32 │   int32    │\n",
      "├────────────┼────────────┼───────────┼───────┼────────────┤\n",
      "│          1 │ Roger      │ Rabbit    │    18 │         11 │\n",
      "│          2 │ Jessica    │ Rabbit    │    17 │         10 │\n",
      "│          3 │ Bugs       │ Bunny     │    13 │          7 │\n",
      "│          4 │ Daffy      │ Duck      │    10 │          9 │\n",
      "│        100 │ Charlie    │ Bucket    │    17 │         11 │\n",
      "└────────────┴────────────┴───────────┴───────┴────────────┘\n",
      "\n"
     ]
    }
   ],
   "source": [
    "# Verify which students currently exist in the database. We can now only create rows in the awards table if \n",
    "# the student_id already exists in the students table.\n",
    "\n",
    "with duckdb.connect('../data/school.db') as con:\n",
    "    con.sql('SELECT * FROM students').show()"
   ]
  },
  {
   "cell_type": "code",
   "execution_count": 19,
   "metadata": {},
   "outputs": [
    {
     "name": "stdout",
     "output_type": "stream",
     "text": [
      "┌──────────┬────────────┬──────────────────────────┬────────────┐\n",
      "│ award_id │ student_id │        award_name        │ award_date │\n",
      "│  int32   │   int32    │         varchar          │    date    │\n",
      "├──────────┼────────────┼──────────────────────────┼────────────┤\n",
      "│        1 │          1 │ 2024 English Award       │ 2024-09-20 │\n",
      "│        2 │        100 │ 2024 Maths Award         │ 2024-06-01 │\n",
      "│        3 │        100 │ 2024 School Spirit Award │ 2024-09-20 │\n",
      "└──────────┴────────────┴──────────────────────────┴────────────┘\n",
      "\n"
     ]
    }
   ],
   "source": [
    "# Add new rows to the awards table. We are using INSERT INTO to add new rows to the table.\n",
    "with duckdb.connect('../data/school.db') as con:\n",
    "    # Insert a row. \n",
    "    con.sql(''' INSERT INTO awards (student_id, award_name)\n",
    "            VALUES (1, '2024 English Award'); ''')\n",
    "    \n",
    "    # Insert a row with a specific award date.\n",
    "    con.sql(''' INSERT INTO awards (student_id, award_name, award_date)\n",
    "            VALUES (100, '2024 Maths Award', '2024-06-01'); ''')\n",
    "    \n",
    "    # Insert a second row for the same student.\n",
    "    con.sql(''' INSERT INTO awards (student_id, award_name)\n",
    "            VALUES (100, '2024 School Spirit Award'); ''')\n",
    "    # Show the awards table.\n",
    "    con.sql(''' SELECT * FROM awards; ''').show()"
   ]
  },
  {
   "cell_type": "markdown",
   "metadata": {},
   "source": [
    "# Joining the tables with a query (Inner Join) #\n",
    "Now that we have two tables, we can join them together using a query. We can use the `JOIN` keyword to join the tables together.\n",
    "\n",
    "**In the code below we will:**\n",
    "- Use the `JOIN` keyword to join the `students` and `awards` tables together and get:\n",
    "    - The first name and last name of the student with the award name\n",
    "    - The award name for any award won by a student with the first name 'Roger' (or whatever else you want to search for)\n",
    "    - The last_name, age, and award_name for any award with an award date of today"
   ]
  },
  {
   "cell_type": "code",
   "execution_count": 20,
   "metadata": {},
   "outputs": [
    {
     "name": "stdout",
     "output_type": "stream",
     "text": [
      "┌────────────┬───────────┬──────────────────────────┐\n",
      "│ first_name │ last_name │        award_name        │\n",
      "│  varchar   │  varchar  │         varchar          │\n",
      "├────────────┼───────────┼──────────────────────────┤\n",
      "│ Roger      │ Rabbit    │ 2024 English Award       │\n",
      "│ Charlie    │ Bucket    │ 2024 School Spirit Award │\n",
      "│ Charlie    │ Bucket    │ 2024 Maths Award         │\n",
      "└────────────┴───────────┴──────────────────────────┘\n",
      "\n",
      "┌────────────────────┐\n",
      "│     award_name     │\n",
      "│      varchar       │\n",
      "├────────────────────┤\n",
      "│ 2024 English Award │\n",
      "└────────────────────┘\n",
      "\n",
      "┌───────────┬───────┬──────────────────────────┐\n",
      "│ last_name │  age  │        award_name        │\n",
      "│  varchar  │ int32 │         varchar          │\n",
      "├───────────┼───────┼──────────────────────────┤\n",
      "│ Rabbit    │    18 │ 2024 English Award       │\n",
      "│ Bucket    │    17 │ 2024 School Spirit Award │\n",
      "└───────────┴───────┴──────────────────────────┘\n",
      "\n"
     ]
    }
   ],
   "source": [
    "with duckdb.connect('../data/school.db') as con:\n",
    "    # Join the awards table with the students table to get the student's name.\n",
    "    con.sql('''\n",
    "        SELECT students.first_name, students.last_name, awards.award_name\n",
    "        FROM students\n",
    "        JOIN awards\n",
    "        ON students.student_id = awards.student_id;\n",
    "    ''').show()\n",
    "    # Awards for Roger (Change the name in quotes for a different student)\n",
    "    con.sql('''\n",
    "        SELECT awards.award_name\n",
    "        FROM students\n",
    "        JOIN awards\n",
    "        ON students.student_id = awards.student_id\n",
    "        WHERE students.first_name = 'Roger';\n",
    "    ''').show()\n",
    "    # Awards from today. Note we used a different (equivalent) syntax for the join this time\n",
    "    con.sql('''\n",
    "            SELECT students.last_name, students.age, awards.award_name\n",
    "            FROM STUDENTS\n",
    "            JOIN AWARDS USING (student_id)\n",
    "            WHERE award_date = CURRENT_DATE; \n",
    "            ''').show()"
   ]
  },
  {
   "cell_type": "markdown",
   "metadata": {},
   "source": [
    "## Outer Joins\n",
    "An outer join returns rows from both tables, joining them where possible. If there is no match, the result is NULL.\n",
    "\n",
    "Outer joins can be left, right, or full:\n",
    "- Left outer join: returns all rows from the left (first) table, and the matched rows from the right (second) table\n",
    "- Right outer join: returns all rows from the right table, and the matched rows from the left table\n",
    "- Full outer join: returns all rows - matching whenever there is one.\n",
    "\n",
    "**In the code below we will:**\n",
    "- Show an example of a full outer join - returning all students details and the details of any awards they have won. Where a student has not won an award, the award details will be NULL. If they have won more than one award, there will be multiple rows for that student.\n",
    "- Show an example of a right outer join - returning all award details and the details of the student who won the award. Because we have a foreign key on student_id, all awards should have a student_id that matches a student in the students table.\n"
   ]
  },
  {
   "cell_type": "code",
   "execution_count": 25,
   "metadata": {},
   "outputs": [
    {
     "name": "stdout",
     "output_type": "stream",
     "text": [
      "┌────────────┬────────────┬───────────┬───────┬────────────┬──────────┬────────────┬──────────────────────────┬────────────┐\n",
      "│ student_id │ first_name │ last_name │  age  │ year_level │ award_id │ student_id │        award_name        │ award_date │\n",
      "│   int32    │  varchar   │  varchar  │ int32 │   int32    │  int32   │   int32    │         varchar          │    date    │\n",
      "├────────────┼────────────┼───────────┼───────┼────────────┼──────────┼────────────┼──────────────────────────┼────────────┤\n",
      "│          1 │ Roger      │ Rabbit    │    18 │         11 │        1 │          1 │ 2024 English Award       │ 2024-09-20 │\n",
      "│        100 │ Charlie    │ Bucket    │    17 │         11 │        3 │        100 │ 2024 School Spirit Award │ 2024-09-20 │\n",
      "│        100 │ Charlie    │ Bucket    │    17 │         11 │        2 │        100 │ 2024 Maths Award         │ 2024-06-01 │\n",
      "│          2 │ Jessica    │ Rabbit    │    17 │         10 │     NULL │       NULL │ NULL                     │ NULL       │\n",
      "│          3 │ Bugs       │ Bunny     │    13 │          7 │     NULL │       NULL │ NULL                     │ NULL       │\n",
      "│          4 │ Daffy      │ Duck      │    10 │          9 │     NULL │       NULL │ NULL                     │ NULL       │\n",
      "└────────────┴────────────┴───────────┴───────┴────────────┴──────────┴────────────┴──────────────────────────┴────────────┘\n",
      "\n",
      "┌────────────┬────────────┬───────────┬───────┬────────────┬──────────┬──────────────────────────┬────────────┐\n",
      "│ student_id │ first_name │ last_name │  age  │ year_level │ award_id │        award_name        │ award_date │\n",
      "│   int32    │  varchar   │  varchar  │ int32 │   int32    │  int32   │         varchar          │    date    │\n",
      "├────────────┼────────────┼───────────┼───────┼────────────┼──────────┼──────────────────────────┼────────────┤\n",
      "│          1 │ Roger      │ Rabbit    │    18 │         11 │        1 │ 2024 English Award       │ 2024-09-20 │\n",
      "│        100 │ Charlie    │ Bucket    │    17 │         11 │        3 │ 2024 School Spirit Award │ 2024-09-20 │\n",
      "│        100 │ Charlie    │ Bucket    │    17 │         11 │        2 │ 2024 Maths Award         │ 2024-06-01 │\n",
      "└────────────┴────────────┴───────────┴───────┴────────────┴──────────┴──────────────────────────┴────────────┘\n",
      "\n"
     ]
    }
   ],
   "source": [
    "with duckdb.connect('../data/school.db') as con:\n",
    "    # Outer join the students and awards tables to see all students and their awards.\n",
    "    con.sql('''\n",
    "        SELECT * FROM students\n",
    "        FULL OUTER JOIN  awards\n",
    "        ON students.student_id = awards.student_id;\n",
    "    ''').show()\n",
    "    \n",
    "    con.sql('''\n",
    "            SELECT student_id, first_name, award_name from students\n",
    "            RIGHT JOIN awards\n",
    "            using(student_id);\n",
    "            ''').show()"
   ]
  },
  {
   "cell_type": "markdown",
   "metadata": {},
   "source": [
    "## Self Joins ##\n",
    "A self join is a join of a table with itself. This can be useful when you want to compare rows within a table. \n",
    "\n",
    "We do this by giving the table an alias (a temporary name) and then joining the table to itself using that alias.\n",
    "\n",
    "**In the code below we will:**\n",
    "- Join the `students` table to itself to find students who have the same first name. We will return the first names and last name of the students who have the same last name.\n",
    "- *Notes*: \n",
    "    - we have an extra check to make sure we don't select the same row from students in s1 and in s2\n",
    "    - We use s1.student_id < s2.student_id so that they are different students. We could have used <> for not equal to, but that would have put each pair of students in twice. \n",
    "    - After s1.last_name "
   ]
  },
  {
   "cell_type": "code",
   "execution_count": 29,
   "metadata": {},
   "outputs": [
    {
     "name": "stdout",
     "output_type": "stream",
     "text": [
      "┌────────────┬─────────────┬─────────────┐\n",
      "│ first_name │ last_name_1 │ last_name_2 │\n",
      "│  varchar   │   varchar   │   varchar   │\n",
      "├────────────┼─────────────┼─────────────┤\n",
      "│ Roger      │ Rabbit      │ Ramjet      │\n",
      "└────────────┴─────────────┴─────────────┘\n",
      "\n"
     ]
    }
   ],
   "source": [
    "with duckdb.connect('../data/school.db') as con:\n",
    "    con.sql('''\n",
    "            SELECT s1.first_name, s1.last_name last_name_1, s2.last_name last_name_2\n",
    "            FROM students s1, students s2\n",
    "            WHERE s1.first_name = s2.first_name\n",
    "            AND s1.student_id < s2.student_id;\n",
    "            ''').show()"
   ]
  },
  {
   "cell_type": "markdown",
   "metadata": {},
   "source": [
    "# Your Turn #\n",
    "- Create a table called `subjects` with the following columns (identifying appropriate data types yourself):\n",
    "    - `subject_id` - a unique identifier for each subject. This is a primary key so you will need to create a sequence to automatically generate this\n",
    "    - `year_level` - the year level the subject is taught in (Eg. 7 for year 7., etc.)\n",
    "    - `subject_name` - the name of the subject (Eg. English, Maths, Data Analytics, etc.)\n",
    "\n",
    "- Create a table called `classes` with the following columns:\n",
    "    - `class_id` - a unique identifier for each class. This is a primary key so you will need to create a sequence to automatically generate this\n",
    "    - `course_name` - the name of the class (eg. Year 7 Maths B, Year 8 English A, etc.)\n",
    "    - `teacher_code` - the three letter initials for the teacher of the class. This can eventually link to a `teachers` table, but for now just make it a text field\n",
    "    - `subject_id` - a foreign key that links to the `subjects` table. \n",
    "\n",
    "- Add some rows to the `subjects` and `classes` tables. Be sure to link subjects and classes that make sense (ie - Year 7 Maths B should not be a class of the Year 10 Art subject)\n",
    "\n",
    "- Run a query to join the two tables and check the output."
   ]
  },
  {
   "cell_type": "code",
   "execution_count": null,
   "metadata": {},
   "outputs": [],
   "source": [
    "# Create the sequence (for the subject_id) and then create subjects table. \n",
    "# (Use CREATE OR REPLACE to avoid errors if the table already exists.)"
   ]
  },
  {
   "cell_type": "code",
   "execution_count": null,
   "metadata": {},
   "outputs": [],
   "source": [
    "# Insert multiple rows into the subjects table. We are using INSERT INTO to add new rows to the table."
   ]
  },
  {
   "cell_type": "code",
   "execution_count": null,
   "metadata": {},
   "outputs": [],
   "source": [
    "# Create the sequence (for class_id) and then create the classes table. Be sure to include the foreign key constraint. \n",
    "# (Use CREATE OR REPLACE TABLE to avoid errors if the table already exists.)"
   ]
  },
  {
   "cell_type": "code",
   "execution_count": null,
   "metadata": {},
   "outputs": [],
   "source": [
    "# Insert rows into the classes table. Be sure to match the rows to the existing subjects.\n"
   ]
  },
  {
   "cell_type": "markdown",
   "metadata": {},
   "source": [
    "## All together ##\n",
    "We now want to bring it all together. We need a link between classes and students. We will create a `class_enrolments` table that will link students to classes. This is an intermediate or junction table that will allow us to link students to classes in a many-to-many relationship. If your table is set up correctly, the final query should correctly match students all the way through to the subjects they are studying.\n",
    "\n",
    "**In the code below you will:**\n",
    "- Create a `class_enrolments` table with the following columns:\n",
    "    - `student_id` - a foreign key that links to the `students` table\n",
    "    - `class_id` - a foreign key that links to the `classes` table\n",
    "- Add entries to the `class_enrolments` table. You will need to know the `student_id` and `class_id` to do this.\n",
    "- Run the query to match students to the classes they are enrolled in and the relevant subject for that class.\n"
   ]
  },
  {
   "cell_type": "code",
   "execution_count": null,
   "metadata": {},
   "outputs": [],
   "source": [
    "# Create the class_enrolments table. Be sure to include the foreign key constraints on both columns. \n",
    "# (Use CREATE OR REPLACE TABLE to avoid errors if the table already exists.)"
   ]
  },
  {
   "cell_type": "code",
   "execution_count": null,
   "metadata": {},
   "outputs": [],
   "source": [
    "# Insert rows into the class_enrolments table. Be sure to match the rows to the existing students and classes."
   ]
  },
  {
   "cell_type": "code",
   "execution_count": null,
   "metadata": {},
   "outputs": [],
   "source": [
    "# If you have been successful, this query should work a treat.\n",
    "with duckdb.connect('../data/school.db') as con:\n",
    "    con.sql('''\n",
    "        SELECT students.first_name, students.last_name, classes.class_name, classes.teacher_name, subjects.subject_name\n",
    "        FROM students\n",
    "        JOIN class_enrolments\n",
    "        ON students.student_id = class_enrolments.student_id\n",
    "        JOIN classes\n",
    "        ON class_enrolments.class_id = classes.class_id\n",
    "        JOIN subjects\n",
    "        ON classes.subject_id = subjects.subject_id;\n",
    "    ''').show()"
   ]
  }
 ],
 "metadata": {
  "kernelspec": {
   "display_name": "Python 3",
   "language": "python",
   "name": "python3"
  },
  "language_info": {
   "codemirror_mode": {
    "name": "ipython",
    "version": 3
   },
   "file_extension": ".py",
   "mimetype": "text/x-python",
   "name": "python",
   "nbconvert_exporter": "python",
   "pygments_lexer": "ipython3",
   "version": "3.12.1"
  }
 },
 "nbformat": 4,
 "nbformat_minor": 2
}
