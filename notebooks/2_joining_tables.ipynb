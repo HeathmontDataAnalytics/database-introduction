{
 "cells": [
  {
   "cell_type": "markdown",
   "metadata": {},
   "source": [
    "# Joining Tables in SQL #\n",
    "## Prerequisites ##\n",
    "- For this tutorial you should already have completed the 1_intro_to_sql tutorial. Your schools.db file should contain the students table with multiple students in it, with a sequence that automatically generates student ids. \n",
    "\n",
    "## Primary and Foreign Keys ##\n",
    "\n",
    "Primary keys are unique identifiers for each row in a table. They are used to ensure that each row in a table is unique. Foreign keys are used to link two tables together. They are used to ensure that the value in a column in one table is present in another table. \n",
    "\n",
    "We have already created a `students` table. For our next move we will create an `awards` table. This table will contain information about awards that students have won. Each award can only be given to one student, so we will need to link the `awards` table to the `students` table. This saves us from duplicating the relevant information about a student in the `awards` table.\n",
    "\n",
    "We will create the `awards` table with the following columns:\n",
    "- `award_id` - a unique identifier for each award\n",
    "- `student_id` - the id of the student who won the award. This is a foreign key that links to the `students` table\n",
    "- `award_name` - the name of the award\n",
    "- `award_date` - the date the award was won (defaulting to the current date)\n"
   ]
  },
  {
   "cell_type": "code",
   "execution_count": 1,
   "metadata": {},
   "outputs": [],
   "source": [
    "# Importing relevant libraries. This needs to run every time the script is run.\n",
    "import duckdb"
   ]
  },
  {
   "cell_type": "code",
   "execution_count": null,
   "metadata": {},
   "outputs": [],
   "source": [
    "\n",
    "# Create the awards table in the database (run this script only once)\n",
    "\n",
    "with duckdb.connect('../data/school.db') as con:\n",
    "    con.sql('''\n",
    "            CREATE TABLE awards (\n",
    "            award_id INTEGER PRIMARY KEY,\n",
    "            award TEXT,\n",
    "            year INTEGER,\n",
    "            student_id INTEGER REFERENCES students(student_id)\n",
    "        );\n",
    "    ''')"
   ]
  }
 ],
 "metadata": {
  "kernelspec": {
   "display_name": "Python 3",
   "language": "python",
   "name": "python3"
  },
  "language_info": {
   "codemirror_mode": {
    "name": "ipython",
    "version": 3
   },
   "file_extension": ".py",
   "mimetype": "text/x-python",
   "name": "python",
   "nbconvert_exporter": "python",
   "pygments_lexer": "ipython3",
   "version": "3.12.1"
  }
 },
 "nbformat": 4,
 "nbformat_minor": 2
}
