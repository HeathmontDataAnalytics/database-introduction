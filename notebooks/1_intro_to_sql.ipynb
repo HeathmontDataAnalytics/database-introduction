{
 "cells": [
  {
   "cell_type": "markdown",
   "metadata": {},
   "source": [
    "# Introduction to Databases and SQL #\n",
    "## Databases ##\n",
    "**Databases** are a collection of data that is stored in a computer system. Databases allow us to store, retrieve, and manipulate data. Databases are used in many applications, such as websites, mobile apps, and desktop applications. Databases use tables to store data. Each table has columns and rows. Columns represent the *attributes* of the data, and rows represent *individual records*.\n",
    "\n",
    "## SQL ##\n",
    "**SQL (Structured Query Language)** is a programming language used to interact with databases. SQL allows us to create, read, update, and delete data in a database. SQL is used to perform operations on databases, such as querying data, inserting data, updating data, and deleting data.\n",
    "\n",
    "**The basic SQL commands are:**\n",
    "- `SELECT`: Used to retrieve data from a database.\n",
    "- `INSERT`: Used to insert data into a database.\n",
    "- `UPDATE`: Used to update data in a database.\n",
    "\n",
    "\n",
    "\n",
    "## Part 1 - Creating a table ##\n",
    "**In the code below we will:** \n",
    "1. Connect to a new database (school.db) using duckdb.\n",
    "2. Create a table called 'test' with one column: \"num\" which stores an integer. *Integers are whole numbers (ie. positive or negative but not a decimal)*\n",
    "3. Insert some data into this table \n",
    "4. Query the table to see what we have inserted. \n",
    "5. Update the data in the table and query again to see the changes.\n",
    "6. Close the connection to the database.\n",
    "\n",
    "> Note: to allow some code to only be run once, while other code runs multiple times, we have separated them into separate cells. To run the code, click on the play button for each cell in order.\n"
   ]
  },
  {
   "cell_type": "code",
   "execution_count": 2,
   "metadata": {},
   "outputs": [],
   "source": [
    "# You just have to run this cell once to load the database.\n",
    "import duckdb\n",
    "import pandas as pd\n",
    "\n",
    "%load_ext sql\n",
    "conn = duckdb.connect('../data/school.db')\n",
    "%sql conn --alias duckdb"
   ]
  },
  {
   "cell_type": "code",
   "execution_count": 3,
   "metadata": {
    "vscode": {
     "languageId": "sql"
    }
   },
   "outputs": [
    {
     "data": {
      "text/html": [
       "<span style=\"None\">Running query in &#x27;duckdb&#x27;</span>"
      ],
      "text/plain": [
       "Running query in 'duckdb'"
      ]
     },
     "metadata": {},
     "output_type": "display_data"
    },
    {
     "data": {
      "text/html": [
       "<table>\n",
       "    <thead>\n",
       "        <tr>\n",
       "            <th>Count</th>\n",
       "        </tr>\n",
       "    </thead>\n",
       "    <tbody>\n",
       "    </tbody>\n",
       "</table>"
      ],
      "text/plain": [
       "+-------+\n",
       "| Count |\n",
       "+-------+\n",
       "+-------+"
      ]
     },
     "execution_count": 3,
     "metadata": {},
     "output_type": "execute_result"
    }
   ],
   "source": [
    "%%sql\n",
    "CREATE OR REPLACE TABLE test (num INTEGER);"
   ]
  },
  {
   "cell_type": "code",
   "execution_count": 4,
   "metadata": {
    "vscode": {
     "languageId": "sql"
    }
   },
   "outputs": [
    {
     "data": {
      "text/html": [
       "<span style=\"None\">Running query in &#x27;duckdb&#x27;</span>"
      ],
      "text/plain": [
       "Running query in 'duckdb'"
      ]
     },
     "metadata": {},
     "output_type": "display_data"
    },
    {
     "data": {
      "text/html": [
       "<table>\n",
       "    <thead>\n",
       "        <tr>\n",
       "            <th>num</th>\n",
       "        </tr>\n",
       "    </thead>\n",
       "    <tbody>\n",
       "        <tr>\n",
       "            <td>42</td>\n",
       "        </tr>\n",
       "    </tbody>\n",
       "</table>"
      ],
      "text/plain": [
       "+-----+\n",
       "| num |\n",
       "+-----+\n",
       "|  42 |\n",
       "+-----+"
      ]
     },
     "execution_count": 4,
     "metadata": {},
     "output_type": "execute_result"
    }
   ],
   "source": [
    "%%sql\n",
    "\n",
    "-- This code will add a new row to the table each time you run it. You can run it as many times as you want.\n",
    "-- Change the number to add a different value to see this in action. \n",
    "INSERT INTO test VALUES (42);\n",
    "CHECKPOINT;\n",
    "\n",
    "SELECT * FROM test"
   ]
  },
  {
   "cell_type": "code",
   "execution_count": 5,
   "metadata": {
    "vscode": {
     "languageId": "sql"
    }
   },
   "outputs": [
    {
     "data": {
      "text/html": [
       "<span style=\"None\">Running query in &#x27;duckdb&#x27;</span>"
      ],
      "text/plain": [
       "Running query in 'duckdb'"
      ]
     },
     "metadata": {},
     "output_type": "display_data"
    },
    {
     "data": {
      "text/html": [
       "<table>\n",
       "    <thead>\n",
       "        <tr>\n",
       "            <th>num</th>\n",
       "        </tr>\n",
       "    </thead>\n",
       "    <tbody>\n",
       "        <tr>\n",
       "            <td>17</td>\n",
       "        </tr>\n",
       "    </tbody>\n",
       "</table>"
      ],
      "text/plain": [
       "+-----+\n",
       "| num |\n",
       "+-----+\n",
       "|  17 |\n",
       "+-----+"
      ]
     },
     "execution_count": 5,
     "metadata": {},
     "output_type": "execute_result"
    }
   ],
   "source": [
    "%%sql\n",
    "-- Change the value of a row in the table.\n",
    "UPDATE test SET num = 17 WHERE num = 42;\n",
    "\n",
    "CHECKPOINT;\n",
    "SELECT * FROM test;"
   ]
  },
  {
   "cell_type": "markdown",
   "metadata": {},
   "source": [
    "## Additional SQL Commands ##\n",
    "In addition to `SELECT`, `INSERT`, and `UPDATE`, there are other SQL commands that can be used to interact with databases. We already saw how to create a table, but there are also commands to delete a table (`DROP TABLE`), delete data from a table (`DELETE FROM`), and alter a table (`ALTER TABLE`). These commands can be used to modify the structure of a database, add or remove data, and perform other operations.\n",
    "\n",
    "## Part 2 - Modifying and deleting from tables ##\n",
    "**In the code below we will:**\n",
    "1. Reconnect to the database (school.db) using a self-closing context managers.\n",
    "2. Alter the table 'test' by adding a new column called \"name\" which stores text data as `VARCHAR`. Set the default value of this column to \"Boris\".\n",
    "3. Insert some new data into this table and query\n",
    "4. Delete some of the data from the table and query again to see the changes.\n",
    "5. Drop the table 'test' and close the connection to the database.\n"
   ]
  },
  {
   "cell_type": "code",
   "execution_count": 6,
   "metadata": {
    "vscode": {
     "languageId": "sql"
    }
   },
   "outputs": [
    {
     "data": {
      "text/html": [
       "<span style=\"None\">Running query in &#x27;duckdb&#x27;</span>"
      ],
      "text/plain": [
       "Running query in 'duckdb'"
      ]
     },
     "metadata": {},
     "output_type": "display_data"
    },
    {
     "data": {
      "text/html": [
       "<table>\n",
       "    <thead>\n",
       "        <tr>\n",
       "            <th>num</th>\n",
       "            <th>name</th>\n",
       "        </tr>\n",
       "    </thead>\n",
       "    <tbody>\n",
       "        <tr>\n",
       "            <td>17</td>\n",
       "            <td>Boris</td>\n",
       "        </tr>\n",
       "    </tbody>\n",
       "</table>"
      ],
      "text/plain": [
       "+-----+-------+\n",
       "| num |  name |\n",
       "+-----+-------+\n",
       "|  17 | Boris |\n",
       "+-----+-------+"
      ]
     },
     "execution_count": 6,
     "metadata": {},
     "output_type": "execute_result"
    }
   ],
   "source": [
    "%%sql\n",
    "-- Adding a new column to the table. NOTE: This will error if the column already exists (so only run it once)\n",
    "ALTER TABLE test ADD COLUMN name VARCHAR DEFAULT 'Boris';\n",
    "\n",
    "SELECT * FROM test;"
   ]
  },
  {
   "cell_type": "code",
   "execution_count": 7,
   "metadata": {
    "vscode": {
     "languageId": "sql"
    }
   },
   "outputs": [
    {
     "data": {
      "text/html": [
       "<span style=\"None\">Running query in &#x27;duckdb&#x27;</span>"
      ],
      "text/plain": [
       "Running query in 'duckdb'"
      ]
     },
     "metadata": {},
     "output_type": "display_data"
    },
    {
     "data": {
      "text/html": [
       "<table>\n",
       "    <thead>\n",
       "        <tr>\n",
       "            <th>num</th>\n",
       "            <th>name</th>\n",
       "        </tr>\n",
       "    </thead>\n",
       "    <tbody>\n",
       "        <tr>\n",
       "            <td>17</td>\n",
       "            <td>Boris</td>\n",
       "        </tr>\n",
       "        <tr>\n",
       "            <td>42</td>\n",
       "            <td>Alice</td>\n",
       "        </tr>\n",
       "    </tbody>\n",
       "</table>"
      ],
      "text/plain": [
       "+-----+-------+\n",
       "| num |  name |\n",
       "+-----+-------+\n",
       "|  17 | Boris |\n",
       "|  42 | Alice |\n",
       "+-----+-------+"
      ]
     },
     "execution_count": 7,
     "metadata": {},
     "output_type": "execute_result"
    }
   ],
   "source": [
    "%%sql\n",
    "-- 4. Add a row to the table. Feel free to use your own values.\n",
    "INSERT INTO test VALUES (42, 'Alice');\n",
    "\n",
    "SELECT * FROM test;"
   ]
  },
  {
   "cell_type": "code",
   "execution_count": 8,
   "metadata": {
    "vscode": {
     "languageId": "sql"
    }
   },
   "outputs": [
    {
     "data": {
      "text/html": [
       "<span style=\"None\">Running query in &#x27;duckdb&#x27;</span>"
      ],
      "text/plain": [
       "Running query in 'duckdb'"
      ]
     },
     "metadata": {},
     "output_type": "display_data"
    },
    {
     "data": {
      "text/html": [
       "<table>\n",
       "    <thead>\n",
       "        <tr>\n",
       "            <th>num</th>\n",
       "            <th>name</th>\n",
       "        </tr>\n",
       "    </thead>\n",
       "    <tbody>\n",
       "        <tr>\n",
       "            <td>42</td>\n",
       "            <td>Alice</td>\n",
       "        </tr>\n",
       "    </tbody>\n",
       "</table>"
      ],
      "text/plain": [
       "+-----+-------+\n",
       "| num |  name |\n",
       "+-----+-------+\n",
       "|  42 | Alice |\n",
       "+-----+-------+"
      ]
     },
     "execution_count": 8,
     "metadata": {},
     "output_type": "execute_result"
    }
   ],
   "source": [
    "%%sql\n",
    "DELETE FROM test WHERE name = 'Boris';\n",
    "\n",
    "SELECT * FROM test;"
   ]
  },
  {
   "cell_type": "code",
   "execution_count": 9,
   "metadata": {
    "vscode": {
     "languageId": "sql"
    }
   },
   "outputs": [
    {
     "data": {
      "text/html": [
       "<span style=\"None\">Running query in &#x27;duckdb&#x27;</span>"
      ],
      "text/plain": [
       "Running query in 'duckdb'"
      ]
     },
     "metadata": {},
     "output_type": "display_data"
    },
    {
     "data": {
      "text/html": [
       "<table>\n",
       "    <thead>\n",
       "        <tr>\n",
       "            <th>Success</th>\n",
       "        </tr>\n",
       "    </thead>\n",
       "    <tbody>\n",
       "    </tbody>\n",
       "</table>"
      ],
      "text/plain": [
       "+---------+\n",
       "| Success |\n",
       "+---------+\n",
       "+---------+"
      ]
     },
     "execution_count": 9,
     "metadata": {},
     "output_type": "execute_result"
    }
   ],
   "source": [
    "%%sql\n",
    "DROP TABLE test;"
   ]
  },
  {
   "cell_type": "markdown",
   "metadata": {},
   "source": [
    "## Part 3 - Writing your own SQL ##\n",
    "Now that we have cleared out our table, we can start to apply our knowledge of SQL to a real-world problem. In the code below we will:\n",
    "\n",
    "1. Create a new table called 'students' with the following columns:\n",
    "    - `student_id` (integer) - primary key\n",
    "    - `first_name` (text) - the first name of the student\n",
    "    - `last_name` (text) - the last name of the student\n",
    "    - `age` (integer) - the age of the student\n",
    "    - `year_level` (integer) - the grade of the student\n",
    "2. Insert some data into this table\n",
    "    - Create at least one row using a favourite fictional character\n",
    "    - the `student_id` field should be unique. Later in this notebook, we will learn how to automatically generate unique ids. For now just start at 1 and go up 1 from there.\n",
    "3. Query the table to see what we have inserted\n",
    "\n",
    "Fill in the blanks in the code below to complete the tasks. Each task has its own cell to allow you to run and debug each operation separately"
   ]
  },
  {
   "cell_type": "code",
   "execution_count": 10,
   "metadata": {
    "vscode": {
     "languageId": "sql"
    }
   },
   "outputs": [
    {
     "data": {
      "text/html": [
       "<span style=\"None\">Running query in &#x27;duckdb&#x27;</span>"
      ],
      "text/plain": [
       "Running query in 'duckdb'"
      ]
     },
     "metadata": {},
     "output_type": "display_data"
    },
    {
     "data": {
      "text/html": [
       "<table>\n",
       "    <thead>\n",
       "        <tr>\n",
       "            <th>student_id</th>\n",
       "            <th>first_name</th>\n",
       "            <th>last_name</th>\n",
       "            <th>age</th>\n",
       "            <th>year_level</th>\n",
       "        </tr>\n",
       "    </thead>\n",
       "    <tbody>\n",
       "        <tr>\n",
       "            <td>1</td>\n",
       "            <td>Roger</td>\n",
       "            <td>Rabbit</td>\n",
       "            <td>18</td>\n",
       "            <td>11</td>\n",
       "        </tr>\n",
       "        <tr>\n",
       "            <td>2</td>\n",
       "            <td>Jessica</td>\n",
       "            <td>Rabbit</td>\n",
       "            <td>17</td>\n",
       "            <td>10</td>\n",
       "        </tr>\n",
       "        <tr>\n",
       "            <td>3</td>\n",
       "            <td>Bugs</td>\n",
       "            <td>Bunny</td>\n",
       "            <td>13</td>\n",
       "            <td>7</td>\n",
       "        </tr>\n",
       "        <tr>\n",
       "            <td>4</td>\n",
       "            <td>Daffy</td>\n",
       "            <td>Duck</td>\n",
       "            <td>10</td>\n",
       "            <td>9</td>\n",
       "        </tr>\n",
       "        <tr>\n",
       "            <td>100</td>\n",
       "            <td>Charlie</td>\n",
       "            <td>Bucket</td>\n",
       "            <td>17</td>\n",
       "            <td>11</td>\n",
       "        </tr>\n",
       "        <tr>\n",
       "            <td>101</td>\n",
       "            <td>Roger</td>\n",
       "            <td>Ramjet</td>\n",
       "            <td>17</td>\n",
       "            <td>11</td>\n",
       "        </tr>\n",
       "    </tbody>\n",
       "</table>"
      ],
      "text/plain": [
       "+------------+------------+-----------+-----+------------+\n",
       "| student_id | first_name | last_name | age | year_level |\n",
       "+------------+------------+-----------+-----+------------+\n",
       "|     1      |   Roger    |   Rabbit  |  18 |     11     |\n",
       "|     2      |  Jessica   |   Rabbit  |  17 |     10     |\n",
       "|     3      |    Bugs    |   Bunny   |  13 |     7      |\n",
       "|     4      |   Daffy    |    Duck   |  10 |     9      |\n",
       "|    100     |  Charlie   |   Bucket  |  17 |     11     |\n",
       "|    101     |   Roger    |   Ramjet  |  17 |     11     |\n",
       "+------------+------------+-----------+-----+------------+"
      ]
     },
     "execution_count": 10,
     "metadata": {},
     "output_type": "execute_result"
    }
   ],
   "source": [
    "%%sql\n",
    "-- 1. Creating a new table called 'students' with five columns: student_id, first_name, last_name, age, and year_level.\n",
    "-- Uncomment the code and complete it to create the table.\n",
    "\n",
    "-- CREATE TABLE students (student_id INTEGER PRIMARY KEY, first_name VARCHAR, );\n",
    "\n",
    "\n",
    "SELECT * FROM students;"
   ]
  },
  {
   "cell_type": "code",
   "execution_count": 11,
   "metadata": {
    "vscode": {
     "languageId": "sql"
    }
   },
   "outputs": [
    {
     "data": {
      "text/html": [
       "<span style=\"None\">Running query in &#x27;duckdb&#x27;</span>"
      ],
      "text/plain": [
       "Running query in 'duckdb'"
      ]
     },
     "metadata": {},
     "output_type": "display_data"
    },
    {
     "data": {
      "text/html": [
       "<table>\n",
       "    <thead>\n",
       "        <tr>\n",
       "            <th>student_id</th>\n",
       "            <th>first_name</th>\n",
       "            <th>last_name</th>\n",
       "            <th>age</th>\n",
       "            <th>year_level</th>\n",
       "        </tr>\n",
       "    </thead>\n",
       "    <tbody>\n",
       "        <tr>\n",
       "            <td>1</td>\n",
       "            <td>Roger</td>\n",
       "            <td>Rabbit</td>\n",
       "            <td>18</td>\n",
       "            <td>11</td>\n",
       "        </tr>\n",
       "        <tr>\n",
       "            <td>2</td>\n",
       "            <td>Jessica</td>\n",
       "            <td>Rabbit</td>\n",
       "            <td>17</td>\n",
       "            <td>10</td>\n",
       "        </tr>\n",
       "        <tr>\n",
       "            <td>3</td>\n",
       "            <td>Bugs</td>\n",
       "            <td>Bunny</td>\n",
       "            <td>13</td>\n",
       "            <td>7</td>\n",
       "        </tr>\n",
       "        <tr>\n",
       "            <td>4</td>\n",
       "            <td>Daffy</td>\n",
       "            <td>Duck</td>\n",
       "            <td>10</td>\n",
       "            <td>9</td>\n",
       "        </tr>\n",
       "        <tr>\n",
       "            <td>100</td>\n",
       "            <td>Charlie</td>\n",
       "            <td>Bucket</td>\n",
       "            <td>17</td>\n",
       "            <td>11</td>\n",
       "        </tr>\n",
       "        <tr>\n",
       "            <td>101</td>\n",
       "            <td>Roger</td>\n",
       "            <td>Ramjet</td>\n",
       "            <td>17</td>\n",
       "            <td>11</td>\n",
       "        </tr>\n",
       "    </tbody>\n",
       "</table>"
      ],
      "text/plain": [
       "+------------+------------+-----------+-----+------------+\n",
       "| student_id | first_name | last_name | age | year_level |\n",
       "+------------+------------+-----------+-----+------------+\n",
       "|     1      |   Roger    |   Rabbit  |  18 |     11     |\n",
       "|     2      |  Jessica   |   Rabbit  |  17 |     10     |\n",
       "|     3      |    Bugs    |   Bunny   |  13 |     7      |\n",
       "|     4      |   Daffy    |    Duck   |  10 |     9      |\n",
       "|    100     |  Charlie   |   Bucket  |  17 |     11     |\n",
       "|    101     |   Roger    |   Ramjet  |  17 |     11     |\n",
       "+------------+------------+-----------+-----+------------+"
      ]
     },
     "execution_count": 11,
     "metadata": {},
     "output_type": "execute_result"
    }
   ],
   "source": [
    "%%sql\n",
    "\n",
    "-- 2. Adding rows to the table. Add as many as you like (at least 5), just be sure to change the values and increment the id. \n",
    "-- Be sure to include different ages and year levels. The id must be unique for each row.\n",
    "-- INSERT INTO students VALUES (1, 'Roger', 'Rabbit', 18, 11);\n",
    "\n",
    "CHECKPOINT;\n",
    "\n",
    "SELECT * FROM students;\n",
    "    "
   ]
  },
  {
   "cell_type": "code",
   "execution_count": 12,
   "metadata": {
    "vscode": {
     "languageId": "sql"
    }
   },
   "outputs": [
    {
     "data": {
      "text/html": [
       "<span style=\"None\">Running query in &#x27;duckdb&#x27;</span>"
      ],
      "text/plain": [
       "Running query in 'duckdb'"
      ]
     },
     "metadata": {},
     "output_type": "display_data"
    },
    {
     "data": {
      "text/html": [
       "<table>\n",
       "    <thead>\n",
       "        <tr>\n",
       "            <th>first_name</th>\n",
       "            <th>age</th>\n",
       "        </tr>\n",
       "    </thead>\n",
       "    <tbody>\n",
       "        <tr>\n",
       "            <td>Roger</td>\n",
       "            <td>18</td>\n",
       "        </tr>\n",
       "        <tr>\n",
       "            <td>Jessica</td>\n",
       "            <td>17</td>\n",
       "        </tr>\n",
       "        <tr>\n",
       "            <td>Charlie</td>\n",
       "            <td>17</td>\n",
       "        </tr>\n",
       "        <tr>\n",
       "            <td>Roger</td>\n",
       "            <td>17</td>\n",
       "        </tr>\n",
       "    </tbody>\n",
       "</table>"
      ],
      "text/plain": [
       "+------------+-----+\n",
       "| first_name | age |\n",
       "+------------+-----+\n",
       "|   Roger    |  18 |\n",
       "|  Jessica   |  17 |\n",
       "|  Charlie   |  17 |\n",
       "|   Roger    |  17 |\n",
       "+------------+-----+"
      ]
     },
     "execution_count": 12,
     "metadata": {},
     "output_type": "execute_result"
    }
   ],
   "source": [
    "%%sql\n",
    "-- 3. Querying the Database. To get all the values from a table, we just used con.table('table_name').show(). Now we want to write\n",
    "-- custom SQL queries to get specific data. \n",
    "--  This first query will get the first name and age of all the students who are older than 15. \n",
    "-- Uncomment the code and use the formatting of the first query to write the second query, \n",
    "-- which will get all the students who have a year level of 12.\n",
    " \n",
    "SELECT first_name, age \n",
    "    FROM students \n",
    "    WHERE age > 15;\n"
   ]
  },
  {
   "cell_type": "code",
   "execution_count": 13,
   "metadata": {
    "vscode": {
     "languageId": "sql"
    }
   },
   "outputs": [
    {
     "data": {
      "text/html": [
       "<span style=\"None\">Running query in &#x27;duckdb&#x27;</span>"
      ],
      "text/plain": [
       "Running query in 'duckdb'"
      ]
     },
     "metadata": {},
     "output_type": "display_data"
    },
    {
     "ename": "UnboundLocalError",
     "evalue": "cannot access local variable 'result' where it is not associated with a value",
     "output_type": "error",
     "traceback": [
      "\u001b[0;31m---------------------------------------------------------------------------\u001b[0m",
      "\u001b[0;31mUnboundLocalError\u001b[0m                         Traceback (most recent call last)",
      "Cell \u001b[0;32mIn[13], line 1\u001b[0m\n\u001b[0;32m----> 1\u001b[0m \u001b[43mget_ipython\u001b[49m\u001b[43m(\u001b[49m\u001b[43m)\u001b[49m\u001b[38;5;241;43m.\u001b[39;49m\u001b[43mrun_cell_magic\u001b[49m\u001b[43m(\u001b[49m\u001b[38;5;124;43m'\u001b[39;49m\u001b[38;5;124;43msql\u001b[39;49m\u001b[38;5;124;43m'\u001b[39;49m\u001b[43m,\u001b[49m\u001b[43m \u001b[49m\u001b[38;5;124;43m'\u001b[39;49m\u001b[38;5;124;43m'\u001b[39;49m\u001b[43m,\u001b[49m\u001b[43m \u001b[49m\u001b[38;5;124;43m'\u001b[39;49m\u001b[38;5;130;43;01m\\n\u001b[39;49;00m\u001b[38;5;124;43m-- Write your own query to get the first name and last name of all students in year 12.\u001b[39;49m\u001b[38;5;130;43;01m\\n\u001b[39;49;00m\u001b[38;5;130;43;01m\\n\u001b[39;49;00m\u001b[38;5;124;43m'\u001b[39;49m\u001b[43m)\u001b[49m\n",
      "File \u001b[0;32m~/.local/lib/python3.12/site-packages/IPython/core/interactiveshell.py:2541\u001b[0m, in \u001b[0;36mInteractiveShell.run_cell_magic\u001b[0;34m(self, magic_name, line, cell)\u001b[0m\n\u001b[1;32m   2539\u001b[0m \u001b[38;5;28;01mwith\u001b[39;00m \u001b[38;5;28mself\u001b[39m\u001b[38;5;241m.\u001b[39mbuiltin_trap:\n\u001b[1;32m   2540\u001b[0m     args \u001b[38;5;241m=\u001b[39m (magic_arg_s, cell)\n\u001b[0;32m-> 2541\u001b[0m     result \u001b[38;5;241m=\u001b[39m \u001b[43mfn\u001b[49m\u001b[43m(\u001b[49m\u001b[38;5;241;43m*\u001b[39;49m\u001b[43margs\u001b[49m\u001b[43m,\u001b[49m\u001b[43m \u001b[49m\u001b[38;5;241;43m*\u001b[39;49m\u001b[38;5;241;43m*\u001b[39;49m\u001b[43mkwargs\u001b[49m\u001b[43m)\u001b[49m\n\u001b[1;32m   2543\u001b[0m \u001b[38;5;66;03m# The code below prevents the output from being displayed\u001b[39;00m\n\u001b[1;32m   2544\u001b[0m \u001b[38;5;66;03m# when using magics with decorator @output_can_be_silenced\u001b[39;00m\n\u001b[1;32m   2545\u001b[0m \u001b[38;5;66;03m# when the last Python token in the expression is a ';'.\u001b[39;00m\n\u001b[1;32m   2546\u001b[0m \u001b[38;5;28;01mif\u001b[39;00m \u001b[38;5;28mgetattr\u001b[39m(fn, magic\u001b[38;5;241m.\u001b[39mMAGIC_OUTPUT_CAN_BE_SILENCED, \u001b[38;5;28;01mFalse\u001b[39;00m):\n",
      "File \u001b[0;32m/usr/local/python/3.12.1/lib/python3.12/site-packages/sql/magic.py:365\u001b[0m, in \u001b[0;36mSqlMagic.execute\u001b[0;34m(self, line, cell, local_ns)\u001b[0m\n\u001b[1;32m    257\u001b[0m \u001b[38;5;129m@no_var_expand\u001b[39m\n\u001b[1;32m    258\u001b[0m \u001b[38;5;129m@needs_local_scope\u001b[39m\n\u001b[1;32m    259\u001b[0m \u001b[38;5;129m@line_magic\u001b[39m(\u001b[38;5;124m\"\u001b[39m\u001b[38;5;124msql\u001b[39m\u001b[38;5;124m\"\u001b[39m)\n\u001b[0;32m   (...)\u001b[0m\n\u001b[1;32m    337\u001b[0m )\n\u001b[1;32m    338\u001b[0m \u001b[38;5;28;01mdef\u001b[39;00m \u001b[38;5;21mexecute\u001b[39m(\u001b[38;5;28mself\u001b[39m, line\u001b[38;5;241m=\u001b[39m\u001b[38;5;124m\"\u001b[39m\u001b[38;5;124m\"\u001b[39m, cell\u001b[38;5;241m=\u001b[39m\u001b[38;5;124m\"\u001b[39m\u001b[38;5;124m\"\u001b[39m, local_ns\u001b[38;5;241m=\u001b[39m\u001b[38;5;28;01mNone\u001b[39;00m):\n\u001b[1;32m    339\u001b[0m \u001b[38;5;250m    \u001b[39m\u001b[38;5;124;03m\"\"\"\u001b[39;00m\n\u001b[1;32m    340\u001b[0m \u001b[38;5;124;03m    Runs SQL statement against a database, specified by\u001b[39;00m\n\u001b[1;32m    341\u001b[0m \u001b[38;5;124;03m    SQLAlchemy connect string.\u001b[39;00m\n\u001b[0;32m   (...)\u001b[0m\n\u001b[1;32m    363\u001b[0m \n\u001b[1;32m    364\u001b[0m \u001b[38;5;124;03m    \"\"\"\u001b[39;00m\n\u001b[0;32m--> 365\u001b[0m     \u001b[38;5;28;01mreturn\u001b[39;00m \u001b[38;5;28;43mself\u001b[39;49m\u001b[38;5;241;43m.\u001b[39;49m\u001b[43m_execute\u001b[49m\u001b[43m(\u001b[49m\n\u001b[1;32m    366\u001b[0m \u001b[43m        \u001b[49m\u001b[43mline\u001b[49m\u001b[38;5;241;43m=\u001b[39;49m\u001b[43mline\u001b[49m\u001b[43m,\u001b[49m\u001b[43m \u001b[49m\u001b[43mcell\u001b[49m\u001b[38;5;241;43m=\u001b[39;49m\u001b[43mcell\u001b[49m\u001b[43m,\u001b[49m\u001b[43m \u001b[49m\u001b[43mlocal_ns\u001b[49m\u001b[38;5;241;43m=\u001b[39;49m\u001b[43mlocal_ns\u001b[49m\u001b[43m,\u001b[49m\u001b[43m \u001b[49m\u001b[43mis_interactive_mode\u001b[49m\u001b[38;5;241;43m=\u001b[39;49m\u001b[38;5;28;43;01mFalse\u001b[39;49;00m\n\u001b[1;32m    367\u001b[0m \u001b[43m    \u001b[49m\u001b[43m)\u001b[49m\n",
      "File \u001b[0;32m/usr/local/python/3.12.1/lib/python3.12/site-packages/ploomber_core/exceptions.py:128\u001b[0m, in \u001b[0;36mmodify_exceptions.<locals>.wrapper\u001b[0;34m(*args, **kwargs)\u001b[0m\n\u001b[1;32m    125\u001b[0m \u001b[38;5;129m@wraps\u001b[39m(fn)\n\u001b[1;32m    126\u001b[0m \u001b[38;5;28;01mdef\u001b[39;00m \u001b[38;5;21mwrapper\u001b[39m(\u001b[38;5;241m*\u001b[39margs, \u001b[38;5;241m*\u001b[39m\u001b[38;5;241m*\u001b[39mkwargs):\n\u001b[1;32m    127\u001b[0m     \u001b[38;5;28;01mtry\u001b[39;00m:\n\u001b[0;32m--> 128\u001b[0m         \u001b[38;5;28;01mreturn\u001b[39;00m \u001b[43mfn\u001b[49m\u001b[43m(\u001b[49m\u001b[38;5;241;43m*\u001b[39;49m\u001b[43margs\u001b[49m\u001b[43m,\u001b[49m\u001b[43m \u001b[49m\u001b[38;5;241;43m*\u001b[39;49m\u001b[38;5;241;43m*\u001b[39;49m\u001b[43mkwargs\u001b[49m\u001b[43m)\u001b[49m\n\u001b[1;32m    129\u001b[0m     \u001b[38;5;28;01mexcept\u001b[39;00m (\u001b[38;5;167;01mValueError\u001b[39;00m, \u001b[38;5;167;01mTypeError\u001b[39;00m) \u001b[38;5;28;01mas\u001b[39;00m e:\n\u001b[1;32m    130\u001b[0m         _add_community_link(e)\n",
      "File \u001b[0;32m/usr/local/python/3.12.1/lib/python3.12/site-packages/sql/magic.py:624\u001b[0m, in \u001b[0;36mSqlMagic._execute\u001b[0;34m(self, line, cell, local_ns, is_interactive_mode)\u001b[0m\n\u001b[1;32m    621\u001b[0m     handle_exception(e, command\u001b[38;5;241m.\u001b[39msql, \u001b[38;5;28mself\u001b[39m\u001b[38;5;241m.\u001b[39mshort_errors)\n\u001b[1;32m    622\u001b[0m \u001b[38;5;28;01mexcept\u001b[39;00m \u001b[38;5;167;01mException\u001b[39;00m \u001b[38;5;28;01mas\u001b[39;00m e:\n\u001b[1;32m    623\u001b[0m     \u001b[38;5;66;03m# Handle non SQLAlchemy errors\u001b[39;00m\n\u001b[0;32m--> 624\u001b[0m     \u001b[43mhandle_exception\u001b[49m\u001b[43m(\u001b[49m\u001b[43me\u001b[49m\u001b[43m,\u001b[49m\u001b[43m \u001b[49m\u001b[43mcommand\u001b[49m\u001b[38;5;241;43m.\u001b[39;49m\u001b[43msql\u001b[49m\u001b[43m,\u001b[49m\u001b[43m \u001b[49m\u001b[38;5;28;43mself\u001b[39;49m\u001b[38;5;241;43m.\u001b[39;49m\u001b[43mshort_errors\u001b[49m\u001b[43m)\u001b[49m\n",
      "File \u001b[0;32m/usr/local/python/3.12.1/lib/python3.12/site-packages/sql/error_handler.py:115\u001b[0m, in \u001b[0;36mhandle_exception\u001b[0;34m(error, query, short_error)\u001b[0m\n\u001b[1;32m    113\u001b[0m         _display_error_msg_with_trace(error, detailed_message)\n\u001b[1;32m    114\u001b[0m \u001b[38;5;28;01melse\u001b[39;00m:\n\u001b[0;32m--> 115\u001b[0m     \u001b[38;5;28;01mraise\u001b[39;00m error\n",
      "File \u001b[0;32m/usr/local/python/3.12.1/lib/python3.12/site-packages/sql/magic.py:578\u001b[0m, in \u001b[0;36mSqlMagic._execute\u001b[0;34m(self, line, cell, local_ns, is_interactive_mode)\u001b[0m\n\u001b[1;32m    575\u001b[0m     parameters \u001b[38;5;241m=\u001b[39m user_ns\n\u001b[1;32m    577\u001b[0m \u001b[38;5;28;01mtry\u001b[39;00m:\n\u001b[0;32m--> 578\u001b[0m     result \u001b[38;5;241m=\u001b[39m \u001b[43mrun_statements\u001b[49m\u001b[43m(\u001b[49m\u001b[43mconn\u001b[49m\u001b[43m,\u001b[49m\u001b[43m \u001b[49m\u001b[43mcommand\u001b[49m\u001b[38;5;241;43m.\u001b[39;49m\u001b[43msql\u001b[49m\u001b[43m,\u001b[49m\u001b[43m \u001b[49m\u001b[38;5;28;43mself\u001b[39;49m\u001b[43m,\u001b[49m\u001b[43m \u001b[49m\u001b[43mparameters\u001b[49m\u001b[38;5;241;43m=\u001b[39;49m\u001b[43mparameters\u001b[49m\u001b[43m)\u001b[49m\n\u001b[1;32m    580\u001b[0m     \u001b[38;5;28;01mif\u001b[39;00m (\n\u001b[1;32m    581\u001b[0m         result \u001b[38;5;129;01mis\u001b[39;00m \u001b[38;5;129;01mnot\u001b[39;00m \u001b[38;5;28;01mNone\u001b[39;00m\n\u001b[1;32m    582\u001b[0m         \u001b[38;5;129;01mand\u001b[39;00m \u001b[38;5;129;01mnot\u001b[39;00m \u001b[38;5;28misinstance\u001b[39m(result, \u001b[38;5;28mstr\u001b[39m)\n\u001b[0;32m   (...)\u001b[0m\n\u001b[1;32m    585\u001b[0m         \u001b[38;5;66;03m# Instead of returning values, set variables directly in the\u001b[39;00m\n\u001b[1;32m    586\u001b[0m         \u001b[38;5;66;03m# users namespace. Variable names given by column names\u001b[39;00m\n\u001b[1;32m    588\u001b[0m         \u001b[38;5;28;01mif\u001b[39;00m \u001b[38;5;28mself\u001b[39m\u001b[38;5;241m.\u001b[39mautopandas \u001b[38;5;129;01mor\u001b[39;00m \u001b[38;5;28mself\u001b[39m\u001b[38;5;241m.\u001b[39mautopolars:\n",
      "File \u001b[0;32m/usr/local/python/3.12.1/lib/python3.12/site-packages/sql/run/run.py:65\u001b[0m, in \u001b[0;36mrun_statements\u001b[0;34m(conn, sql, config, parameters)\u001b[0m\n\u001b[1;32m     58\u001b[0m         \u001b[38;5;28;01mif\u001b[39;00m (\n\u001b[1;32m     59\u001b[0m             config\u001b[38;5;241m.\u001b[39mfeedback \u001b[38;5;241m>\u001b[39m\u001b[38;5;241m=\u001b[39m \u001b[38;5;241m1\u001b[39m\n\u001b[1;32m     60\u001b[0m             \u001b[38;5;129;01mand\u001b[39;00m \u001b[38;5;28mhasattr\u001b[39m(result, \u001b[38;5;124m\"\u001b[39m\u001b[38;5;124mrowcount\u001b[39m\u001b[38;5;124m\"\u001b[39m)\n\u001b[1;32m     61\u001b[0m             \u001b[38;5;129;01mand\u001b[39;00m result\u001b[38;5;241m.\u001b[39mrowcount \u001b[38;5;241m>\u001b[39m \u001b[38;5;241m0\u001b[39m\n\u001b[1;32m     62\u001b[0m         ):\n\u001b[1;32m     63\u001b[0m             display\u001b[38;5;241m.\u001b[39mmessage_success(\u001b[38;5;124mf\u001b[39m\u001b[38;5;124m\"\u001b[39m\u001b[38;5;132;01m{\u001b[39;00mresult\u001b[38;5;241m.\u001b[39mrowcount\u001b[38;5;132;01m}\u001b[39;00m\u001b[38;5;124m rows affected.\u001b[39m\u001b[38;5;124m\"\u001b[39m)\n\u001b[0;32m---> 65\u001b[0m result_set \u001b[38;5;241m=\u001b[39m ResultSet(\u001b[43mresult\u001b[49m, config, statement, conn)\n\u001b[1;32m     66\u001b[0m \u001b[38;5;28;01mreturn\u001b[39;00m select_df_type(result_set, config)\n",
      "\u001b[0;31mUnboundLocalError\u001b[0m: cannot access local variable 'result' where it is not associated with a value"
     ]
    }
   ],
   "source": [
    "%%sql\n",
    "\n",
    "-- Write your own query to get the first name and last name of all students in year 12.\n",
    "\n"
   ]
  },
  {
   "cell_type": "markdown",
   "metadata": {},
   "source": [
    "## Part 4 - Creating a sequence ##\n",
    "At the moment we have to manually enter the `student_id` field for each row. This is not ideal as it is easy to make a mistake and enter the same student_id twice. To avoid this, we can create a sequence that will automatically generate unique ids for us.\n",
    "\n",
    "A sequence is a database object that generates a sequence of numbers. This ensures that our ids will always be unique when we use the sequence to generate them.\n",
    "\n",
    "**In the code below we will:**\n",
    "1. Create a sequence called 'student_id_seq' that starts at 100 (to keep it safe) and increments by 1.\n",
    "2. Alter the 'students' table to set the default value of the `student_id` column to the next value in the sequence.\n",
    "3. Insert some new data into the 'students' table and query to see the changes."
   ]
  },
  {
   "cell_type": "code",
   "execution_count": null,
   "metadata": {
    "vscode": {
     "languageId": "sql"
    }
   },
   "outputs": [],
   "source": [
    "%%sql\n",
    ";\n",
    "-- 1. Creating a sequence. This will be used to generate unique student IDs.\n",
    "--  NOTE: as with any CREATE or ALTER statement, we only want to run it once. \n",
    "CREATE OR REPLACE sequence student_id_seq START 100;\n",
    "\n",
    "--  2. Altering the students table \n",
    "ALTER TABLE students ALTER COLUMN student_id SET DEFAULT nextval('student_id_seq');\n",
    "\n",
    "CHECKPOINT;"
   ]
  },
  {
   "cell_type": "code",
   "execution_count": null,
   "metadata": {
    "vscode": {
     "languageId": "sql"
    }
   },
   "outputs": [],
   "source": [
    "%%sql\n",
    "-- 3. Adding a new student to the table. This time we don't need to specify the ID, as it will be generated automatically.\n",
    "-- Make sure you have at least one pair of students with the same first name, but different last names.\n",
    "INSERT INTO students (first_name, last_name, age, year_level) VALUES ('Roger', 'Ramjet', 17, 11);\n",
    "    "
   ]
  },
  {
   "cell_type": "markdown",
   "metadata": {},
   "source": [
    "## Part 5 - Complex SQL Conditions ##\n",
    "\n",
    "In addition to simple conditions, SQL allows us to use complex conditions to filter data. We can use `AND`, `OR`, and `NOT` to combine conditions and create more complex queries. We can also use comparison operators such as `=`, `!=`, `<`, `>`, `<=`, and `>=` to compare values. These operators can be used to filter data based on specific criteria.\n",
    "\n",
    "**In the code below, you should:**\n",
    "1. Query the `students` table to find all students who are in year 10 **and** are 15 years old.\n",
    "2. Query the `students` table to find all students who are in year 12 **or** are 18 years old.\n",
    "3. Query the `students` table to find all students who are **not** in year 9.\n",
    "\n",
    "You might want to add additional rows to the `students` table to test these queries."
   ]
  },
  {
   "cell_type": "code",
   "execution_count": null,
   "metadata": {
    "vscode": {
     "languageId": "sql"
    }
   },
   "outputs": [],
   "source": [
    "%%sql\n",
    "\n",
    "-- It's up to you now! \n",
    "-- 1. All students who are in year 10 AND are 15 years old.\n",
    "SELECT * FROM STUDENTS WHERE year_level = 10 AND age = 15;"
   ]
  },
  {
   "cell_type": "code",
   "execution_count": null,
   "metadata": {
    "vscode": {
     "languageId": "sql"
    }
   },
   "outputs": [],
   "source": [
    "%%sql\n",
    "-- 2. All students who are in Year 12 OR are 18 years old.\n",
    "\n"
   ]
  },
  {
   "cell_type": "code",
   "execution_count": null,
   "metadata": {
    "vscode": {
     "languageId": "sql"
    }
   },
   "outputs": [],
   "source": [
    "%%sql\n",
    "-- 3. All students who are not in Year 9\n",
    "\n"
   ]
  },
  {
   "cell_type": "code",
   "execution_count": 15,
   "metadata": {
    "vscode": {
     "languageId": "sql"
    }
   },
   "outputs": [
    {
     "data": {
      "text/html": [
       "<span style=\"None\">Running query in &#x27;duckdb&#x27;</span>"
      ],
      "text/plain": [
       "Running query in 'duckdb'"
      ]
     },
     "metadata": {},
     "output_type": "display_data"
    },
    {
     "data": {
      "text/html": [
       "<table>\n",
       "    <thead>\n",
       "        <tr>\n",
       "            <th>Success</th>\n",
       "        </tr>\n",
       "    </thead>\n",
       "    <tbody>\n",
       "    </tbody>\n",
       "</table>"
      ],
      "text/plain": [
       "+---------+\n",
       "| Success |\n",
       "+---------+\n",
       "+---------+"
      ]
     },
     "execution_count": 15,
     "metadata": {},
     "output_type": "execute_result"
    }
   ],
   "source": [
    "%%sql\n",
    "CHECKPOINT;"
   ]
  }
 ],
 "metadata": {
  "kernelspec": {
   "display_name": "Python 3",
   "language": "python",
   "name": "python3"
  },
  "language_info": {
   "codemirror_mode": {
    "name": "ipython",
    "version": 3
   },
   "file_extension": ".py",
   "mimetype": "text/x-python",
   "name": "python",
   "nbconvert_exporter": "python",
   "pygments_lexer": "ipython3",
   "version": "3.12.1"
  }
 },
 "nbformat": 4,
 "nbformat_minor": 2
}
