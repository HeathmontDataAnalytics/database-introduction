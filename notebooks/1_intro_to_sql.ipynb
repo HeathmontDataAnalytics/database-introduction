{
 "cells": [
  {
   "cell_type": "markdown",
   "metadata": {},
   "source": [
    "# Introduction to Databases and SQL #\n",
    "## Databases ##\n",
    "**Databases** are a collection of data that is stored in a computer system. Databases allow us to store, retrieve, and manipulate data. Databases are used in many applications, such as websites, mobile apps, and desktop applications. Databases use tables to store data. Each table has columns and rows. Columns represent the *attributes* of the data, and rows represent *individual records*.\n",
    "\n",
    "## SQL ##\n",
    "**SQL (Structured Query Language)** is a programming language used to interact with databases. SQL allows us to create, read, update, and delete data in a database. SQL is used to perform operations on databases, such as querying data, inserting data, updating data, and deleting data.\n",
    "\n",
    "**The basic SQL commands are:**\n",
    "- `SELECT`: Used to retrieve data from a database.\n",
    "- `INSERT`: Used to insert data into a database.\n",
    "- `UPDATE`: Used to update data in a database.\n",
    "\n",
    "\n",
    "\n",
    "## Part 1 - Creating a table ##\n",
    "**In the code below we will:** \n",
    "1. Connect to a new database (school.db) using duckdb.\n",
    "2. Create a table called 'test' with one column: \"num\" which stores an integer. *Integers are whole numbers (ie. positive or negative but not a decimal)*\n",
    "3. Insert some data into this table \n",
    "4. Query the table to see what we have inserted. \n",
    "5. Update the data in the table and query again to see the changes.\n",
    "6. Close the connection to the database.\n",
    "\n",
    "> Note: to allow some code to only be run once, while other code runs multiple times, we have separated them into separate cells. To run the code, click on the play button for each cell in order.\n"
   ]
  },
  {
   "cell_type": "code",
   "execution_count": 1,
   "metadata": {},
   "outputs": [],
   "source": [
    "import duckdb\n",
    "\n",
    "# 1. Create a new database called 'school.db' in the data folder, accessed through the con variable.\n",
    "# If the database already exists, this code will connect to the existing database file.\n",
    "con = duckdb.connect('../data/school.db')\n",
    "\n"
   ]
  },
  {
   "cell_type": "code",
   "execution_count": null,
   "metadata": {},
   "outputs": [],
   "source": [
    "# 2. Creating the table\n",
    "# Only run this code once: if you run it again it will error (because the table already exists)\n",
    "con.sql(\"CREATE TABLE test (num INTEGER)\")\n",
    "con.table(\"test\").show()"
   ]
  },
  {
   "cell_type": "code",
   "execution_count": null,
   "metadata": {},
   "outputs": [],
   "source": [
    "# 3. This code will add a new row to the table each time you run it. You can run it as many times as you want.\n",
    "# Change the number to add a different value to see this in action. \n",
    "con.sql(\"INSERT INTO test VALUES (69)\")\n",
    "# query the table\n",
    "con.table(\"test\").show()"
   ]
  },
  {
   "cell_type": "code",
   "execution_count": null,
   "metadata": {},
   "outputs": [],
   "source": [
    "con.sql(\"UPDATE test SET num = 17 WHERE num = 42\")\n",
    "con.table(\"test\").show()"
   ]
  },
  {
   "cell_type": "code",
   "execution_count": 7,
   "metadata": {},
   "outputs": [],
   "source": [
    "# We want to close the connection to avoid any issues with the database file.\n",
    "# In the future we will do this using 'with:' statements (which use a context manager). \n",
    "con.close()"
   ]
  },
  {
   "cell_type": "markdown",
   "metadata": {},
   "source": [
    "## Additional SQL Commands ##\n",
    "In addition to `SELECT`, `INSERT`, and `UPDATE`, there are other SQL commands that can be used to interact with databases. We already saw how to create a table, but there are also commands to delete a table (`DROP TABLE`), delete data from a table (`DELETE FROM`), and alter a table (`ALTER TABLE`). These commands can be used to modify the structure of a database, add or remove data, and perform other operations.\n",
    "\n",
    "## Part 2 - Modifying and deleting from tables ##\n",
    "**In the code below we will:**\n",
    "1. Reconnect to the database (school.db) using a self-closing context managers.\n",
    "2. Alter the table 'test' by adding a new column called \"name\" which stores text data as `VARCHAR`. Set the default value of this column to \"Boris\".\n",
    "3. Insert some new data into this table and query\n",
    "4. Delete some of the data from the table and query again to see the changes.\n",
    "5. Drop the table 'test' and close the connection to the database.\n"
   ]
  },
  {
   "cell_type": "code",
   "execution_count": null,
   "metadata": {},
   "outputs": [],
   "source": [
    "# 1. Using a context manager to avoid having to close the connection manually. We will do this every time\n",
    "with duckdb.connect('../data/school.db') as con:\n",
    "    # 2. Adding a new column to the table. NOTE: This will error if the column already exists (so only run it once)\n",
    "    con.sql(\"ALTER TABLE test ADD COLUMN name VARCHAR DEFAULT 'Boris'\")\n",
    "    con.table('test').show()"
   ]
  },
  {
   "cell_type": "code",
   "execution_count": null,
   "metadata": {},
   "outputs": [],
   "source": [
    "# 4. Add a row to the table. Feel free to use your own values.\n",
    "with duckdb.connect('../data/school.db') as con:\n",
    "    con.sql(\"INSERT INTO test VALUES (42, 'Alice')\")\n",
    "    con.table('test').show()"
   ]
  },
  {
   "cell_type": "code",
   "execution_count": null,
   "metadata": {},
   "outputs": [],
   "source": [
    "# 5. Deleting rows. We'll get rid of the rows called \"Boris\"\n",
    "\n",
    "with duckdb.connect('../data/school.db') as con:\n",
    "    con.sql(\"DELETE FROM test WHERE name = 'Boris'\")\n",
    "    con.table('test').show()"
   ]
  },
  {
   "cell_type": "code",
   "execution_count": null,
   "metadata": {},
   "outputs": [],
   "source": [
    "# 6. Dropping the table. This will delete the table and all its contents.\n",
    "with duckdb.connect('../data/school.db') as con:\n",
    "    con.sql(\"DROP TABLE test\")"
   ]
  },
  {
   "cell_type": "markdown",
   "metadata": {},
   "source": [
    "## Part 3 - Writing your own SQL ##\n",
    "Now that we have cleared out our table, we can start to apply our knowledge of SQL to a real-world problem. In the code below we will:\n",
    "\n",
    "1. Create a new table called 'students' with the following columns:\n",
    "    - `student_id` (integer) - primary key\n",
    "    - `first_name` (text) - the first name of the student\n",
    "    - `last_name` (text) - the last name of the student\n",
    "    - `age` (integer) - the age of the student\n",
    "    - `year_level` (text) - the grade of the student\n",
    "2. Insert some data into this table\n",
    "    - Create at least one row using a favourite fictional character\n",
    "    - the `student_id` field should be unique. Later in this notebook, we will learn how to automatically generate unique ids. For now just start at 1 and go up 1 from there.\n",
    "3. Query the table to see what we have inserted\n",
    "\n",
    "Fill in the blanks in the code below to complete the tasks. Each task has its own cell to allow you to run and debug each operation separately"
   ]
  },
  {
   "cell_type": "code",
   "execution_count": null,
   "metadata": {},
   "outputs": [],
   "source": [
    "# 1. Creating a new table called 'students' with five columns: student_id, first_name, last_name, age, and year_level.\n",
    "with duckdb.connect('../data/school.db') as con:\n",
    "    con.sql(\"CREATE TABLE students (student_id INTEGER PRIMARY KEY, first_name VARCHAR, )\")\n",
    "    con.table('students').show()"
   ]
  },
  {
   "cell_type": "code",
   "execution_count": null,
   "metadata": {},
   "outputs": [],
   "source": [
    "# 2. Adding rows to the table. Add as many as you like (at least 3), just be sure to change the values and increment the id. \n",
    "# To make it sufficiently interesting, give different ages and year levels.\n",
    "with duckdb.connect('../data/school.db') as con:\n",
    "    con.sql(\"INSERT INTO students VALUES (1, 'Roger', 'Rabbit', 18, 11)\")\n",
    "    con.sql(\"INSERT INTO students VALUES (2, 'Jessica', 'Rabbit', 17, 10)\")\n",
    "    con.sql(\"INSERT INTO students VALUES (3, 'Bugs', 'Bunny', 13, 7)\")\n",
    "    con.sql(\"INSERT INTO students VALUES (4, 'Daffy', 'Duck', 10, 9)\")\n",
    "\n",
    "    con.table('students').show()\n",
    "    "
   ]
  },
  {
   "cell_type": "code",
   "execution_count": null,
   "metadata": {},
   "outputs": [],
   "source": [
    "# 3. Querying the Database. To get all the values from a table, we just used con.table('table_name').show(). Now we want to write\n",
    "# custom SQL queries to get specific data. \n",
    "# The first query will get the first name and age of all the students who are older than 15. \n",
    "# Uncomment the code and use the formatting of the first query to write the second query, \n",
    "# which will get all the students who have a year level of 12.\n",
    "\n",
    "with duckdb.connect('../data/school.db') as con:\n",
    "    old_students = con.sql(\"\"\"\n",
    "                           SELECT first_name, age \n",
    "                           FROM students \n",
    "                           WHERE age > 15\n",
    "                           \"\"\")\n",
    "    old_students.show()\n",
    "    \n",
    "    # year_12s =  con.sql(\"\"\"\n",
    "    #                   SELECT ___\n",
    "    #                   \"\"\")\n",
    "    # year_12s.show()"
   ]
  },
  {
   "cell_type": "markdown",
   "metadata": {},
   "source": [
    "## Part 4 - Creating a sequence ##\n",
    "At the moment we have to manually enter the `student_id` field for each row. This is not ideal as it is easy to make a mistake and enter the same student_id twice. To avoid this, we can create a sequence that will automatically generate unique ids for us.\n",
    "\n",
    "A sequence is a database object that generates a sequence of numbers. This ensures that our ids will always be unique when we use the sequence to generate them.\n",
    "\n",
    "**In the code below we will:**\n",
    "1. Create a sequence called 'student_id_seq' that starts at 100 (to keep it safe) and increments by 1.\n",
    "2. Alter the 'students' table to set the default value of the `student_id` column to the next value in the sequence.\n",
    "3. Insert some new data into the 'students' table and query to see the changes."
   ]
  },
  {
   "cell_type": "code",
   "execution_count": 6,
   "metadata": {},
   "outputs": [],
   "source": [
    "# 1. Creating a sequence. This will be used to generate unique student IDs.\n",
    "# NOTE: as with any CREATE or ALTER statement, we only want to run it once. \n",
    "with duckdb.connect('../data/school.db') as con:\n",
    "    con.sql(\"CREATE sequence student_id_seq START 100\")\n",
    "    # 2. Altering the students table \n",
    "    con.sql(\"ALTER TABLE students ALTER COLUMN student_id SET DEFAULT nextval('student_id_seq')\")\n",
    "    "
   ]
  },
  {
   "cell_type": "code",
   "execution_count": null,
   "metadata": {},
   "outputs": [],
   "source": [
    "# 3. Adding a new student to the table. This time we don't need to specify the ID, as it will be generated automatically.\n",
    "# Make sure you have at least one pair of students with the same first name, but different last names.\n",
    "with duckdb.connect('../data/school.db') as con:\n",
    "    # Note, because we aren't providing an id, we need to specify the columns we are adding.\n",
    "    con.sql(\"INSERT INTO students (first_name, last_name, age, year_level) VALUES ('Roger', 'Ramjet', 17, 11)\")\n",
    "    con.table('students').show()"
   ]
  },
  {
   "cell_type": "markdown",
   "metadata": {},
   "source": [
    "## Part 5 - Complex SQL Conditions ##\n",
    "\n",
    "In addition to simple conditions, SQL allows us to use complex conditions to filter data. We can use `AND`, `OR`, and `NOT` to combine conditions and create more complex queries. We can also use comparison operators such as `=`, `!=`, `<`, `>`, `<=`, and `>=` to compare values. These operators can be used to filter data based on specific criteria.\n",
    "\n",
    "**In the code below, you should:**\n",
    "1. Query the `students` table to find all students who are in year 10 **and** are 15 years old.\n",
    "2. Query the `students` table to find all students who are in year 12 **or** are 18 years old.\n",
    "3. Query the `students` table to find all students who are **not** in year 9.\n",
    "\n",
    "You might want to add additional rows to the `students` table to test these queries."
   ]
  },
  {
   "cell_type": "code",
   "execution_count": null,
   "metadata": {},
   "outputs": [],
   "source": [
    "with duckdb.connect('../data/school.db') as con:\n",
    "    ## It's up to you now! Include all three queries (year 10 and 15 years; year 12 or 18; not in year 9)\n",
    "    pass"
   ]
  }
 ],
 "metadata": {
  "kernelspec": {
   "display_name": "Python 3",
   "language": "python",
   "name": "python3"
  },
  "language_info": {
   "codemirror_mode": {
    "name": "ipython",
    "version": 3
   },
   "file_extension": ".py",
   "mimetype": "text/x-python",
   "name": "python",
   "nbconvert_exporter": "python",
   "pygments_lexer": "ipython3",
   "version": "3.12.1"
  }
 },
 "nbformat": 4,
 "nbformat_minor": 2
}
