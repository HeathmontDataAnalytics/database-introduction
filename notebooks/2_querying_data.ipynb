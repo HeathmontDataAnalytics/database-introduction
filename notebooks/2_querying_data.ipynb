{
 "cells": [
  {
   "cell_type": "markdown",
   "metadata": {},
   "source": [
    "# Querying Data\n",
    "Queries are what SQL does best. A query is a request for data or information from a database table or combination of tables. \n",
    "\n",
    "These exercises will use the cities.db database. The data for this has been taken from https://simplemaps.com/data/world-cities. If you are really interested you can see the processing that has gone on to create the cities databse in `setup\\create_cities.ipynb`.\n",
    "\n",
    "The cities.db database has just one table: `cities`.\n",
    "\n",
    "## Part 1: Basic SELECT queries\n",
    "**The code below:**\n",
    "- Imports the duckdb library (this has to run once per session)\n",
    "- Connects to the database using the duckdb library\n",
    "- Runs a simple query to select all columns from the cities table\n",
    "- Shows the results of the query"
   ]
  },
  {
   "cell_type": "code",
   "execution_count": 6,
   "metadata": {},
   "outputs": [],
   "source": [
    "import duckdb\n",
    "# Run once to import the package each session, then you can ignore."
   ]
  },
  {
   "cell_type": "code",
   "execution_count": 7,
   "metadata": {},
   "outputs": [
    {
     "name": "stdout",
     "output_type": "stream",
     "text": [
      "┌────────────────┬─────────┬──────────┬───────────────┬──────────────┬─────────┬────────────┐\n",
      "│      city      │   lat   │   lng    │    country    │ country_code │ capital │ population │\n",
      "│    varchar     │ double  │  double  │    varchar    │   varchar    │ varchar │   int64    │\n",
      "├────────────────┼─────────┼──────────┼───────────────┼──────────────┼─────────┼────────────┤\n",
      "│ Tokyo          │ 35.6897 │ 139.6922 │ Japan         │ JPN          │ primary │   37732000 │\n",
      "│ Jakarta        │  -6.175 │ 106.8275 │ Indonesia     │ IDN          │ primary │   33756000 │\n",
      "│ Delhi          │   28.61 │    77.23 │ India         │ IND          │ admin   │   32226000 │\n",
      "│ Guangzhou      │   23.13 │   113.26 │ China         │ CHN          │ admin   │   26940000 │\n",
      "│ Mumbai         │ 19.0761 │  72.8775 │ India         │ IND          │ admin   │   24973000 │\n",
      "│ Manila         │ 14.5958 │ 120.9772 │ Philippines   │ PHL          │ primary │   24922000 │\n",
      "│ Shanghai       │ 31.2286 │ 121.4747 │ China         │ CHN          │ admin   │   24073000 │\n",
      "│ São Paulo      │  -23.55 │ -46.6333 │ Brazil        │ BRA          │ admin   │   23086000 │\n",
      "│ Seoul          │   37.56 │   126.99 │ Korea, South  │ KOR          │ primary │   23016000 │\n",
      "│ Mexico City    │ 19.4333 │ -99.1333 │ Mexico        │ MEX          │ primary │   21804000 │\n",
      "│   ·            │    ·    │     ·    │   ·           │  ·           │  ·      │        ·   │\n",
      "│   ·            │    ·    │     ·    │   ·           │  ·           │  ·      │        ·   │\n",
      "│   ·            │    ·    │     ·    │   ·           │  ·           │  ·      │        ·   │\n",
      "│ Choshi         │ 35.7346 │ 140.8268 │ Japan         │ JPN          │ NULL    │      57533 │\n",
      "│ Santa Maria    │    6.55 │   125.47 │ Philippines   │ PHL          │ NULL    │      57526 │\n",
      "│ Decatur        │ 34.5731 │ -86.9905 │ United States │ USA          │ NULL    │      57525 │\n",
      "│ Krasnotur’insk │ 59.7733 │  60.1853 │ Russia        │ RUS          │ NULL    │      57514 │\n",
      "│ Palāsa         │ 18.7731 │  84.4078 │ India         │ IND          │ NULL    │      57507 │\n",
      "│ Tokoname       │ 34.8865 │ 136.8323 │ Japan         │ JPN          │ NULL    │      57507 │\n",
      "│ Ejmiatsin      │ 40.1728 │  44.2925 │ Armenia       │ ARM          │ NULL    │      57500 │\n",
      "│ Lenexa         │ 38.9609 │ -94.8018 │ United States │ USA          │ NULL    │      57497 │\n",
      "│ Wiwilí         │ 13.6167 │ -85.8333 │ Nicaragua     │ NIC          │ minor   │      57485 │\n",
      "│ Guarabira      │  -6.855 │   -35.49 │ Brazil        │ BRA          │ minor   │      57484 │\n",
      "├────────────────┴─────────┴──────────┴───────────────┴──────────────┴─────────┴────────────┤\n",
      "│ ? rows (>9999 rows, 20 shown)                                                   7 columns │\n",
      "└───────────────────────────────────────────────────────────────────────────────────────────┘\n",
      "\n"
     ]
    }
   ],
   "source": [
    "with duckdb.connect('../data/cities.db') as con:\n",
    "    con.sql('''\n",
    "            SELECT * \n",
    "            FROM cities;\n",
    "            ''').show()"
   ]
  },
  {
   "cell_type": "markdown",
   "metadata": {},
   "source": [
    "## Things to notice: ##\n",
    "- The query is a string that is passed to the `execute` method of the connection object\n",
    "- The cities table has 7 columns: `city`, `lat`, `lng`, `country`, `country_code`, `capital` and `population`\n",
    "- Each column shows its data type:\n",
    "    - `city`, `country`, `country_code`, `capital` are all VARCHAR, which means they store text data\n",
    "    - `lat`, `lng`: are both `DOUBLE`, which means they store floating point or decimal numbers\n",
    "    - `population`: `INTEGER`, which means it stores whole numbers\n",
    "- You can see 20 rows from the table, but it is clear there are more. *Would be interesting to see how many rows there are in total.*\n",
    "\n",
    "## Next we will... ##\n",
    "- Write a query to count the number of rows in the cities table (using `COUNT(*)`)\n",
    "- Find the city names and population for cities in Australia\n",
    "- Order the Australian cities by latitude\n"
   ]
  },
  {
   "cell_type": "code",
   "execution_count": 8,
   "metadata": {},
   "outputs": [
    {
     "name": "stdout",
     "output_type": "stream",
     "text": [
      "┌──────────────┐\n",
      "│ count_star() │\n",
      "│    int64     │\n",
      "├──────────────┤\n",
      "│        46748 │\n",
      "└──────────────┘\n",
      "\n"
     ]
    }
   ],
   "source": [
    "# Counting the number of rows in the table. \n",
    "with duckdb.connect('../data/cities.db') as con:\n",
    "    con.sql('''\n",
    "            SELECT COUNT(*)\n",
    "            FROM cities;\n",
    "            ''').show()"
   ]
  },
  {
   "cell_type": "code",
   "execution_count": 9,
   "metadata": {},
   "outputs": [
    {
     "name": "stdout",
     "output_type": "stream",
     "text": [
      "┌────────────────┬────────────┐\n",
      "│      city      │ population │\n",
      "│    varchar     │   int64    │\n",
      "├────────────────┼────────────┤\n",
      "│ Melbourne      │    5031195 │\n",
      "│ Sydney         │    4840600 │\n",
      "│ Brisbane       │    2360241 │\n",
      "│ Perth          │    2141834 │\n",
      "│ Adelaide       │    1295714 │\n",
      "│ Gold Coast     │     607665 │\n",
      "│ Cranbourne     │     460491 │\n",
      "│ Canberra       │     381488 │\n",
      "│ Central Coast  │     346596 │\n",
      "│ Wollongong     │     261896 │\n",
      "│    ·           │         ·  │\n",
      "│    ·           │         ·  │\n",
      "│    ·           │         ·  │\n",
      "│ Biloela        │       5758 │\n",
      "│ Stawell        │       5627 │\n",
      "│ Byron Bay      │       5521 │\n",
      "│ Narrabri       │       5499 │\n",
      "│ Goondiwindi    │       5439 │\n",
      "│ Richmond       │       5418 │\n",
      "│ Cobram         │       5389 │\n",
      "│ McMinns Lagoon │       5025 │\n",
      "│ Scone          │       5013 │\n",
      "│ Singleton      │       5000 │\n",
      "├────────────────┴────────────┤\n",
      "│     180 rows (20 shown)     │\n",
      "└─────────────────────────────┘\n",
      "\n"
     ]
    }
   ],
   "source": [
    "# Finding the Australian cities in the table.\n",
    "with duckdb.connect(\"../data/cities.db\") as con:\n",
    "    con.sql(\"\"\"\n",
    "            SELECT city, population \n",
    "            FROM cities\n",
    "            WHERE country_code = 'AUS'; \"\"\").show()"
   ]
  },
  {
   "cell_type": "code",
   "execution_count": 10,
   "metadata": {},
   "outputs": [
    {
     "name": "stdout",
     "output_type": "stream",
     "text": [
      "┌────────────────┬────────────┬──────────┐\n",
      "│      city      │ population │   lat    │\n",
      "│    varchar     │   int64    │  double  │\n",
      "├────────────────┼────────────┼──────────┤\n",
      "│ Kingston       │      10409 │ -42.9769 │\n",
      "│ Hobart         │     197451 │ -42.8806 │\n",
      "│ Launceston     │      80943 │ -41.4419 │\n",
      "│ Devonport      │      23046 │   -41.18 │\n",
      "│ Burnie         │      19918 │ -41.0636 │\n",
      "│ Warrnambool    │      29661 │ -38.3833 │\n",
      "│ Colac          │       9048 │ -38.3403 │\n",
      "│ Torquay        │      13258 │ -38.3333 │\n",
      "│ Portland       │       9712 │ -38.3333 │\n",
      "│ Barwon Heads   │      14165 │   -38.25 │\n",
      "│  ·             │         ·  │      ·   │\n",
      "│  ·             │         ·  │      ·   │\n",
      "│  ·             │         ·  │      ·   │\n",
      "│ Ayr            │       8200 │ -19.5744 │\n",
      "│ Townsville     │     173724 │   -19.25 │\n",
      "│ Broome         │      11547 │ -17.9619 │\n",
      "│ Atherton       │       7331 │ -17.2658 │\n",
      "│ Mareeba        │       8585 │ -16.9969 │\n",
      "│ Cairns         │     146778 │   -16.92 │\n",
      "│ Redlynch       │       8645 │ -16.8894 │\n",
      "│ McMinns Lagoon │       5025 │ -12.5329 │\n",
      "│ Palmerston     │      33695 │ -12.4806 │\n",
      "│ Darwin         │     139902 │ -12.4381 │\n",
      "├────────────────┴────────────┴──────────┤\n",
      "│ 180 rows (20 shown)          3 columns │\n",
      "└────────────────────────────────────────┘\n",
      "\n"
     ]
    }
   ],
   "source": [
    "# Modifying our query to return the cities in order. \n",
    "\n",
    "# Finding the Australian cities in the table.\n",
    "with duckdb.connect(\"../data/cities.db\") as con:\n",
    "    con.sql(\"\"\"\n",
    "            SELECT city, population, lat \n",
    "            FROM cities\n",
    "            WHERE country_code = 'AUS'\n",
    "            ORDER BY lat; \"\"\").show()"
   ]
  },
  {
   "cell_type": "markdown",
   "metadata": {},
   "source": [
    "## Your Turn ##\n",
    "Write queries to:\n",
    "- Find all the capital cities in the world (capital = 'primary')\n",
    "- Find the cities in Germany, ordered by longitude"
   ]
  },
  {
   "cell_type": "code",
   "execution_count": 11,
   "metadata": {},
   "outputs": [
    {
     "ename": "AttributeError",
     "evalue": "'NoneType' object has no attribute 'show'",
     "output_type": "error",
     "traceback": [
      "\u001b[0;31m---------------------------------------------------------------------------\u001b[0m",
      "\u001b[0;31mAttributeError\u001b[0m                            Traceback (most recent call last)",
      "Cell \u001b[0;32mIn[11], line 2\u001b[0m\n\u001b[1;32m      1\u001b[0m \u001b[38;5;66;03m# All the capital cities in the table.\u001b[39;00m\n\u001b[0;32m----> 2\u001b[0m \u001b[38;5;28;43;01mwith\u001b[39;49;00m\u001b[43m \u001b[49m\u001b[43mduckdb\u001b[49m\u001b[38;5;241;43m.\u001b[39;49m\u001b[43mconnect\u001b[49m\u001b[43m(\u001b[49m\u001b[38;5;124;43m\"\u001b[39;49m\u001b[38;5;124;43m../data/cities.db\u001b[39;49m\u001b[38;5;124;43m\"\u001b[39;49m\u001b[43m)\u001b[49m\u001b[43m \u001b[49m\u001b[38;5;28;43;01mas\u001b[39;49;00m\u001b[43m \u001b[49m\u001b[43mcon\u001b[49m\u001b[43m:\u001b[49m\n\u001b[1;32m      3\u001b[0m \u001b[43m    \u001b[49m\u001b[43mcon\u001b[49m\u001b[38;5;241;43m.\u001b[39;49m\u001b[43msql\u001b[49m\u001b[43m(\u001b[49m\u001b[38;5;124;43m\"\"\"\u001b[39;49m\n\u001b[1;32m      4\u001b[0m \u001b[38;5;124;43m            \u001b[39;49m\n\u001b[1;32m      5\u001b[0m \u001b[38;5;124;43m            \u001b[39;49m\u001b[38;5;124;43m\"\"\"\u001b[39;49m\u001b[43m)\u001b[49m\u001b[38;5;241;43m.\u001b[39;49m\u001b[43mshow\u001b[49m\u001b[43m(\u001b[49m\u001b[43m)\u001b[49m\n",
      "Cell \u001b[0;32mIn[11], line 5\u001b[0m\n\u001b[1;32m      1\u001b[0m \u001b[38;5;66;03m# All the capital cities in the table.\u001b[39;00m\n\u001b[1;32m      2\u001b[0m \u001b[38;5;28;01mwith\u001b[39;00m duckdb\u001b[38;5;241m.\u001b[39mconnect(\u001b[38;5;124m\"\u001b[39m\u001b[38;5;124m../data/cities.db\u001b[39m\u001b[38;5;124m\"\u001b[39m) \u001b[38;5;28;01mas\u001b[39;00m con:\n\u001b[1;32m      3\u001b[0m     \u001b[43mcon\u001b[49m\u001b[38;5;241;43m.\u001b[39;49m\u001b[43msql\u001b[49m\u001b[43m(\u001b[49m\u001b[38;5;124;43m\"\"\"\u001b[39;49m\n\u001b[1;32m      4\u001b[0m \u001b[38;5;124;43m            \u001b[39;49m\n\u001b[0;32m----> 5\u001b[0m \u001b[38;5;124;43m            \u001b[39;49m\u001b[38;5;124;43m\"\"\"\u001b[39;49m\u001b[43m)\u001b[49m\u001b[38;5;241;43m.\u001b[39;49m\u001b[43mshow\u001b[49m()\n",
      "\u001b[0;31mAttributeError\u001b[0m: 'NoneType' object has no attribute 'show'"
     ]
    }
   ],
   "source": [
    "# All the capital cities in the table.\n",
    "with duckdb.connect(\"../data/cities.db\") as con:\n",
    "    con.sql(\"\"\"\n",
    "            \n",
    "            \"\"\").show()"
   ]
  },
  {
   "cell_type": "code",
   "execution_count": null,
   "metadata": {},
   "outputs": [],
   "source": [
    "# Cities in Germany ordered by longitude.\n",
    "with duckdb.connect(\"../data/cities.db\") as con:\n",
    "    con.sql(\"\"\"\n",
    "            \n",
    "            \"\"\").show()"
   ]
  },
  {
   "cell_type": "markdown",
   "metadata": {},
   "source": [
    "## Aggregate Functions in SQL ##\n",
    "Aggregate functions are used to perform calculations on a set of values to return a single value. We already used a simple aggregate function in the previous exercise: `COUNT(*)`. \n",
    "\n",
    "**Aggregate functions include:**\n",
    "- `COUNT()`: returns the number of rows that match a specified criteria\n",
    "- `SUM()`: returns the sum of all values in a column\n",
    "- `AVG()`: returns the average *(mean)* of all values in a column\n",
    "- `MIN()`: returns the minimum value in a column\n",
    "- `MAX()`: returns the maximum value in a column\n",
    "Note that for any of the functions besides `COUNT()`, you need to specify the column you want to perform the calculation on.\n"
   ]
  },
  {
   "cell_type": "code",
   "execution_count": 14,
   "metadata": {},
   "outputs": [
    {
     "name": "stdout",
     "output_type": "stream",
     "text": [
      "Max Population\n",
      "┌─────────────────┐\n",
      "│ max(population) │\n",
      "│      int64      │\n",
      "├─────────────────┤\n",
      "│        37732000 │\n",
      "└─────────────────┘\n",
      "\n",
      "Total Population of cities in the table\n",
      "┌─────────────────┐\n",
      "│ sum(population) │\n",
      "│     int128      │\n",
      "├─────────────────┤\n",
      "│      5189102107 │\n",
      "└─────────────────┘\n",
      "\n",
      "Average Population of cities in the US\n",
      "┌───────────────────┐\n",
      "│  avg(population)  │\n",
      "│      double       │\n",
      "├───────────────────┤\n",
      "│ 71006.65195341848 │\n",
      "└───────────────────┘\n",
      "\n"
     ]
    }
   ],
   "source": [
    "# Examples:\n",
    "# - Largest population in the table.\n",
    "# - Total population of cities in the table.\n",
    "# - Average population of cities in the US.\n",
    "\n",
    "with duckdb.connect(\"../data/cities.db\") as con:\n",
    "    # Find the largest population.\n",
    "    print(\"Max Population\")\n",
    "    con.sql(\"\"\"\n",
    "            SELECT MAX(population)\n",
    "            FROM cities;\n",
    "            \"\"\").show()\n",
    "    print(\"Total Population of cities in the table\")\n",
    "    con.sql(\"\"\"\n",
    "            SELECT SUM(population)\n",
    "            from cities;\n",
    "            \"\"\").show()\n",
    "    print(\"Average Population of cities in the US\")\n",
    "    con.sql(\"\"\"\n",
    "            SELECT AVG(population)\n",
    "            from cities\n",
    "            where country_code = 'USA';\n",
    "            \"\"\").show()"
   ]
  },
  {
   "cell_type": "markdown",
   "metadata": {},
   "source": [
    "## Now You Try ##\n",
    "Write queries to:\n",
    "- Find the minimum population in the database\n",
    "- Find the total population of cities in Australia\n"
   ]
  },
  {
   "cell_type": "code",
   "execution_count": null,
   "metadata": {},
   "outputs": [],
   "source": [
    "\n",
    "with duckdb.connect(\"../data/cities.db\") as con:\n",
    "    # Find the lowest population in a city.\n",
    "    print(\"Min Population\")\n",
    "    con.sql(\"\"\"\n",
    "            \n",
    "            \"\"\").show()\n",
    "    # Find \n",
    "    print(\"Total Population of cities in Australia\")\n",
    "    con.sql(\"\"\"\n",
    "            \n",
    "            \"\"\").show()"
   ]
  },
  {
   "cell_type": "markdown",
   "metadata": {},
   "source": [
    "## GROUP BY ##\n",
    "The `GROUP BY` statement is  with aggregate functions to group the result-set by one or more columns. Instead of performing a calculation on all the rows, you can perform it on groups of rows that have the same value in one or more columns.\n",
    "\n",
    "The order of SQL statements is important. The `GROUP BY` statement must come after any `WHERE` statements, but before an `ORDER BY` statement.\n",
    "\n",
    "## HAVING ##\n",
    "When you use the `GROUP BY` statement, you can use the `HAVING` statement to filter the groups based on specified conditions.\n",
    "- `WHERE` filters the rows before the calculation is applied (only counting the relevant rows)\n",
    "- `HAVING` filters the groups after the calculation is applied (like a filter on the results)\n",
    "\n",
    "**The queries in the code below:**\n",
    "- Count the number of cities in each country with more than 1 million people, ordered by the number of cities. Includes only the countries with more than 5 big cities\n",
    "\n",
    "*Note: These queries uses a column alias to make the output more readable. The `AS` keyword is used to create an alias.*"
   ]
  },
  {
   "cell_type": "code",
   "execution_count": 20,
   "metadata": {},
   "outputs": [
    {
     "name": "stdout",
     "output_type": "stream",
     "text": [
      "How many cities in each country with population > 1 million\n",
      "┌───────────────┬────────────┐\n",
      "│    country    │ big_cities │\n",
      "│    varchar    │   int64    │\n",
      "├───────────────┼────────────┤\n",
      "│ China         │        331 │\n",
      "│ India         │         53 │\n",
      "│ United States │         48 │\n",
      "│ Indonesia     │         18 │\n",
      "│ Brazil        │         16 │\n",
      "│ Russia        │         15 │\n",
      "│ Nigeria       │         14 │\n",
      "│ Mexico        │         13 │\n",
      "│ Japan         │         12 │\n",
      "│ Turkey        │         12 │\n",
      "│ Pakistan      │         11 │\n",
      "│ Korea, South  │         11 │\n",
      "├───────────────┴────────────┤\n",
      "│ 12 rows          2 columns │\n",
      "└────────────────────────────┘\n",
      "\n"
     ]
    }
   ],
   "source": [
    "with duckdb.connect(\"../data/cities.db\") as con:\n",
    "    # Find the number of cities in each country with a population greater than 1 million. \n",
    "    # Using HAVING to limit the results to countries with 10 or more cities.\n",
    "    print(\"How many cities in each country with population > 1 million\")\n",
    "    con.sql(\"\"\"\n",
    "            SELECT country, count(*) AS big_cities\n",
    "            FROM cities\n",
    "            WHERE population > 1000000\n",
    "            GROUP BY country\n",
    "            HAVING big_cities >= 10\n",
    "            ORDER BY big_cities DESC;\n",
    "            \"\"\").show()\n",
    "\n"
   ]
  }
 ],
 "metadata": {
  "kernelspec": {
   "display_name": "Python 3",
   "language": "python",
   "name": "python3"
  },
  "language_info": {
   "codemirror_mode": {
    "name": "ipython",
    "version": 3
   },
   "file_extension": ".py",
   "mimetype": "text/x-python",
   "name": "python",
   "nbconvert_exporter": "python",
   "pygments_lexer": "ipython3",
   "version": "3.12.1"
  }
 },
 "nbformat": 4,
 "nbformat_minor": 2
}
