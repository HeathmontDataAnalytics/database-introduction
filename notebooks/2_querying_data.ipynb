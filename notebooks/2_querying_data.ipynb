{
 "cells": [
  {
   "cell_type": "markdown",
   "metadata": {},
   "source": [
    "# Querying Data\n",
    "Queries are what SQL does best. A query is a request for data or information from a database table or combination of tables. \n",
    "\n",
    "These exercises will use the cities.db database. The data for this has been taken from https://simplemaps.com/data/world-cities. If you are really interested you can see the processing that has gone on to create the cities databse in `setup\\create_cities.ipynb`.\n",
    "\n",
    "The cities.db database has just one table: `cities`.\n",
    "\n",
    "## Part 1: Basic SELECT queries\n",
    "**The code below:**\n",
    "- Imports the duckdb library (this has to run once per session)\n",
    "- Connects to the database using the duckdb library\n",
    "- Runs a simple query to select all columns from the cities table\n",
    "- Shows the results of the query"
   ]
  },
  {
   "cell_type": "code",
   "execution_count": 4,
   "metadata": {},
   "outputs": [],
   "source": [
    "# You just have to run this cell once to load the database.\n",
    "import duckdb\n",
    "import pandas as pd\n",
    "\n",
    "# Note we are using the cities.db database. This should already be in your data folder, but if not you can \n",
    "# re-create it by opening the setup notebook (setup/create_cities.ipynb) and running the cells there.\n",
    "%load_ext sql\n",
    "conn = duckdb.connect('../data/cities.db')\n",
    "%sql conn --alias duckdb\n",
    "\n",
    "# Adding to the display limit to be able to see more results of our queries\n",
    "%config SqlMagic.displaylimit = 20\n"
   ]
  },
  {
   "cell_type": "code",
   "execution_count": 5,
   "metadata": {
    "vscode": {
     "languageId": "sql"
    }
   },
   "outputs": [
    {
     "data": {
      "text/html": [
       "<span style=\"None\">Running query in &#x27;duckdb&#x27;</span>"
      ],
      "text/plain": [
       "Running query in 'duckdb'"
      ]
     },
     "metadata": {},
     "output_type": "display_data"
    },
    {
     "data": {
      "text/html": [
       "<table>\n",
       "    <thead>\n",
       "        <tr>\n",
       "            <th>city</th>\n",
       "            <th>lat</th>\n",
       "            <th>lng</th>\n",
       "            <th>country</th>\n",
       "            <th>country_code</th>\n",
       "            <th>capital</th>\n",
       "            <th>population</th>\n",
       "        </tr>\n",
       "    </thead>\n",
       "    <tbody>\n",
       "        <tr>\n",
       "            <td>Tokyo</td>\n",
       "            <td>35.6897</td>\n",
       "            <td>139.6922</td>\n",
       "            <td>Japan</td>\n",
       "            <td>JPN</td>\n",
       "            <td>primary</td>\n",
       "            <td>37732000</td>\n",
       "        </tr>\n",
       "        <tr>\n",
       "            <td>Jakarta</td>\n",
       "            <td>-6.175</td>\n",
       "            <td>106.8275</td>\n",
       "            <td>Indonesia</td>\n",
       "            <td>IDN</td>\n",
       "            <td>primary</td>\n",
       "            <td>33756000</td>\n",
       "        </tr>\n",
       "        <tr>\n",
       "            <td>Delhi</td>\n",
       "            <td>28.61</td>\n",
       "            <td>77.23</td>\n",
       "            <td>India</td>\n",
       "            <td>IND</td>\n",
       "            <td>admin</td>\n",
       "            <td>32226000</td>\n",
       "        </tr>\n",
       "        <tr>\n",
       "            <td>Guangzhou</td>\n",
       "            <td>23.13</td>\n",
       "            <td>113.26</td>\n",
       "            <td>China</td>\n",
       "            <td>CHN</td>\n",
       "            <td>admin</td>\n",
       "            <td>26940000</td>\n",
       "        </tr>\n",
       "        <tr>\n",
       "            <td>Mumbai</td>\n",
       "            <td>19.0761</td>\n",
       "            <td>72.8775</td>\n",
       "            <td>India</td>\n",
       "            <td>IND</td>\n",
       "            <td>admin</td>\n",
       "            <td>24973000</td>\n",
       "        </tr>\n",
       "        <tr>\n",
       "            <td>Manila</td>\n",
       "            <td>14.5958</td>\n",
       "            <td>120.9772</td>\n",
       "            <td>Philippines</td>\n",
       "            <td>PHL</td>\n",
       "            <td>primary</td>\n",
       "            <td>24922000</td>\n",
       "        </tr>\n",
       "        <tr>\n",
       "            <td>Shanghai</td>\n",
       "            <td>31.2286</td>\n",
       "            <td>121.4747</td>\n",
       "            <td>China</td>\n",
       "            <td>CHN</td>\n",
       "            <td>admin</td>\n",
       "            <td>24073000</td>\n",
       "        </tr>\n",
       "        <tr>\n",
       "            <td>São Paulo</td>\n",
       "            <td>-23.55</td>\n",
       "            <td>-46.6333</td>\n",
       "            <td>Brazil</td>\n",
       "            <td>BRA</td>\n",
       "            <td>admin</td>\n",
       "            <td>23086000</td>\n",
       "        </tr>\n",
       "        <tr>\n",
       "            <td>Seoul</td>\n",
       "            <td>37.56</td>\n",
       "            <td>126.99</td>\n",
       "            <td>Korea, South</td>\n",
       "            <td>KOR</td>\n",
       "            <td>primary</td>\n",
       "            <td>23016000</td>\n",
       "        </tr>\n",
       "        <tr>\n",
       "            <td>Mexico City</td>\n",
       "            <td>19.4333</td>\n",
       "            <td>-99.1333</td>\n",
       "            <td>Mexico</td>\n",
       "            <td>MEX</td>\n",
       "            <td>primary</td>\n",
       "            <td>21804000</td>\n",
       "        </tr>\n",
       "        <tr>\n",
       "            <td>Cairo</td>\n",
       "            <td>30.0444</td>\n",
       "            <td>31.2358</td>\n",
       "            <td>Egypt</td>\n",
       "            <td>EGY</td>\n",
       "            <td>primary</td>\n",
       "            <td>20296000</td>\n",
       "        </tr>\n",
       "        <tr>\n",
       "            <td>New York</td>\n",
       "            <td>40.6943</td>\n",
       "            <td>-73.9249</td>\n",
       "            <td>United States</td>\n",
       "            <td>USA</td>\n",
       "            <td>None</td>\n",
       "            <td>18908608</td>\n",
       "        </tr>\n",
       "        <tr>\n",
       "            <td>Dhaka</td>\n",
       "            <td>23.7639</td>\n",
       "            <td>90.3889</td>\n",
       "            <td>Bangladesh</td>\n",
       "            <td>BGD</td>\n",
       "            <td>primary</td>\n",
       "            <td>18627000</td>\n",
       "        </tr>\n",
       "        <tr>\n",
       "            <td>Beijing</td>\n",
       "            <td>39.9067</td>\n",
       "            <td>116.3975</td>\n",
       "            <td>China</td>\n",
       "            <td>CHN</td>\n",
       "            <td>primary</td>\n",
       "            <td>18522000</td>\n",
       "        </tr>\n",
       "        <tr>\n",
       "            <td>Kolkāta</td>\n",
       "            <td>22.5675</td>\n",
       "            <td>88.37</td>\n",
       "            <td>India</td>\n",
       "            <td>IND</td>\n",
       "            <td>admin</td>\n",
       "            <td>18502000</td>\n",
       "        </tr>\n",
       "        <tr>\n",
       "            <td>Bangkok</td>\n",
       "            <td>13.7525</td>\n",
       "            <td>100.4942</td>\n",
       "            <td>Thailand</td>\n",
       "            <td>THA</td>\n",
       "            <td>primary</td>\n",
       "            <td>18007000</td>\n",
       "        </tr>\n",
       "        <tr>\n",
       "            <td>Shenzhen</td>\n",
       "            <td>22.5415</td>\n",
       "            <td>114.0596</td>\n",
       "            <td>China</td>\n",
       "            <td>CHN</td>\n",
       "            <td>minor</td>\n",
       "            <td>17619000</td>\n",
       "        </tr>\n",
       "        <tr>\n",
       "            <td>Moscow</td>\n",
       "            <td>55.7558</td>\n",
       "            <td>37.6172</td>\n",
       "            <td>Russia</td>\n",
       "            <td>RUS</td>\n",
       "            <td>primary</td>\n",
       "            <td>17332000</td>\n",
       "        </tr>\n",
       "        <tr>\n",
       "            <td>Buenos Aires</td>\n",
       "            <td>-34.6033</td>\n",
       "            <td>-58.3817</td>\n",
       "            <td>Argentina</td>\n",
       "            <td>ARG</td>\n",
       "            <td>primary</td>\n",
       "            <td>16710000</td>\n",
       "        </tr>\n",
       "        <tr>\n",
       "            <td>Lagos</td>\n",
       "            <td>6.455</td>\n",
       "            <td>3.3841</td>\n",
       "            <td>Nigeria</td>\n",
       "            <td>NGA</td>\n",
       "            <td>minor</td>\n",
       "            <td>16637000</td>\n",
       "        </tr>\n",
       "    </tbody>\n",
       "</table>\n",
       "<span style=\"font-style:italic;text-align:center;\">Truncated to <a href=\"https://jupysql.ploomber.io/en/latest/api/configuration.html#displaylimit\">displaylimit</a> of 20.</span>"
      ],
      "text/plain": [
       "+--------------+----------+----------+---------------+--------------+---------+------------+\n",
       "|     city     |   lat    |   lng    |    country    | country_code | capital | population |\n",
       "+--------------+----------+----------+---------------+--------------+---------+------------+\n",
       "|    Tokyo     | 35.6897  | 139.6922 |     Japan     |     JPN      | primary |  37732000  |\n",
       "|   Jakarta    |  -6.175  | 106.8275 |   Indonesia   |     IDN      | primary |  33756000  |\n",
       "|    Delhi     |  28.61   |  77.23   |     India     |     IND      |  admin  |  32226000  |\n",
       "|  Guangzhou   |  23.13   |  113.26  |     China     |     CHN      |  admin  |  26940000  |\n",
       "|    Mumbai    | 19.0761  | 72.8775  |     India     |     IND      |  admin  |  24973000  |\n",
       "|    Manila    | 14.5958  | 120.9772 |  Philippines  |     PHL      | primary |  24922000  |\n",
       "|   Shanghai   | 31.2286  | 121.4747 |     China     |     CHN      |  admin  |  24073000  |\n",
       "|  São Paulo   |  -23.55  | -46.6333 |     Brazil    |     BRA      |  admin  |  23086000  |\n",
       "|    Seoul     |  37.56   |  126.99  |  Korea, South |     KOR      | primary |  23016000  |\n",
       "| Mexico City  | 19.4333  | -99.1333 |     Mexico    |     MEX      | primary |  21804000  |\n",
       "|    Cairo     | 30.0444  | 31.2358  |     Egypt     |     EGY      | primary |  20296000  |\n",
       "|   New York   | 40.6943  | -73.9249 | United States |     USA      |   None  |  18908608  |\n",
       "|    Dhaka     | 23.7639  | 90.3889  |   Bangladesh  |     BGD      | primary |  18627000  |\n",
       "|   Beijing    | 39.9067  | 116.3975 |     China     |     CHN      | primary |  18522000  |\n",
       "|   Kolkāta    | 22.5675  |  88.37   |     India     |     IND      |  admin  |  18502000  |\n",
       "|   Bangkok    | 13.7525  | 100.4942 |    Thailand   |     THA      | primary |  18007000  |\n",
       "|   Shenzhen   | 22.5415  | 114.0596 |     China     |     CHN      |  minor  |  17619000  |\n",
       "|    Moscow    | 55.7558  | 37.6172  |     Russia    |     RUS      | primary |  17332000  |\n",
       "| Buenos Aires | -34.6033 | -58.3817 |   Argentina   |     ARG      | primary |  16710000  |\n",
       "|    Lagos     |  6.455   |  3.3841  |    Nigeria    |     NGA      |  minor  |  16637000  |\n",
       "+--------------+----------+----------+---------------+--------------+---------+------------+\n",
       "Truncated to displaylimit of 20."
      ]
     },
     "execution_count": 5,
     "metadata": {},
     "output_type": "execute_result"
    }
   ],
   "source": [
    "%%sql\n",
    "\n",
    "SELECT * \n",
    "FROM cities;\n"
   ]
  },
  {
   "cell_type": "markdown",
   "metadata": {},
   "source": [
    "## Things to notice: ##\n",
    "- The query is a string that is passed to the `execute` method of the connection object\n",
    "- The cities table has 7 columns: `city`, `lat`, `lng`, `country`, `country_code`, `capital` and `population`\n",
    "- Each column shows its data type:\n",
    "    - `city`, `country`, `country_code`, `capital` are all VARCHAR, which means they store text data\n",
    "    - `lat`, `lng`: are both `DOUBLE`, which means they store floating point or decimal numbers\n",
    "    - `population`: `INTEGER`, which means it stores whole numbers\n",
    "- You can see 20 rows from the table, but it is clear there are more. *Would be interesting to see how many rows there are in total.*\n",
    "\n",
    "## Next we will... ##\n",
    "- Write a query to count the number of rows in the cities table (using `COUNT(*)`)\n",
    "- Find the city names and population for cities in Australia\n",
    "- Order the Australian cities by latitude\n"
   ]
  },
  {
   "cell_type": "code",
   "execution_count": 6,
   "metadata": {
    "vscode": {
     "languageId": "sql"
    }
   },
   "outputs": [
    {
     "data": {
      "text/html": [
       "<span style=\"None\">Running query in &#x27;duckdb&#x27;</span>"
      ],
      "text/plain": [
       "Running query in 'duckdb'"
      ]
     },
     "metadata": {},
     "output_type": "display_data"
    },
    {
     "data": {
      "text/html": [
       "<table>\n",
       "    <thead>\n",
       "        <tr>\n",
       "            <th>count_star()</th>\n",
       "        </tr>\n",
       "    </thead>\n",
       "    <tbody>\n",
       "        <tr>\n",
       "            <td>46748</td>\n",
       "        </tr>\n",
       "    </tbody>\n",
       "</table>"
      ],
      "text/plain": [
       "+--------------+\n",
       "| count_star() |\n",
       "+--------------+\n",
       "|    46748     |\n",
       "+--------------+"
      ]
     },
     "execution_count": 6,
     "metadata": {},
     "output_type": "execute_result"
    }
   ],
   "source": [
    "%%sql\n",
    "-- Counting the number of rows in the table. \n",
    "\n",
    "SELECT COUNT(*)\n",
    "FROM cities;"
   ]
  },
  {
   "cell_type": "code",
   "execution_count": 7,
   "metadata": {
    "vscode": {
     "languageId": "sql"
    }
   },
   "outputs": [
    {
     "data": {
      "text/html": [
       "<span style=\"None\">Running query in &#x27;duckdb&#x27;</span>"
      ],
      "text/plain": [
       "Running query in 'duckdb'"
      ]
     },
     "metadata": {},
     "output_type": "display_data"
    },
    {
     "data": {
      "text/html": [
       "<table>\n",
       "    <thead>\n",
       "        <tr>\n",
       "            <th>city</th>\n",
       "            <th>population</th>\n",
       "        </tr>\n",
       "    </thead>\n",
       "    <tbody>\n",
       "        <tr>\n",
       "            <td>Melbourne</td>\n",
       "            <td>5031195</td>\n",
       "        </tr>\n",
       "        <tr>\n",
       "            <td>Sydney</td>\n",
       "            <td>4840600</td>\n",
       "        </tr>\n",
       "        <tr>\n",
       "            <td>Brisbane</td>\n",
       "            <td>2360241</td>\n",
       "        </tr>\n",
       "        <tr>\n",
       "            <td>Perth</td>\n",
       "            <td>2141834</td>\n",
       "        </tr>\n",
       "        <tr>\n",
       "            <td>Adelaide</td>\n",
       "            <td>1295714</td>\n",
       "        </tr>\n",
       "        <tr>\n",
       "            <td>Gold Coast</td>\n",
       "            <td>607665</td>\n",
       "        </tr>\n",
       "        <tr>\n",
       "            <td>Cranbourne</td>\n",
       "            <td>460491</td>\n",
       "        </tr>\n",
       "        <tr>\n",
       "            <td>Canberra</td>\n",
       "            <td>381488</td>\n",
       "        </tr>\n",
       "        <tr>\n",
       "            <td>Central Coast</td>\n",
       "            <td>346596</td>\n",
       "        </tr>\n",
       "        <tr>\n",
       "            <td>Wollongong</td>\n",
       "            <td>261896</td>\n",
       "        </tr>\n",
       "        <tr>\n",
       "            <td>Ipswich</td>\n",
       "            <td>232930</td>\n",
       "        </tr>\n",
       "        <tr>\n",
       "            <td>Hobart</td>\n",
       "            <td>197451</td>\n",
       "        </tr>\n",
       "        <tr>\n",
       "            <td>Geelong</td>\n",
       "            <td>180239</td>\n",
       "        </tr>\n",
       "        <tr>\n",
       "            <td>Townsville</td>\n",
       "            <td>173724</td>\n",
       "        </tr>\n",
       "        <tr>\n",
       "            <td>Newcastle</td>\n",
       "            <td>152984</td>\n",
       "        </tr>\n",
       "        <tr>\n",
       "            <td>Cairns</td>\n",
       "            <td>146778</td>\n",
       "        </tr>\n",
       "        <tr>\n",
       "            <td>Darwin</td>\n",
       "            <td>139902</td>\n",
       "        </tr>\n",
       "        <tr>\n",
       "            <td>Ballarat</td>\n",
       "            <td>116201</td>\n",
       "        </tr>\n",
       "        <tr>\n",
       "            <td>Toowoomba</td>\n",
       "            <td>108398</td>\n",
       "        </tr>\n",
       "        <tr>\n",
       "            <td>Bendigo</td>\n",
       "            <td>103034</td>\n",
       "        </tr>\n",
       "    </tbody>\n",
       "</table>\n",
       "<span style=\"font-style:italic;text-align:center;\">Truncated to <a href=\"https://jupysql.ploomber.io/en/latest/api/configuration.html#displaylimit\">displaylimit</a> of 20.</span>"
      ],
      "text/plain": [
       "+---------------+------------+\n",
       "|      city     | population |\n",
       "+---------------+------------+\n",
       "|   Melbourne   |  5031195   |\n",
       "|     Sydney    |  4840600   |\n",
       "|    Brisbane   |  2360241   |\n",
       "|     Perth     |  2141834   |\n",
       "|    Adelaide   |  1295714   |\n",
       "|   Gold Coast  |   607665   |\n",
       "|   Cranbourne  |   460491   |\n",
       "|    Canberra   |   381488   |\n",
       "| Central Coast |   346596   |\n",
       "|   Wollongong  |   261896   |\n",
       "|    Ipswich    |   232930   |\n",
       "|     Hobart    |   197451   |\n",
       "|    Geelong    |   180239   |\n",
       "|   Townsville  |   173724   |\n",
       "|   Newcastle   |   152984   |\n",
       "|     Cairns    |   146778   |\n",
       "|     Darwin    |   139902   |\n",
       "|    Ballarat   |   116201   |\n",
       "|   Toowoomba   |   108398   |\n",
       "|    Bendigo    |   103034   |\n",
       "+---------------+------------+\n",
       "Truncated to displaylimit of 20."
      ]
     },
     "execution_count": 7,
     "metadata": {},
     "output_type": "execute_result"
    }
   ],
   "source": [
    "%%sql\n",
    "-- Finding the Australian cities in the table.\n",
    "            SELECT city, population \n",
    "            FROM cities\n",
    "            WHERE country_code = 'AUS'; "
   ]
  },
  {
   "cell_type": "code",
   "execution_count": 8,
   "metadata": {
    "vscode": {
     "languageId": "sql"
    }
   },
   "outputs": [
    {
     "data": {
      "text/html": [
       "<span style=\"None\">Running query in &#x27;duckdb&#x27;</span>"
      ],
      "text/plain": [
       "Running query in 'duckdb'"
      ]
     },
     "metadata": {},
     "output_type": "display_data"
    },
    {
     "data": {
      "text/html": [
       "<table>\n",
       "    <thead>\n",
       "        <tr>\n",
       "            <th>city</th>\n",
       "            <th>population</th>\n",
       "            <th>lat</th>\n",
       "        </tr>\n",
       "    </thead>\n",
       "    <tbody>\n",
       "        <tr>\n",
       "            <td>Kingston</td>\n",
       "            <td>10409</td>\n",
       "            <td>-42.9769</td>\n",
       "        </tr>\n",
       "        <tr>\n",
       "            <td>Hobart</td>\n",
       "            <td>197451</td>\n",
       "            <td>-42.8806</td>\n",
       "        </tr>\n",
       "        <tr>\n",
       "            <td>Launceston</td>\n",
       "            <td>80943</td>\n",
       "            <td>-41.4419</td>\n",
       "        </tr>\n",
       "        <tr>\n",
       "            <td>Devonport</td>\n",
       "            <td>23046</td>\n",
       "            <td>-41.18</td>\n",
       "        </tr>\n",
       "        <tr>\n",
       "            <td>Burnie</td>\n",
       "            <td>19918</td>\n",
       "            <td>-41.0636</td>\n",
       "        </tr>\n",
       "        <tr>\n",
       "            <td>Warrnambool</td>\n",
       "            <td>29661</td>\n",
       "            <td>-38.3833</td>\n",
       "        </tr>\n",
       "        <tr>\n",
       "            <td>Colac</td>\n",
       "            <td>9048</td>\n",
       "            <td>-38.3403</td>\n",
       "        </tr>\n",
       "        <tr>\n",
       "            <td>Torquay</td>\n",
       "            <td>13258</td>\n",
       "            <td>-38.3333</td>\n",
       "        </tr>\n",
       "        <tr>\n",
       "            <td>Portland</td>\n",
       "            <td>9712</td>\n",
       "            <td>-38.3333</td>\n",
       "        </tr>\n",
       "        <tr>\n",
       "            <td>Barwon Heads</td>\n",
       "            <td>14165</td>\n",
       "            <td>-38.25</td>\n",
       "        </tr>\n",
       "        <tr>\n",
       "            <td>Morwell</td>\n",
       "            <td>13771</td>\n",
       "            <td>-38.2333</td>\n",
       "        </tr>\n",
       "        <tr>\n",
       "            <td>Somerville</td>\n",
       "            <td>11336</td>\n",
       "            <td>-38.226</td>\n",
       "        </tr>\n",
       "        <tr>\n",
       "            <td>Traralgon</td>\n",
       "            <td>24933</td>\n",
       "            <td>-38.1958</td>\n",
       "        </tr>\n",
       "        <tr>\n",
       "            <td>Leopold</td>\n",
       "            <td>12814</td>\n",
       "            <td>-38.1892</td>\n",
       "        </tr>\n",
       "        <tr>\n",
       "            <td>Mount Eliza</td>\n",
       "            <td>17888</td>\n",
       "            <td>-38.189</td>\n",
       "        </tr>\n",
       "        <tr>\n",
       "            <td>Moe</td>\n",
       "            <td>8778</td>\n",
       "            <td>-38.1722</td>\n",
       "        </tr>\n",
       "        <tr>\n",
       "            <td>Geelong</td>\n",
       "            <td>180239</td>\n",
       "            <td>-38.15</td>\n",
       "        </tr>\n",
       "        <tr>\n",
       "            <td>Warragul</td>\n",
       "            <td>23051</td>\n",
       "            <td>-38.15</td>\n",
       "        </tr>\n",
       "        <tr>\n",
       "            <td>Frankston</td>\n",
       "            <td>36097</td>\n",
       "            <td>-38.1333</td>\n",
       "        </tr>\n",
       "        <tr>\n",
       "            <td>Drouin</td>\n",
       "            <td>12349</td>\n",
       "            <td>-38.1333</td>\n",
       "        </tr>\n",
       "    </tbody>\n",
       "</table>\n",
       "<span style=\"font-style:italic;text-align:center;\">Truncated to <a href=\"https://jupysql.ploomber.io/en/latest/api/configuration.html#displaylimit\">displaylimit</a> of 20.</span>"
      ],
      "text/plain": [
       "+--------------+------------+----------+\n",
       "|     city     | population |   lat    |\n",
       "+--------------+------------+----------+\n",
       "|   Kingston   |   10409    | -42.9769 |\n",
       "|    Hobart    |   197451   | -42.8806 |\n",
       "|  Launceston  |   80943    | -41.4419 |\n",
       "|  Devonport   |   23046    |  -41.18  |\n",
       "|    Burnie    |   19918    | -41.0636 |\n",
       "| Warrnambool  |   29661    | -38.3833 |\n",
       "|    Colac     |    9048    | -38.3403 |\n",
       "|   Torquay    |   13258    | -38.3333 |\n",
       "|   Portland   |    9712    | -38.3333 |\n",
       "| Barwon Heads |   14165    |  -38.25  |\n",
       "|   Morwell    |   13771    | -38.2333 |\n",
       "|  Somerville  |   11336    | -38.226  |\n",
       "|  Traralgon   |   24933    | -38.1958 |\n",
       "|   Leopold    |   12814    | -38.1892 |\n",
       "| Mount Eliza  |   17888    | -38.189  |\n",
       "|     Moe      |    8778    | -38.1722 |\n",
       "|   Geelong    |   180239   |  -38.15  |\n",
       "|   Warragul   |   23051    |  -38.15  |\n",
       "|  Frankston   |   36097    | -38.1333 |\n",
       "|    Drouin    |   12349    | -38.1333 |\n",
       "+--------------+------------+----------+\n",
       "Truncated to displaylimit of 20."
      ]
     },
     "execution_count": 8,
     "metadata": {},
     "output_type": "execute_result"
    }
   ],
   "source": [
    "%%sql\n",
    "-- Modifying our query to return the cities in order. \n",
    "\n",
    "-- Finding the Australian cities in the table.\n",
    "\n",
    "SELECT city, population, lat \n",
    "FROM cities\n",
    "WHERE country_code = 'AUS'\n",
    "ORDER BY lat;"
   ]
  },
  {
   "cell_type": "markdown",
   "metadata": {},
   "source": [
    "## Your Turn ##\n",
    "Write queries to:\n",
    "- Find all the capital cities in the world (capital = 'primary')\n",
    "- Find the cities in Germany, ordered by longitude"
   ]
  },
  {
   "cell_type": "code",
   "execution_count": 9,
   "metadata": {
    "vscode": {
     "languageId": "sql"
    }
   },
   "outputs": [
    {
     "data": {
      "text/html": [
       "<span style=\"None\">Running query in &#x27;duckdb&#x27;</span>"
      ],
      "text/plain": [
       "Running query in 'duckdb'"
      ]
     },
     "metadata": {},
     "output_type": "display_data"
    },
    {
     "ename": "UnboundLocalError",
     "evalue": "cannot access local variable 'result' where it is not associated with a value",
     "output_type": "error",
     "traceback": [
      "\u001b[0;31m---------------------------------------------------------------------------\u001b[0m",
      "\u001b[0;31mUnboundLocalError\u001b[0m                         Traceback (most recent call last)",
      "Cell \u001b[0;32mIn[9], line 1\u001b[0m\n\u001b[0;32m----> 1\u001b[0m \u001b[43mget_ipython\u001b[49m\u001b[43m(\u001b[49m\u001b[43m)\u001b[49m\u001b[38;5;241;43m.\u001b[39;49m\u001b[43mrun_cell_magic\u001b[49m\u001b[43m(\u001b[49m\u001b[38;5;124;43m'\u001b[39;49m\u001b[38;5;124;43msql\u001b[39;49m\u001b[38;5;124;43m'\u001b[39;49m\u001b[43m,\u001b[49m\u001b[43m \u001b[49m\u001b[38;5;124;43m'\u001b[39;49m\u001b[38;5;124;43m'\u001b[39;49m\u001b[43m,\u001b[49m\u001b[43m \u001b[49m\u001b[38;5;124;43m'\u001b[39;49m\u001b[38;5;124;43m-- All the capital cities in the table\u001b[39;49m\u001b[38;5;130;43;01m\\n\u001b[39;49;00m\u001b[38;5;124;43m'\u001b[39;49m\u001b[43m)\u001b[49m\n",
      "File \u001b[0;32m~/.local/lib/python3.12/site-packages/IPython/core/interactiveshell.py:2541\u001b[0m, in \u001b[0;36mInteractiveShell.run_cell_magic\u001b[0;34m(self, magic_name, line, cell)\u001b[0m\n\u001b[1;32m   2539\u001b[0m \u001b[38;5;28;01mwith\u001b[39;00m \u001b[38;5;28mself\u001b[39m\u001b[38;5;241m.\u001b[39mbuiltin_trap:\n\u001b[1;32m   2540\u001b[0m     args \u001b[38;5;241m=\u001b[39m (magic_arg_s, cell)\n\u001b[0;32m-> 2541\u001b[0m     result \u001b[38;5;241m=\u001b[39m \u001b[43mfn\u001b[49m\u001b[43m(\u001b[49m\u001b[38;5;241;43m*\u001b[39;49m\u001b[43margs\u001b[49m\u001b[43m,\u001b[49m\u001b[43m \u001b[49m\u001b[38;5;241;43m*\u001b[39;49m\u001b[38;5;241;43m*\u001b[39;49m\u001b[43mkwargs\u001b[49m\u001b[43m)\u001b[49m\n\u001b[1;32m   2543\u001b[0m \u001b[38;5;66;03m# The code below prevents the output from being displayed\u001b[39;00m\n\u001b[1;32m   2544\u001b[0m \u001b[38;5;66;03m# when using magics with decorator @output_can_be_silenced\u001b[39;00m\n\u001b[1;32m   2545\u001b[0m \u001b[38;5;66;03m# when the last Python token in the expression is a ';'.\u001b[39;00m\n\u001b[1;32m   2546\u001b[0m \u001b[38;5;28;01mif\u001b[39;00m \u001b[38;5;28mgetattr\u001b[39m(fn, magic\u001b[38;5;241m.\u001b[39mMAGIC_OUTPUT_CAN_BE_SILENCED, \u001b[38;5;28;01mFalse\u001b[39;00m):\n",
      "File \u001b[0;32m/usr/local/python/3.12.1/lib/python3.12/site-packages/sql/magic.py:365\u001b[0m, in \u001b[0;36mSqlMagic.execute\u001b[0;34m(self, line, cell, local_ns)\u001b[0m\n\u001b[1;32m    257\u001b[0m \u001b[38;5;129m@no_var_expand\u001b[39m\n\u001b[1;32m    258\u001b[0m \u001b[38;5;129m@needs_local_scope\u001b[39m\n\u001b[1;32m    259\u001b[0m \u001b[38;5;129m@line_magic\u001b[39m(\u001b[38;5;124m\"\u001b[39m\u001b[38;5;124msql\u001b[39m\u001b[38;5;124m\"\u001b[39m)\n\u001b[0;32m   (...)\u001b[0m\n\u001b[1;32m    337\u001b[0m )\n\u001b[1;32m    338\u001b[0m \u001b[38;5;28;01mdef\u001b[39;00m \u001b[38;5;21mexecute\u001b[39m(\u001b[38;5;28mself\u001b[39m, line\u001b[38;5;241m=\u001b[39m\u001b[38;5;124m\"\u001b[39m\u001b[38;5;124m\"\u001b[39m, cell\u001b[38;5;241m=\u001b[39m\u001b[38;5;124m\"\u001b[39m\u001b[38;5;124m\"\u001b[39m, local_ns\u001b[38;5;241m=\u001b[39m\u001b[38;5;28;01mNone\u001b[39;00m):\n\u001b[1;32m    339\u001b[0m \u001b[38;5;250m    \u001b[39m\u001b[38;5;124;03m\"\"\"\u001b[39;00m\n\u001b[1;32m    340\u001b[0m \u001b[38;5;124;03m    Runs SQL statement against a database, specified by\u001b[39;00m\n\u001b[1;32m    341\u001b[0m \u001b[38;5;124;03m    SQLAlchemy connect string.\u001b[39;00m\n\u001b[0;32m   (...)\u001b[0m\n\u001b[1;32m    363\u001b[0m \n\u001b[1;32m    364\u001b[0m \u001b[38;5;124;03m    \"\"\"\u001b[39;00m\n\u001b[0;32m--> 365\u001b[0m     \u001b[38;5;28;01mreturn\u001b[39;00m \u001b[38;5;28;43mself\u001b[39;49m\u001b[38;5;241;43m.\u001b[39;49m\u001b[43m_execute\u001b[49m\u001b[43m(\u001b[49m\n\u001b[1;32m    366\u001b[0m \u001b[43m        \u001b[49m\u001b[43mline\u001b[49m\u001b[38;5;241;43m=\u001b[39;49m\u001b[43mline\u001b[49m\u001b[43m,\u001b[49m\u001b[43m \u001b[49m\u001b[43mcell\u001b[49m\u001b[38;5;241;43m=\u001b[39;49m\u001b[43mcell\u001b[49m\u001b[43m,\u001b[49m\u001b[43m \u001b[49m\u001b[43mlocal_ns\u001b[49m\u001b[38;5;241;43m=\u001b[39;49m\u001b[43mlocal_ns\u001b[49m\u001b[43m,\u001b[49m\u001b[43m \u001b[49m\u001b[43mis_interactive_mode\u001b[49m\u001b[38;5;241;43m=\u001b[39;49m\u001b[38;5;28;43;01mFalse\u001b[39;49;00m\n\u001b[1;32m    367\u001b[0m \u001b[43m    \u001b[49m\u001b[43m)\u001b[49m\n",
      "File \u001b[0;32m/usr/local/python/3.12.1/lib/python3.12/site-packages/ploomber_core/exceptions.py:128\u001b[0m, in \u001b[0;36mmodify_exceptions.<locals>.wrapper\u001b[0;34m(*args, **kwargs)\u001b[0m\n\u001b[1;32m    125\u001b[0m \u001b[38;5;129m@wraps\u001b[39m(fn)\n\u001b[1;32m    126\u001b[0m \u001b[38;5;28;01mdef\u001b[39;00m \u001b[38;5;21mwrapper\u001b[39m(\u001b[38;5;241m*\u001b[39margs, \u001b[38;5;241m*\u001b[39m\u001b[38;5;241m*\u001b[39mkwargs):\n\u001b[1;32m    127\u001b[0m     \u001b[38;5;28;01mtry\u001b[39;00m:\n\u001b[0;32m--> 128\u001b[0m         \u001b[38;5;28;01mreturn\u001b[39;00m \u001b[43mfn\u001b[49m\u001b[43m(\u001b[49m\u001b[38;5;241;43m*\u001b[39;49m\u001b[43margs\u001b[49m\u001b[43m,\u001b[49m\u001b[43m \u001b[49m\u001b[38;5;241;43m*\u001b[39;49m\u001b[38;5;241;43m*\u001b[39;49m\u001b[43mkwargs\u001b[49m\u001b[43m)\u001b[49m\n\u001b[1;32m    129\u001b[0m     \u001b[38;5;28;01mexcept\u001b[39;00m (\u001b[38;5;167;01mValueError\u001b[39;00m, \u001b[38;5;167;01mTypeError\u001b[39;00m) \u001b[38;5;28;01mas\u001b[39;00m e:\n\u001b[1;32m    130\u001b[0m         _add_community_link(e)\n",
      "File \u001b[0;32m/usr/local/python/3.12.1/lib/python3.12/site-packages/sql/magic.py:624\u001b[0m, in \u001b[0;36mSqlMagic._execute\u001b[0;34m(self, line, cell, local_ns, is_interactive_mode)\u001b[0m\n\u001b[1;32m    621\u001b[0m     handle_exception(e, command\u001b[38;5;241m.\u001b[39msql, \u001b[38;5;28mself\u001b[39m\u001b[38;5;241m.\u001b[39mshort_errors)\n\u001b[1;32m    622\u001b[0m \u001b[38;5;28;01mexcept\u001b[39;00m \u001b[38;5;167;01mException\u001b[39;00m \u001b[38;5;28;01mas\u001b[39;00m e:\n\u001b[1;32m    623\u001b[0m     \u001b[38;5;66;03m# Handle non SQLAlchemy errors\u001b[39;00m\n\u001b[0;32m--> 624\u001b[0m     \u001b[43mhandle_exception\u001b[49m\u001b[43m(\u001b[49m\u001b[43me\u001b[49m\u001b[43m,\u001b[49m\u001b[43m \u001b[49m\u001b[43mcommand\u001b[49m\u001b[38;5;241;43m.\u001b[39;49m\u001b[43msql\u001b[49m\u001b[43m,\u001b[49m\u001b[43m \u001b[49m\u001b[38;5;28;43mself\u001b[39;49m\u001b[38;5;241;43m.\u001b[39;49m\u001b[43mshort_errors\u001b[49m\u001b[43m)\u001b[49m\n",
      "File \u001b[0;32m/usr/local/python/3.12.1/lib/python3.12/site-packages/sql/error_handler.py:115\u001b[0m, in \u001b[0;36mhandle_exception\u001b[0;34m(error, query, short_error)\u001b[0m\n\u001b[1;32m    113\u001b[0m         _display_error_msg_with_trace(error, detailed_message)\n\u001b[1;32m    114\u001b[0m \u001b[38;5;28;01melse\u001b[39;00m:\n\u001b[0;32m--> 115\u001b[0m     \u001b[38;5;28;01mraise\u001b[39;00m error\n",
      "File \u001b[0;32m/usr/local/python/3.12.1/lib/python3.12/site-packages/sql/magic.py:578\u001b[0m, in \u001b[0;36mSqlMagic._execute\u001b[0;34m(self, line, cell, local_ns, is_interactive_mode)\u001b[0m\n\u001b[1;32m    575\u001b[0m     parameters \u001b[38;5;241m=\u001b[39m user_ns\n\u001b[1;32m    577\u001b[0m \u001b[38;5;28;01mtry\u001b[39;00m:\n\u001b[0;32m--> 578\u001b[0m     result \u001b[38;5;241m=\u001b[39m \u001b[43mrun_statements\u001b[49m\u001b[43m(\u001b[49m\u001b[43mconn\u001b[49m\u001b[43m,\u001b[49m\u001b[43m \u001b[49m\u001b[43mcommand\u001b[49m\u001b[38;5;241;43m.\u001b[39;49m\u001b[43msql\u001b[49m\u001b[43m,\u001b[49m\u001b[43m \u001b[49m\u001b[38;5;28;43mself\u001b[39;49m\u001b[43m,\u001b[49m\u001b[43m \u001b[49m\u001b[43mparameters\u001b[49m\u001b[38;5;241;43m=\u001b[39;49m\u001b[43mparameters\u001b[49m\u001b[43m)\u001b[49m\n\u001b[1;32m    580\u001b[0m     \u001b[38;5;28;01mif\u001b[39;00m (\n\u001b[1;32m    581\u001b[0m         result \u001b[38;5;129;01mis\u001b[39;00m \u001b[38;5;129;01mnot\u001b[39;00m \u001b[38;5;28;01mNone\u001b[39;00m\n\u001b[1;32m    582\u001b[0m         \u001b[38;5;129;01mand\u001b[39;00m \u001b[38;5;129;01mnot\u001b[39;00m \u001b[38;5;28misinstance\u001b[39m(result, \u001b[38;5;28mstr\u001b[39m)\n\u001b[0;32m   (...)\u001b[0m\n\u001b[1;32m    585\u001b[0m         \u001b[38;5;66;03m# Instead of returning values, set variables directly in the\u001b[39;00m\n\u001b[1;32m    586\u001b[0m         \u001b[38;5;66;03m# users namespace. Variable names given by column names\u001b[39;00m\n\u001b[1;32m    588\u001b[0m         \u001b[38;5;28;01mif\u001b[39;00m \u001b[38;5;28mself\u001b[39m\u001b[38;5;241m.\u001b[39mautopandas \u001b[38;5;129;01mor\u001b[39;00m \u001b[38;5;28mself\u001b[39m\u001b[38;5;241m.\u001b[39mautopolars:\n",
      "File \u001b[0;32m/usr/local/python/3.12.1/lib/python3.12/site-packages/sql/run/run.py:65\u001b[0m, in \u001b[0;36mrun_statements\u001b[0;34m(conn, sql, config, parameters)\u001b[0m\n\u001b[1;32m     58\u001b[0m         \u001b[38;5;28;01mif\u001b[39;00m (\n\u001b[1;32m     59\u001b[0m             config\u001b[38;5;241m.\u001b[39mfeedback \u001b[38;5;241m>\u001b[39m\u001b[38;5;241m=\u001b[39m \u001b[38;5;241m1\u001b[39m\n\u001b[1;32m     60\u001b[0m             \u001b[38;5;129;01mand\u001b[39;00m \u001b[38;5;28mhasattr\u001b[39m(result, \u001b[38;5;124m\"\u001b[39m\u001b[38;5;124mrowcount\u001b[39m\u001b[38;5;124m\"\u001b[39m)\n\u001b[1;32m     61\u001b[0m             \u001b[38;5;129;01mand\u001b[39;00m result\u001b[38;5;241m.\u001b[39mrowcount \u001b[38;5;241m>\u001b[39m \u001b[38;5;241m0\u001b[39m\n\u001b[1;32m     62\u001b[0m         ):\n\u001b[1;32m     63\u001b[0m             display\u001b[38;5;241m.\u001b[39mmessage_success(\u001b[38;5;124mf\u001b[39m\u001b[38;5;124m\"\u001b[39m\u001b[38;5;132;01m{\u001b[39;00mresult\u001b[38;5;241m.\u001b[39mrowcount\u001b[38;5;132;01m}\u001b[39;00m\u001b[38;5;124m rows affected.\u001b[39m\u001b[38;5;124m\"\u001b[39m)\n\u001b[0;32m---> 65\u001b[0m result_set \u001b[38;5;241m=\u001b[39m ResultSet(\u001b[43mresult\u001b[49m, config, statement, conn)\n\u001b[1;32m     66\u001b[0m \u001b[38;5;28;01mreturn\u001b[39;00m select_df_type(result_set, config)\n",
      "\u001b[0;31mUnboundLocalError\u001b[0m: cannot access local variable 'result' where it is not associated with a value"
     ]
    }
   ],
   "source": [
    "%%sql\n",
    "-- All the capital cities in the table\n"
   ]
  },
  {
   "cell_type": "code",
   "execution_count": null,
   "metadata": {
    "vscode": {
     "languageId": "sql"
    }
   },
   "outputs": [],
   "source": [
    "%%sql\n",
    "-- Cities in Germany ordered by longitude.\n"
   ]
  },
  {
   "cell_type": "markdown",
   "metadata": {},
   "source": [
    "## Aggregate Functions in SQL ##\n",
    "Aggregate functions are used to perform calculations on a set of values to return a single value. We already used a simple aggregate function in the previous exercise: `COUNT(*)`. \n",
    "\n",
    "**Aggregate functions include:**\n",
    "- `COUNT()`: returns the number of rows that match a specified criteria\n",
    "- `SUM()`: returns the sum of all values in a column\n",
    "- `AVG()`: returns the average *(mean)* of all values in a column\n",
    "- `MIN()`: returns the minimum value in a column\n",
    "- `MAX()`: returns the maximum value in a column\n",
    "Note that for any of the functions besides `COUNT()`, you need to specify the column you want to perform the calculation on.\n",
    "\n",
    "**The code below shows:**\n",
    "- Larget (`MAX`) population of a city in the table\n",
    "- Total (`SUM`) population of all cities in the table\n",
    "- Average (`AVG`) population of US cities in the table"
   ]
  },
  {
   "cell_type": "code",
   "execution_count": 10,
   "metadata": {
    "vscode": {
     "languageId": "sql"
    }
   },
   "outputs": [
    {
     "data": {
      "text/html": [
       "<span style=\"None\">Running query in &#x27;duckdb&#x27;</span>"
      ],
      "text/plain": [
       "Running query in 'duckdb'"
      ]
     },
     "metadata": {},
     "output_type": "display_data"
    },
    {
     "data": {
      "text/html": [
       "<table>\n",
       "    <thead>\n",
       "        <tr>\n",
       "            <th>Largest_Population</th>\n",
       "        </tr>\n",
       "    </thead>\n",
       "    <tbody>\n",
       "        <tr>\n",
       "            <td>37732000</td>\n",
       "        </tr>\n",
       "    </tbody>\n",
       "</table>"
      ],
      "text/plain": [
       "+--------------------+\n",
       "| Largest_Population |\n",
       "+--------------------+\n",
       "|      37732000      |\n",
       "+--------------------+"
      ]
     },
     "execution_count": 10,
     "metadata": {},
     "output_type": "execute_result"
    }
   ],
   "source": [
    "%%sql\n",
    "\n",
    "-- Example:\n",
    "--  * Largest population in the table.\n",
    "SELECT MAX(population) AS Largest_Population\n",
    "FROM cities;\n",
    "           \n",
    " "
   ]
  },
  {
   "cell_type": "code",
   "execution_count": 11,
   "metadata": {
    "vscode": {
     "languageId": "sql"
    }
   },
   "outputs": [
    {
     "data": {
      "text/html": [
       "<span style=\"None\">Running query in &#x27;duckdb&#x27;</span>"
      ],
      "text/plain": [
       "Running query in 'duckdb'"
      ]
     },
     "metadata": {},
     "output_type": "display_data"
    },
    {
     "data": {
      "text/html": [
       "<table>\n",
       "    <thead>\n",
       "        <tr>\n",
       "            <th>Total_Population</th>\n",
       "        </tr>\n",
       "    </thead>\n",
       "    <tbody>\n",
       "        <tr>\n",
       "            <td>5189102107</td>\n",
       "        </tr>\n",
       "    </tbody>\n",
       "</table>"
      ],
      "text/plain": [
       "+------------------+\n",
       "| Total_Population |\n",
       "+------------------+\n",
       "|    5189102107    |\n",
       "+------------------+"
      ]
     },
     "execution_count": 11,
     "metadata": {},
     "output_type": "execute_result"
    }
   ],
   "source": [
    "   \n",
    "%%sql\n",
    "\n",
    "-- Example:\n",
    "--  * Total population from all cities in the table.\n",
    "SELECT SUM(population) AS Total_Population\n",
    "FROM cities;\n",
    "        \n"
   ]
  },
  {
   "cell_type": "code",
   "execution_count": 13,
   "metadata": {
    "vscode": {
     "languageId": "sql"
    }
   },
   "outputs": [
    {
     "data": {
      "text/html": [
       "<span style=\"None\">Running query in &#x27;duckdb&#x27;</span>"
      ],
      "text/plain": [
       "Running query in 'duckdb'"
      ]
     },
     "metadata": {},
     "output_type": "display_data"
    },
    {
     "data": {
      "text/html": [
       "<table>\n",
       "    <thead>\n",
       "        <tr>\n",
       "            <th>Average_Population</th>\n",
       "        </tr>\n",
       "    </thead>\n",
       "    <tbody>\n",
       "        <tr>\n",
       "            <td>71006.65195341848</td>\n",
       "        </tr>\n",
       "    </tbody>\n",
       "</table>"
      ],
      "text/plain": [
       "+--------------------+\n",
       "| Average_Population |\n",
       "+--------------------+\n",
       "| 71006.65195341848  |\n",
       "+--------------------+"
      ]
     },
     "execution_count": 13,
     "metadata": {},
     "output_type": "execute_result"
    }
   ],
   "source": [
    "%%sql\n",
    "SELECT AVG(population) AS Average_US_City_Population\n",
    "FROM cities\n",
    "where country_code = 'USA';"
   ]
  },
  {
   "cell_type": "markdown",
   "metadata": {},
   "source": [
    "## Now You Try ##\n",
    "Write queries to:\n",
    "- Find the minimum population in the database\n",
    "- Find the total population of cities in Australia\n"
   ]
  },
  {
   "cell_type": "code",
   "execution_count": null,
   "metadata": {
    "vscode": {
     "languageId": "sql"
    }
   },
   "outputs": [],
   "source": [
    "\n",
    "%%sql\n",
    "-- Min population in the cities table\n",
    "\n"
   ]
  },
  {
   "cell_type": "code",
   "execution_count": null,
   "metadata": {
    "vscode": {
     "languageId": "sql"
    }
   },
   "outputs": [],
   "source": [
    "%%sql\n",
    "-- Total population of cities in Australia\n"
   ]
  },
  {
   "cell_type": "markdown",
   "metadata": {},
   "source": [
    "## GROUP BY ##\n",
    "The `GROUP BY` statement is  with aggregate functions to group the result-set by one or more columns. Instead of performing a calculation on all the rows, you can perform it on groups of rows that have the same value in one or more columns.\n",
    "\n",
    "The order of SQL statements is important. The `GROUP BY` statement must come after any `WHERE` statements, but before an `ORDER BY` statement.\n",
    "\n",
    "## HAVING ##\n",
    "When you use the `GROUP BY` statement, you can use the `HAVING` statement to filter the groups based on specified conditions.\n",
    "- `WHERE` filters the rows before the calculation is applied (only counting the relevant rows)\n",
    "- `HAVING` filters the groups after the calculation is applied (like a filter on the results)\n",
    "\n",
    "**The queries in the code below:**\n",
    "- Count the number of cities in each country with more than 1 million people, ordered by the number of cities. Includes only the countries with more than 5 big cities\n",
    "\n",
    "*Note: These queries uses a column alias to make the output more readable. The `AS` keyword is used to create an alias.*"
   ]
  },
  {
   "cell_type": "code",
   "execution_count": 15,
   "metadata": {
    "vscode": {
     "languageId": "sql"
    }
   },
   "outputs": [
    {
     "data": {
      "text/html": [
       "<span style=\"None\">Running query in &#x27;duckdb&#x27;</span>"
      ],
      "text/plain": [
       "Running query in 'duckdb'"
      ]
     },
     "metadata": {},
     "output_type": "display_data"
    },
    {
     "data": {
      "text/html": [
       "<table>\n",
       "    <thead>\n",
       "        <tr>\n",
       "            <th>country</th>\n",
       "            <th>big_cities</th>\n",
       "        </tr>\n",
       "    </thead>\n",
       "    <tbody>\n",
       "        <tr>\n",
       "            <td>China</td>\n",
       "            <td>60</td>\n",
       "        </tr>\n",
       "    </tbody>\n",
       "</table>"
      ],
      "text/plain": [
       "+---------+------------+\n",
       "| country | big_cities |\n",
       "+---------+------------+\n",
       "|  China  |     60     |\n",
       "+---------+------------+"
      ]
     },
     "execution_count": 15,
     "metadata": {},
     "output_type": "execute_result"
    }
   ],
   "source": [
    "%%sql\n",
    "-- How many cities in each country with population > 1 million\n",
    "\n",
    "SELECT country, count(*) AS big_cities\n",
    "FROM cities\n",
    "WHERE population > 5000000\n",
    "GROUP BY country\n",
    "HAVING big_cities >= 10\n",
    "ORDER BY big_cities DESC;\n"
   ]
  },
  {
   "cell_type": "markdown",
   "metadata": {
    "vscode": {
     "languageId": "sql"
    }
   },
   "source": [
    "# TODO: Still need some examples here"
   ]
  }
 ],
 "metadata": {
  "kernelspec": {
   "display_name": "Python 3",
   "language": "python",
   "name": "python3"
  },
  "language_info": {
   "codemirror_mode": {
    "name": "ipython",
    "version": 3
   },
   "file_extension": ".py",
   "mimetype": "text/x-python",
   "name": "python",
   "nbconvert_exporter": "python",
   "pygments_lexer": "ipython3",
   "version": "3.12.1"
  }
 },
 "nbformat": 4,
 "nbformat_minor": 2
}
