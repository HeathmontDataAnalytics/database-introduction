{
 "cells": [
  {
   "cell_type": "markdown",
   "metadata": {},
   "source": [
    "# Introduction to Databases and SQL #\n",
    "## Databases ##\n",
    "**Databases** are a collection of data that is stored in a computer system. Databases allow us to store, retrieve, and manipulate data. Databases are used in many applications, such as websites, mobile apps, and desktop applications. Databases use tables to store data. Each table has columns and rows. Columns represent the *attributes* of the data, and rows represent *individual records*.\n",
    "\n",
    "## SQL ##\n",
    "**SQL (Structured Query Language)** is a programming language used to interact with databases. SQL allows us to create, read, update, and delete data in a database. SQL is used to perform operations on databases, such as querying data, inserting data, updating data, and deleting data.\n",
    "\n",
    "**The basic SQL commands are:**\n",
    "- `SELECT`: Used to retrieve data from a database.\n",
    "- `INSERT`: Used to insert data into a database.\n",
    "- `UPDATE`: Used to update data in a database.\n",
    "\n",
    "\n",
    "\n",
    "## Part 1 - Creating a table ##\n",
    "**In the code below we will:** \n",
    "1. Connect to a new database (school.db) using duckdb.\n",
    "2. Create a table called 'test' with one column: \"num\" which stores an integer. *Integers are whole numbers (ie. positive or negative but not a decimal)*\n",
    "3. Insert some data into this table \n",
    "4. Query the table to see what we have inserted. \n",
    "5. Update the data in the table and query again to see the changes.\n",
    "6. Close the connection to the database.\n",
    "\n",
    "> Note: to allow some code to only be run once, while other code runs multiple times, we have separated them into separate cells. To run the code, click on the play button for each cell in order.\n"
   ]
  },
  {
   "cell_type": "code",
   "execution_count": null,
   "metadata": {},
   "outputs": [],
   "source": [
    "# You just have to run this cell once to load the database. It's Python code, but the rest will run as SQL.\n",
    "import duckdb\n",
    "import pandas as pd"
   ]
  },
  {
   "cell_type": "code",
   "execution_count": null,
   "metadata": {},
   "outputs": [],
   "source": [
    "%load_ext sql\n",
    "# This cell sets up the connection to the database. You definitely need to run this (exactly once) before running any other cells.\n",
    "conn = duckdb.connect(database='school.ddb', read_only=False)\n",
    "%sql conn --alias duckdb\n",
    "%config SqlMagic.autopandas = True\n",
    "%config SqlMagic.feedback = False\n",
    "%config SqlMagic.displaycon = False\n",
    "# This last line seems to be needed for Mac. Maybe windows too - who knows?\n",
    "%config SqlMagic.style = \"_DEPRECATED_MSWORD_FRIENDLY\""
   ]
  },
  {
   "cell_type": "code",
   "execution_count": null,
   "metadata": {
    "vscode": {
     "languageId": "sql"
    }
   },
   "outputs": [],
   "source": [
    "%%sql\n",
    "CREATE OR REPLACE TABLE test (num INTEGER);"
   ]
  },
  {
   "cell_type": "code",
   "execution_count": null,
   "metadata": {
    "vscode": {
     "languageId": "sql"
    }
   },
   "outputs": [],
   "source": []
  },
  {
   "cell_type": "code",
   "execution_count": null,
   "metadata": {
    "vscode": {
     "languageId": "sql"
    }
   },
   "outputs": [],
   "source": [
    "%%sql\n",
    "\n",
    "-- This code will add a new row to the table each time you run it. You can run it as many times as you want.\n",
    "-- Change the number to add a different value to see this in action. \n",
    "INSERT INTO test VALUES (42);\n",
    "CHECKPOINT;\n",
    "\n",
    "SELECT * FROM test"
   ]
  },
  {
   "cell_type": "code",
   "execution_count": null,
   "metadata": {
    "vscode": {
     "languageId": "sql"
    }
   },
   "outputs": [],
   "source": [
    "%%sql\n",
    "-- Change the value of a row in the table.\n",
    "UPDATE test SET num = 17 WHERE num = 42;\n",
    "\n",
    "CHECKPOINT;\n",
    "SELECT * FROM test;"
   ]
  },
  {
   "cell_type": "markdown",
   "metadata": {},
   "source": [
    "## Additional SQL Commands ##\n",
    "In addition to `SELECT`, `INSERT`, and `UPDATE`, there are other SQL commands that can be used to interact with databases. We already saw how to create a table, but there are also commands to delete a table (`DROP TABLE`), delete data from a table (`DELETE FROM`), and alter a table (`ALTER TABLE`). These commands can be used to modify the structure of a database, add or remove data, and perform other operations.\n",
    "\n",
    "## Part 2 - Modifying and deleting from tables ##\n",
    "**In the code below we will:**\n",
    "1. Reconnect to the database (school.db) using a self-closing context managers.\n",
    "2. Alter the table 'test' by adding a new column called \"name\" which stores text data as `VARCHAR`. Set the default value of this column to \"Boris\".\n",
    "3. Insert some new data into this table and query\n",
    "4. Delete some of the data from the table and query again to see the changes.\n",
    "5. Drop the table 'test' and close the connection to the database.\n"
   ]
  },
  {
   "cell_type": "code",
   "execution_count": null,
   "metadata": {
    "vscode": {
     "languageId": "sql"
    }
   },
   "outputs": [],
   "source": [
    "%%sql\n",
    "-- Adding a new column to the table. NOTE: This will error if the column already exists (so only run it once)\n",
    "ALTER TABLE test ADD COLUMN name VARCHAR DEFAULT 'Boris';\n",
    "\n",
    "SELECT * FROM test;"
   ]
  },
  {
   "cell_type": "code",
   "execution_count": null,
   "metadata": {
    "vscode": {
     "languageId": "sql"
    }
   },
   "outputs": [],
   "source": [
    "%%sql\n",
    "-- 4. Add a row to the table. Feel free to use your own values.\n",
    "INSERT INTO test VALUES (42, 'Alice');\n",
    "\n",
    "SELECT * FROM test;"
   ]
  },
  {
   "cell_type": "code",
   "execution_count": null,
   "metadata": {
    "vscode": {
     "languageId": "sql"
    }
   },
   "outputs": [],
   "source": [
    "%%sql\n",
    "DELETE FROM test WHERE name = 'Boris';\n",
    "\n",
    "SELECT * FROM test;"
   ]
  },
  {
   "cell_type": "code",
   "execution_count": null,
   "metadata": {
    "vscode": {
     "languageId": "sql"
    }
   },
   "outputs": [],
   "source": [
    "%%sql\n",
    "DROP TABLE test;"
   ]
  },
  {
   "cell_type": "markdown",
   "metadata": {},
   "source": [
    "## Part 3 - Writing your own SQL ##\n",
    "Now that we have cleared out our table, we can start to apply our knowledge of SQL to a real-world problem. In the code below we will:\n",
    "\n",
    "1. Create a new table called 'students' with the following columns:\n",
    "    - `student_id` (integer) - primary key\n",
    "    - `first_name` (text) - the first name of the student\n",
    "    - `last_name` (text) - the last name of the student\n",
    "    - `age` (integer) - the age of the student\n",
    "    - `year_level` (integer) - the grade of the student\n",
    "2. Insert some data into this table\n",
    "    - Create at least one row using a favourite fictional character\n",
    "    - the `student_id` field should be unique. Later in this notebook, we will learn how to automatically generate unique ids. For now just start at 1 and go up 1 from there.\n",
    "3. Query the table to see what we have inserted\n",
    "\n",
    "Fill in the blanks in the code below to complete the tasks. Each task has its own cell to allow you to run and debug each operation separately"
   ]
  },
  {
   "cell_type": "code",
   "execution_count": null,
   "metadata": {
    "vscode": {
     "languageId": "sql"
    }
   },
   "outputs": [],
   "source": [
    "%%sql\n",
    "-- 1. Creating a new table called 'students' with five columns: student_id, first_name, last_name, age, and year_level.\n",
    "-- Uncomment the code and complete it to create the table.\n",
    "\n",
    "-- CREATE TABLE students (student_id INTEGER PRIMARY KEY, first_name VARCHAR, );\n",
    "\n",
    "\n",
    "SELECT * FROM students;"
   ]
  },
  {
   "cell_type": "code",
   "execution_count": null,
   "metadata": {
    "vscode": {
     "languageId": "sql"
    }
   },
   "outputs": [],
   "source": [
    "%%sql\n",
    "\n",
    "-- 2. Adding rows to the table. Add as many as you like (at least 5), just be sure to change the values and increment the id. \n",
    "-- Be sure to include different ages and year levels. The id must be unique for each row.\n",
    "\n",
    "-- INSERT INTO students VALUES (1, 'Roger', 'Rabbit', 18, 11);\n",
    "\n",
    "CHECKPOINT;\n",
    "\n",
    "SELECT * FROM students;\n",
    "    "
   ]
  },
  {
   "cell_type": "code",
   "execution_count": null,
   "metadata": {
    "vscode": {
     "languageId": "sql"
    }
   },
   "outputs": [],
   "source": [
    "%%sql\n",
    "-- 3. Querying the Database. To get all the values from a table, we just used con.table('table_name').show(). Now we want to write\n",
    "-- custom SQL queries to get specific data. \n",
    "--  This first query will get the first name and age of all the students who are older than 15. \n",
    "-- Use the formatting of the first query to write the second query, \n",
    "-- which will get all the students who have a year level of 12.\n",
    " \n",
    "SELECT first_name, age \n",
    "    FROM students \n",
    "    WHERE age > 15;\n"
   ]
  },
  {
   "cell_type": "code",
   "execution_count": null,
   "metadata": {
    "vscode": {
     "languageId": "sql"
    }
   },
   "outputs": [],
   "source": [
    "%%sql\n",
    "\n",
    "-- Write your own query to get the first name and last name of all students in year 12.\n",
    "\n"
   ]
  },
  {
   "cell_type": "markdown",
   "metadata": {},
   "source": [
    "## Part 4 - Creating a sequence ##\n",
    "At the moment we have to manually enter the `student_id` field for each row. This is not ideal as it is easy to make a mistake and enter the same student_id twice. To avoid this, we can create a sequence that will automatically generate unique ids for us.\n",
    "\n",
    "A sequence is a database object that generates a sequence of numbers. This ensures that our ids will always be unique when we use the sequence to generate them.\n",
    "\n",
    "**In the code below we will:**\n",
    "1. Create a sequence called 'student_id_seq' that starts at 100 (to keep it safe) and increments by 1.\n",
    "2. Alter the 'students' table to set the default value of the `student_id` column to the next value in the sequence.\n",
    "3. Insert some new data into the 'students' table and query to see the changes."
   ]
  },
  {
   "cell_type": "code",
   "execution_count": null,
   "metadata": {
    "vscode": {
     "languageId": "sql"
    }
   },
   "outputs": [],
   "source": [
    "%%sql\n",
    ";\n",
    "-- 1. Creating a sequence. This will be used to generate unique student IDs.\n",
    "--  NOTE: as with any CREATE or ALTER statement, we only want to run it once. \n",
    "CREATE OR REPLACE sequence student_id_seq START 100;\n",
    "\n",
    "--  2. Altering the students table \n",
    "ALTER TABLE students ALTER COLUMN student_id SET DEFAULT nextval('student_id_seq');\n",
    "\n",
    "CHECKPOINT;"
   ]
  },
  {
   "cell_type": "code",
   "execution_count": null,
   "metadata": {
    "vscode": {
     "languageId": "sql"
    }
   },
   "outputs": [],
   "source": [
    "%%sql\n",
    "-- 3. Adding a new student to the table. This time we don't need to specify the ID, as it will be generated automatically.\n",
    "-- Make sure you have at least one pair of students with the same first name, but different last names.\n",
    "INSERT INTO students (first_name, last_name, age, year_level) VALUES ('Roger', 'Ramjet', 17, 11);\n",
    "    "
   ]
  },
  {
   "cell_type": "markdown",
   "metadata": {},
   "source": [
    "## Part 5 - Complex SQL Conditions ##\n",
    "\n",
    "In addition to simple conditions, SQL allows us to use complex conditions to filter data. We can use `AND`, `OR`, and `NOT` to combine conditions and create more complex queries. We can also use comparison operators such as `=`, `!=`, `<`, `>`, `<=`, and `>=` to compare values. These operators can be used to filter data based on specific criteria.\n",
    "\n",
    "**In the code below, you should:**\n",
    "1. Query the `students` table to find all students who are in year 10 **and** are 15 years old.\n",
    "2. Query the `students` table to find all students who are in year 12 **or** are 18 years old.\n",
    "3. Query the `students` table to find all students who are **not** in year 9.\n",
    "4. Query the `students` table to find all students who are **not** in year 9 **and** are **not** 13 years old.\n",
    "5. Query the `students` table to find all students who are **not** in year 9 **or** are **not** 13 years old.\n",
    "\n",
    "You might want to add additional rows to the `students` table to ensure you have enough data to test these queries thoroughtly."
   ]
  },
  {
   "cell_type": "code",
   "execution_count": null,
   "metadata": {
    "vscode": {
     "languageId": "sql"
    }
   },
   "outputs": [],
   "source": [
    "%%sql\n",
    "\n",
    "-- It's up to you now! \n",
    "-- 1. All students who are in year 10 AND are 15 years old.\n",
    "\n",
    "-- SELECT ...;"
   ]
  },
  {
   "cell_type": "code",
   "execution_count": null,
   "metadata": {
    "vscode": {
     "languageId": "sql"
    }
   },
   "outputs": [],
   "source": [
    "%%sql\n",
    "-- 2. All students who are in Year 12 OR are 18 years old.\n",
    "\n"
   ]
  },
  {
   "cell_type": "code",
   "execution_count": null,
   "metadata": {
    "vscode": {
     "languageId": "sql"
    }
   },
   "outputs": [],
   "source": [
    "%%sql\n",
    "-- 3. All students who are not in Year 9\n",
    "\n"
   ]
  },
  {
   "cell_type": "code",
   "execution_count": null,
   "metadata": {
    "vscode": {
     "languageId": "sql"
    }
   },
   "outputs": [],
   "source": [
    "%%sql\n",
    "-- 4. All students who are NOT in Year 9 AND NOT 13 years old"
   ]
  },
  {
   "cell_type": "code",
   "execution_count": null,
   "metadata": {
    "vscode": {
     "languageId": "sql"
    }
   },
   "outputs": [],
   "source": [
    "%%sql\n",
    "-- 4. All students who are NOT in Year 9 OR NOT 13 years old"
   ]
  },
  {
   "cell_type": "code",
   "execution_count": null,
   "metadata": {
    "vscode": {
     "languageId": "sql"
    }
   },
   "outputs": [],
   "source": [
    "%%sql\n",
    "CHECKPOINT;"
   ]
  }
 ],
 "metadata": {
  "kernelspec": {
   "display_name": ".venv",
   "language": "python",
   "name": "python3"
  },
  "language_info": {
   "codemirror_mode": {
    "name": "ipython",
    "version": 3
   },
   "file_extension": ".py",
   "mimetype": "text/x-python",
   "name": "python",
   "nbconvert_exporter": "python",
   "pygments_lexer": "ipython3",
   "version": "3.12.2"
  }
 },
 "nbformat": 4,
 "nbformat_minor": 2
}
