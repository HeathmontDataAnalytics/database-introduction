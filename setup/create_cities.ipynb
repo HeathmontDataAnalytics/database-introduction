{
 "cells": [
  {
   "cell_type": "code",
   "execution_count": 45,
   "metadata": {},
   "outputs": [],
   "source": [
    "import duckdb\n",
    "\n",
    "with duckdb.connect('../data/cities.db') as con:\n",
    "    con.execute(\"CREATE OR REPLACE TABLE cities AS SELECT * FROM read_csv_auto('../data/worldcities.csv');\")\n",
    "    con.execute(\"ALTER TABLE cities DROP COLUMN city_ascii;\")\n",
    "    con.execute(\"ALTER TABLE cities DROP COLUMN id;\")\n",
    "    con.execute(\"DELETE FROM cities WHERE population is NULL;\")\n",
    "    con.execute(\"DELETE FROM cities WHERE population < 5000\")\n",
    "    con.execute(\"ALTER TABLE cities DROP COLUMN iso2;\")\n",
    "    con.execute(\"ALTER TABLE cities DROP COLUMN admin_name;\")\n",
    "    con.execute(\"ALTER TABLE cities RENAME COLUMN iso3 TO country_code;\")"
   ]
  },
  {
   "cell_type": "code",
   "execution_count": 46,
   "metadata": {},
   "outputs": [
    {
     "name": "stdout",
     "output_type": "stream",
     "text": [
      "┌───────────┐\n",
      "│ row_count │\n",
      "│   int64   │\n",
      "├───────────┤\n",
      "│     46748 │\n",
      "└───────────┘\n",
      "\n"
     ]
    }
   ],
   "source": [
    "with duckdb.connect('../data/cities.db') as con:\n",
    "    result = con.sql(\"SELECT count(*) row_count FROM cities;\")\n",
    "    result.show()"
   ]
  },
  {
   "cell_type": "code",
   "execution_count": 47,
   "metadata": {},
   "outputs": [
    {
     "name": "stdout",
     "output_type": "stream",
     "text": [
      "┌────────────────┬─────────┬──────────┬───────────────┬──────────────┬─────────┬────────────┐\n",
      "│      city      │   lat   │   lng    │    country    │ country_code │ capital │ population │\n",
      "│    varchar     │ double  │  double  │    varchar    │   varchar    │ varchar │   int64    │\n",
      "├────────────────┼─────────┼──────────┼───────────────┼──────────────┼─────────┼────────────┤\n",
      "│ Tokyo          │ 35.6897 │ 139.6922 │ Japan         │ JPN          │ primary │   37732000 │\n",
      "│ Jakarta        │  -6.175 │ 106.8275 │ Indonesia     │ IDN          │ primary │   33756000 │\n",
      "│ Delhi          │   28.61 │    77.23 │ India         │ IND          │ admin   │   32226000 │\n",
      "│ Guangzhou      │   23.13 │   113.26 │ China         │ CHN          │ admin   │   26940000 │\n",
      "│ Mumbai         │ 19.0761 │  72.8775 │ India         │ IND          │ admin   │   24973000 │\n",
      "│ Manila         │ 14.5958 │ 120.9772 │ Philippines   │ PHL          │ primary │   24922000 │\n",
      "│ Shanghai       │ 31.2286 │ 121.4747 │ China         │ CHN          │ admin   │   24073000 │\n",
      "│ São Paulo      │  -23.55 │ -46.6333 │ Brazil        │ BRA          │ admin   │   23086000 │\n",
      "│ Seoul          │   37.56 │   126.99 │ Korea, South  │ KOR          │ primary │   23016000 │\n",
      "│ Mexico City    │ 19.4333 │ -99.1333 │ Mexico        │ MEX          │ primary │   21804000 │\n",
      "│   ·            │    ·    │     ·    │   ·           │  ·           │  ·      │        ·   │\n",
      "│   ·            │    ·    │     ·    │   ·           │  ·           │  ·      │        ·   │\n",
      "│   ·            │    ·    │     ·    │   ·           │  ·           │  ·      │        ·   │\n",
      "│ Choshi         │ 35.7346 │ 140.8268 │ Japan         │ JPN          │ NULL    │      57533 │\n",
      "│ Santa Maria    │    6.55 │   125.47 │ Philippines   │ PHL          │ NULL    │      57526 │\n",
      "│ Decatur        │ 34.5731 │ -86.9905 │ United States │ USA          │ NULL    │      57525 │\n",
      "│ Krasnotur’insk │ 59.7733 │  60.1853 │ Russia        │ RUS          │ NULL    │      57514 │\n",
      "│ Palāsa         │ 18.7731 │  84.4078 │ India         │ IND          │ NULL    │      57507 │\n",
      "│ Tokoname       │ 34.8865 │ 136.8323 │ Japan         │ JPN          │ NULL    │      57507 │\n",
      "│ Ejmiatsin      │ 40.1728 │  44.2925 │ Armenia       │ ARM          │ NULL    │      57500 │\n",
      "│ Lenexa         │ 38.9609 │ -94.8018 │ United States │ USA          │ NULL    │      57497 │\n",
      "│ Wiwilí         │ 13.6167 │ -85.8333 │ Nicaragua     │ NIC          │ minor   │      57485 │\n",
      "│ Guarabira      │  -6.855 │   -35.49 │ Brazil        │ BRA          │ minor   │      57484 │\n",
      "├────────────────┴─────────┴──────────┴───────────────┴──────────────┴─────────┴────────────┤\n",
      "│ ? rows (>9999 rows, 20 shown)                                                   7 columns │\n",
      "└───────────────────────────────────────────────────────────────────────────────────────────┘\n",
      "\n"
     ]
    }
   ],
   "source": [
    "with duckdb.connect('../data/cities.db') as con:\n",
    "    result = con.sql(\"SELECT *  FROM cities;\")\n",
    "    result.show()"
   ]
  }
 ],
 "metadata": {
  "kernelspec": {
   "display_name": "Python 3",
   "language": "python",
   "name": "python3"
  },
  "language_info": {
   "codemirror_mode": {
    "name": "ipython",
    "version": 3
   },
   "file_extension": ".py",
   "mimetype": "text/x-python",
   "name": "python",
   "nbconvert_exporter": "python",
   "pygments_lexer": "ipython3",
   "version": "3.12.1"
  }
 },
 "nbformat": 4,
 "nbformat_minor": 2
}
